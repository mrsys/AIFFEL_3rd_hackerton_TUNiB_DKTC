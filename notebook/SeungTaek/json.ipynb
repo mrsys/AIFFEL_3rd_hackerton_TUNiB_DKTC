{
  "nbformat": 4,
  "nbformat_minor": 0,
  "metadata": {
    "colab": {
      "name": "json.ipynb",
      "provenance": [],
      "machine_shape": "hm",
      "collapsed_sections": [],
      "authorship_tag": "ABX9TyPKyp5aTObnWdFRcc7+ecCK",
      "include_colab_link": true
    },
    "kernelspec": {
      "name": "python3",
      "display_name": "Python 3"
    },
    "language_info": {
      "name": "python"
    },
    "accelerator": "GPU"
  },
  "cells": [
    {
      "cell_type": "markdown",
      "metadata": {
        "id": "view-in-github",
        "colab_type": "text"
      },
      "source": [
        "<a href=\"https://colab.research.google.com/github/sda96/AIFFEL_3rd_hackerton_TUNiB_DKTC/blob/main/notebook/SeungTaek/json.ipynb\" target=\"_parent\"><img src=\"https://colab.research.google.com/assets/colab-badge.svg\" alt=\"Open In Colab\"/></a>"
      ]
    },
    {
      "cell_type": "code",
      "source": [
        "!gdown https://drive.google.com/uc?id=15NHQXINo1xILHiBvnCWf1XqCtrxlevtx\n",
        "!gdown https://drive.google.com/uc?id=1dvjlJlEl3VQ4mhd9CybqeEs2Uw1wzqW_"
      ],
      "metadata": {
        "colab": {
          "base_uri": "https://localhost:8080/"
        },
        "id": "TJPJaEMwnS_b",
        "outputId": "1938cb81-3830-454e-c2a9-eab7e6f9e2f1"
      },
      "execution_count": 4,
      "outputs": [
        {
          "output_type": "stream",
          "name": "stdout",
          "text": [
            "Downloading...\n",
            "From: https://drive.google.com/uc?id=15NHQXINo1xILHiBvnCWf1XqCtrxlevtx\n",
            "To: /content/SNS_train.zip\n",
            "100% 650M/650M [00:04<00:00, 130MB/s]\n",
            "Downloading...\n",
            "From: https://drive.google.com/uc?id=1dvjlJlEl3VQ4mhd9CybqeEs2Uw1wzqW_\n",
            "To: /content/SNS_valid.zip\n",
            "100% 81.3M/81.3M [00:01<00:00, 80.1MB/s]\n"
          ]
        }
      ]
    },
    {
      "cell_type": "code",
      "source": [
        "!unzip -uq \"/content/SNS_train.zip\"\n",
        "!unzip -uq \"/content/SNS_valid.zip\""
      ],
      "metadata": {
        "id": "dbWeLfV_xCxS"
      },
      "execution_count": 5,
      "outputs": []
    },
    {
      "cell_type": "code",
      "source": [
        "import pandas as pd # pandas 모듈 로드\n",
        "import json  # json 모듈 로드\n",
        "import re"
      ],
      "metadata": {
        "id": "b3ZsD_8xzrQl"
      },
      "execution_count": 6,
      "outputs": []
    },
    {
      "cell_type": "code",
      "source": [
        "json_file_path=\"/content/[라벨]한국어SNS_train/개인및관계.json\""
      ],
      "metadata": {
        "id": "m5mBSPb00Hr4"
      },
      "execution_count": 7,
      "outputs": []
    },
    {
      "cell_type": "code",
      "source": [
        "def preprocess_sentence(sentence):\n",
        "\n",
        "    sentence = re.sub(r\"[^0-9]+\", \" \", sentence)\n",
        "\n",
        "    return sentence"
      ],
      "metadata": {
        "id": "Q4o4cb5yr206"
      },
      "execution_count": 8,
      "outputs": []
    },
    {
      "cell_type": "code",
      "source": [
        "def yield_json(path):\n",
        "\n",
        "    with open(path, 'r', encoding='utf-8-sig') as j: #파일을 열어서 읽기 : r \n",
        "\n",
        "        data = json.loads(j.read()) # json파일을 dictionary 형태로 읽어서 data에 넣어준다.\n",
        "\n",
        "        for i in range(len(data['data'])):\n",
        "            df = pd.json_normalize(data['data'][i][\"body\"])\n",
        "            df['index'] = 0\n",
        "            df['turnID'] = df['turnID'].apply(preprocess_sentence)\n",
        "            df['turnID'].astype(int)\n",
        "            df = df.groupby(['turnID', 'utterance']).sum().groupby(level=[0]).cumsum()\n",
        "            yield df"
      ],
      "metadata": {
        "id": "PrXYS7vYA9B7"
      },
      "execution_count": 9,
      "outputs": []
    },
    {
      "cell_type": "code",
      "source": [
        "df = yield_json(json_file_path)"
      ],
      "metadata": {
        "id": "NV_4ojUQWXM2"
      },
      "execution_count": 10,
      "outputs": []
    },
    {
      "cell_type": "code",
      "source": [
        "next(df)"
      ],
      "metadata": {
        "colab": {
          "base_uri": "https://localhost:8080/",
          "height": 1000
        },
        "id": "zN7TtTRcWZ9I",
        "outputId": "ab1e503a-7e7f-45ca-bdba-9a5d244cd1a8"
      },
      "execution_count": 11,
      "outputs": [
        {
          "output_type": "execute_result",
          "data": {
            "text/html": [
              "\n",
              "  <div id=\"df-a14ebb42-6350-4550-9025-a96a74a12a9a\">\n",
              "    <div class=\"colab-df-container\">\n",
              "      <div>\n",
              "<style scoped>\n",
              "    .dataframe tbody tr th:only-of-type {\n",
              "        vertical-align: middle;\n",
              "    }\n",
              "\n",
              "    .dataframe tbody tr th {\n",
              "        vertical-align: top;\n",
              "    }\n",
              "\n",
              "    .dataframe thead th {\n",
              "        text-align: right;\n",
              "    }\n",
              "</style>\n",
              "<table border=\"1\" class=\"dataframe\">\n",
              "  <thead>\n",
              "    <tr style=\"text-align: right;\">\n",
              "      <th></th>\n",
              "      <th></th>\n",
              "      <th>index</th>\n",
              "    </tr>\n",
              "    <tr>\n",
              "      <th>turnID</th>\n",
              "      <th>utterance</th>\n",
              "      <th></th>\n",
              "    </tr>\n",
              "  </thead>\n",
              "  <tbody>\n",
              "    <tr>\n",
              "      <th rowspan=\"8\" valign=\"top\">1</th>\n",
              "      <th>그런생각이들어</th>\n",
              "      <td>0</td>\n",
              "    </tr>\n",
              "    <tr>\n",
              "      <th>근데지금은</th>\n",
              "      <td>0</td>\n",
              "    </tr>\n",
              "    <tr>\n",
              "      <th>나는 이해하면 안돼는거까지 이해햇엇구나</th>\n",
              "      <td>0</td>\n",
              "    </tr>\n",
              "    <tr>\n",
              "      <th>내가 전남친이랑헤어지면서 깨달앗거든</th>\n",
              "      <td>0</td>\n",
              "    </tr>\n",
              "    <tr>\n",
              "      <th>내가또 똑같은 실수를 하는건 아닌가</th>\n",
              "      <td>0</td>\n",
              "    </tr>\n",
              "    <tr>\n",
              "      <th>라는 생각이들어</th>\n",
              "      <td>0</td>\n",
              "    </tr>\n",
              "    <tr>\n",
              "      <th>오빨 너무 좋아해서 이해하면 안돼는거까지 이해하고있는건가</th>\n",
              "      <td>0</td>\n",
              "    </tr>\n",
              "    <tr>\n",
              "      <th>요새 자꾸</th>\n",
              "      <td>0</td>\n",
              "    </tr>\n",
              "    <tr>\n",
              "      <th rowspan=\"2\" valign=\"top\">2</th>\n",
              "      <th>그럼 내가</th>\n",
              "      <td>0</td>\n",
              "    </tr>\n",
              "    <tr>\n",
              "      <th>할말이 없네</th>\n",
              "      <td>0</td>\n",
              "    </tr>\n",
              "    <tr>\n",
              "      <th rowspan=\"7\" valign=\"top\">3</th>\n",
              "      <th>고치겟다던가</th>\n",
              "      <td>0</td>\n",
              "    </tr>\n",
              "    <tr>\n",
              "      <th>그런생각들게해서 미안하다던가</th>\n",
              "      <td>0</td>\n",
              "    </tr>\n",
              "    <tr>\n",
              "      <th>대답도 그렇게안햇으면좋겟어</th>\n",
              "      <td>0</td>\n",
              "    </tr>\n",
              "    <tr>\n",
              "      <th>뭐때문에그렇게생각하냐던가</th>\n",
              "      <td>0</td>\n",
              "    </tr>\n",
              "    <tr>\n",
              "      <th>여기서 할말없다고 하면 나는 고민하고 한말인데</th>\n",
              "      <td>0</td>\n",
              "    </tr>\n",
              "    <tr>\n",
              "      <th>이렇게말해야지</th>\n",
              "      <td>0</td>\n",
              "    </tr>\n",
              "    <tr>\n",
              "      <th>할말없다 이런말 싫어</th>\n",
              "      <td>0</td>\n",
              "    </tr>\n",
              "    <tr>\n",
              "      <th rowspan=\"3\" valign=\"top\">4</th>\n",
              "      <th>무슨말을하겠어</th>\n",
              "      <td>0</td>\n",
              "    </tr>\n",
              "    <tr>\n",
              "      <th>어떻게</th>\n",
              "      <td>0</td>\n",
              "    </tr>\n",
              "    <tr>\n",
              "      <th>전남친이랑 똑같은 실수인가싶다는데</th>\n",
              "      <td>0</td>\n",
              "    </tr>\n",
              "    <tr>\n",
              "      <th rowspan=\"5\" valign=\"top\">5</th>\n",
              "      <th>나 진지하게 얘기하고싶어서 꺼낸말이야</th>\n",
              "      <td>0</td>\n",
              "    </tr>\n",
              "    <tr>\n",
              "      <th>실망하고</th>\n",
              "      <td>0</td>\n",
              "    </tr>\n",
              "    <tr>\n",
              "      <th>요새자꾸 그런생각이들어서..</th>\n",
              "      <td>0</td>\n",
              "    </tr>\n",
              "    <tr>\n",
              "      <th>이해하고넘어간부분은</th>\n",
              "      <td>0</td>\n",
              "    </tr>\n",
              "    <tr>\n",
              "      <th>전혀다르긴한데</th>\n",
              "      <td>0</td>\n",
              "    </tr>\n",
              "    <tr>\n",
              "      <th rowspan=\"2\" valign=\"top\">6</th>\n",
              "      <th>그런생각들게 해서</th>\n",
              "      <td>0</td>\n",
              "    </tr>\n",
              "    <tr>\n",
              "      <th>미안해</th>\n",
              "      <td>0</td>\n",
              "    </tr>\n",
              "    <tr>\n",
              "      <th>7</th>\n",
              "      <th>뭐때문인지는 안궁금해??</th>\n",
              "      <td>0</td>\n",
              "    </tr>\n",
              "    <tr>\n",
              "      <th>8</th>\n",
              "      <th>뭐때문이야??</th>\n",
              "      <td>0</td>\n",
              "    </tr>\n",
              "    <tr>\n",
              "      <th>9</th>\n",
              "      <th>가끔 짜증너무많이낸다거나</th>\n",
              "      <td>0</td>\n",
              "    </tr>\n",
              "  </tbody>\n",
              "</table>\n",
              "</div>\n",
              "      <button class=\"colab-df-convert\" onclick=\"convertToInteractive('df-a14ebb42-6350-4550-9025-a96a74a12a9a')\"\n",
              "              title=\"Convert this dataframe to an interactive table.\"\n",
              "              style=\"display:none;\">\n",
              "        \n",
              "  <svg xmlns=\"http://www.w3.org/2000/svg\" height=\"24px\"viewBox=\"0 0 24 24\"\n",
              "       width=\"24px\">\n",
              "    <path d=\"M0 0h24v24H0V0z\" fill=\"none\"/>\n",
              "    <path d=\"M18.56 5.44l.94 2.06.94-2.06 2.06-.94-2.06-.94-.94-2.06-.94 2.06-2.06.94zm-11 1L8.5 8.5l.94-2.06 2.06-.94-2.06-.94L8.5 2.5l-.94 2.06-2.06.94zm10 10l.94 2.06.94-2.06 2.06-.94-2.06-.94-.94-2.06-.94 2.06-2.06.94z\"/><path d=\"M17.41 7.96l-1.37-1.37c-.4-.4-.92-.59-1.43-.59-.52 0-1.04.2-1.43.59L10.3 9.45l-7.72 7.72c-.78.78-.78 2.05 0 2.83L4 21.41c.39.39.9.59 1.41.59.51 0 1.02-.2 1.41-.59l7.78-7.78 2.81-2.81c.8-.78.8-2.07 0-2.86zM5.41 20L4 18.59l7.72-7.72 1.47 1.35L5.41 20z\"/>\n",
              "  </svg>\n",
              "      </button>\n",
              "      \n",
              "  <style>\n",
              "    .colab-df-container {\n",
              "      display:flex;\n",
              "      flex-wrap:wrap;\n",
              "      gap: 12px;\n",
              "    }\n",
              "\n",
              "    .colab-df-convert {\n",
              "      background-color: #E8F0FE;\n",
              "      border: none;\n",
              "      border-radius: 50%;\n",
              "      cursor: pointer;\n",
              "      display: none;\n",
              "      fill: #1967D2;\n",
              "      height: 32px;\n",
              "      padding: 0 0 0 0;\n",
              "      width: 32px;\n",
              "    }\n",
              "\n",
              "    .colab-df-convert:hover {\n",
              "      background-color: #E2EBFA;\n",
              "      box-shadow: 0px 1px 2px rgba(60, 64, 67, 0.3), 0px 1px 3px 1px rgba(60, 64, 67, 0.15);\n",
              "      fill: #174EA6;\n",
              "    }\n",
              "\n",
              "    [theme=dark] .colab-df-convert {\n",
              "      background-color: #3B4455;\n",
              "      fill: #D2E3FC;\n",
              "    }\n",
              "\n",
              "    [theme=dark] .colab-df-convert:hover {\n",
              "      background-color: #434B5C;\n",
              "      box-shadow: 0px 1px 3px 1px rgba(0, 0, 0, 0.15);\n",
              "      filter: drop-shadow(0px 1px 2px rgba(0, 0, 0, 0.3));\n",
              "      fill: #FFFFFF;\n",
              "    }\n",
              "  </style>\n",
              "\n",
              "      <script>\n",
              "        const buttonEl =\n",
              "          document.querySelector('#df-a14ebb42-6350-4550-9025-a96a74a12a9a button.colab-df-convert');\n",
              "        buttonEl.style.display =\n",
              "          google.colab.kernel.accessAllowed ? 'block' : 'none';\n",
              "\n",
              "        async function convertToInteractive(key) {\n",
              "          const element = document.querySelector('#df-a14ebb42-6350-4550-9025-a96a74a12a9a');\n",
              "          const dataTable =\n",
              "            await google.colab.kernel.invokeFunction('convertToInteractive',\n",
              "                                                     [key], {});\n",
              "          if (!dataTable) return;\n",
              "\n",
              "          const docLinkHtml = 'Like what you see? Visit the ' +\n",
              "            '<a target=\"_blank\" href=https://colab.research.google.com/notebooks/data_table.ipynb>data table notebook</a>'\n",
              "            + ' to learn more about interactive tables.';\n",
              "          element.innerHTML = '';\n",
              "          dataTable['output_type'] = 'display_data';\n",
              "          await google.colab.output.renderOutput(dataTable, element);\n",
              "          const docLink = document.createElement('div');\n",
              "          docLink.innerHTML = docLinkHtml;\n",
              "          element.appendChild(docLink);\n",
              "        }\n",
              "      </script>\n",
              "    </div>\n",
              "  </div>\n",
              "  "
            ],
            "text/plain": [
              "                                        index\n",
              "turnID utterance                             \n",
              " 1     그런생각이들어                              0\n",
              "       근데지금은                                0\n",
              "       나는 이해하면 안돼는거까지 이해햇엇구나                0\n",
              "       내가 전남친이랑헤어지면서 깨달앗거든                  0\n",
              "       내가또 똑같은 실수를 하는건 아닌가                  0\n",
              "       라는 생각이들어                             0\n",
              "       오빨 너무 좋아해서 이해하면 안돼는거까지 이해하고있는건가      0\n",
              "       요새 자꾸                                0\n",
              " 2     그럼 내가                                0\n",
              "       할말이 없네                               0\n",
              " 3     고치겟다던가                               0\n",
              "       그런생각들게해서 미안하다던가                      0\n",
              "       대답도 그렇게안햇으면좋겟어                       0\n",
              "       뭐때문에그렇게생각하냐던가                        0\n",
              "       여기서 할말없다고 하면 나는 고민하고 한말인데            0\n",
              "       이렇게말해야지                              0\n",
              "       할말없다 이런말 싫어                          0\n",
              " 4     무슨말을하겠어                              0\n",
              "       어떻게                                  0\n",
              "       전남친이랑 똑같은 실수인가싶다는데                   0\n",
              " 5     나 진지하게 얘기하고싶어서 꺼낸말이야                 0\n",
              "       실망하고                                 0\n",
              "       요새자꾸 그런생각이들어서..                      0\n",
              "       이해하고넘어간부분은                           0\n",
              "       전혀다르긴한데                              0\n",
              " 6     그런생각들게 해서                            0\n",
              "       미안해                                  0\n",
              " 7     뭐때문인지는 안궁금해??                        0\n",
              " 8     뭐때문이야??                              0\n",
              " 9     가끔 짜증너무많이낸다거나                        0"
            ]
          },
          "metadata": {},
          "execution_count": 11
        }
      ]
    },
    {
      "cell_type": "code",
      "source": [
        "len(contents['data'])"
      ],
      "metadata": {
        "id": "NB7nYMjkMecZ"
      },
      "execution_count": null,
      "outputs": []
    },
    {
      "cell_type": "code",
      "source": [
        "for i in range(len(contents['data'][1]['body'])):\n",
        "    print(contents['data'][1]['body'][i]['participantID'])  \n",
        "    print(contents['data'][1]['body'][i]['utterance'])"
      ],
      "metadata": {
        "id": "eusZG3kZJVza"
      },
      "execution_count": null,
      "outputs": []
    },
    {
      "cell_type": "code",
      "source": [
        ""
      ],
      "metadata": {
        "id": "rp8vx91qPXdB"
      },
      "execution_count": null,
      "outputs": []
    }
  ]
}