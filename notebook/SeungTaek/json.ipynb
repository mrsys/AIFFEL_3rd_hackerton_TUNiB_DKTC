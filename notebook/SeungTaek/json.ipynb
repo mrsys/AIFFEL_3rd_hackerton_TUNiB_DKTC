{
  "nbformat": 4,
  "nbformat_minor": 0,
  "metadata": {
    "colab": {
      "name": "json.ipynb",
      "provenance": [],
      "machine_shape": "hm",
      "collapsed_sections": [],
      "authorship_tag": "ABX9TyPYKJY/gJgnqOm48jJcErBb",
      "include_colab_link": true
    },
    "kernelspec": {
      "name": "python3",
      "display_name": "Python 3"
    },
    "language_info": {
      "name": "python"
    }
  },
  "cells": [
    {
      "cell_type": "markdown",
      "metadata": {
        "id": "view-in-github",
        "colab_type": "text"
      },
      "source": [
        "<a href=\"https://colab.research.google.com/github/sda96/AIFFEL_3rd_hackerton_TUNiB_DKTC/blob/main/notebook/SeungTaek/json.ipynb\" target=\"_parent\"><img src=\"https://colab.research.google.com/assets/colab-badge.svg\" alt=\"Open In Colab\"/></a>"
      ]
    },
    {
      "cell_type": "code",
      "source": [
        "import pandas as pd # pandas 모듈 로드\n",
        "import json  # json 모듈 로드\n",
        "import re\n",
        "import os\n",
        "from glob import glob\n",
        "from tqdm import tqdm"
      ],
      "metadata": {
        "id": "j93fl53sYvqq"
      },
      "execution_count": 1,
      "outputs": []
    },
    {
      "cell_type": "code",
      "source": [
        "!gdown https://drive.google.com/uc?id=15NHQXINo1xILHiBvnCWf1XqCtrxlevtx\n",
        "!gdown https://drive.google.com/uc?id=1dvjlJlEl3VQ4mhd9CybqeEs2Uw1wzqW_"
      ],
      "metadata": {
        "colab": {
          "base_uri": "https://localhost:8080/"
        },
        "id": "TJPJaEMwnS_b",
        "outputId": "94df975b-11ef-4b7c-ab42-165f26c4e25a"
      },
      "execution_count": 2,
      "outputs": [
        {
          "output_type": "stream",
          "name": "stdout",
          "text": [
            "Downloading...\n",
            "From: https://drive.google.com/uc?id=15NHQXINo1xILHiBvnCWf1XqCtrxlevtx\n",
            "To: /content/SNS_train.zip\n",
            "100% 650M/650M [00:12<00:00, 51.7MB/s]\n",
            "Downloading...\n",
            "From: https://drive.google.com/uc?id=1dvjlJlEl3VQ4mhd9CybqeEs2Uw1wzqW_\n",
            "To: /content/SNS_valid.zip\n",
            "100% 81.3M/81.3M [00:01<00:00, 43.5MB/s]\n"
          ]
        }
      ]
    },
    {
      "cell_type": "code",
      "source": [
        "!unzip -uq \"/content/SNS_train.zip\" -d \"/content/sns_data\"\n",
        "!unzip -uq \"/content/SNS_valid.zip\" -d \"/content/sns_data\""
      ],
      "metadata": {
        "id": "dbWeLfV_xCxS"
      },
      "execution_count": 3,
      "outputs": []
    },
    {
      "cell_type": "code",
      "source": [
        "json_file_path=\"/content/[라벨]한국어SNS_train/개인및관계.json\"\n",
        "data_path = \"/content/sns_data\"\n",
        "files = glob(data_path + \"/*/*\")\n",
        "files"
      ],
      "metadata": {
        "id": "m5mBSPb00Hr4",
        "colab": {
          "base_uri": "https://localhost:8080/"
        },
        "outputId": "79f35dbb-ed80-4409-f7b5-d9aacb71864e"
      },
      "execution_count": 4,
      "outputs": [
        {
          "output_type": "execute_result",
          "data": {
            "text/plain": [
              "['/content/sns_data/[라벨]한국어SNS_train/주거와생활.json',\n",
              " '/content/sns_data/[라벨]한국어SNS_train/식음료.json',\n",
              " '/content/sns_data/[라벨]한국어SNS_train/여가생활.json',\n",
              " '/content/sns_data/[라벨]한국어SNS_train/개인및관계.json',\n",
              " '/content/sns_data/[라벨]한국어SNS_train/미용과건강.json',\n",
              " '/content/sns_data/[라벨]한국어SNS_train/시사교육.json',\n",
              " '/content/sns_data/[라벨]한국어SNS_train/상거래(쇼핑).json',\n",
              " '/content/sns_data/[라벨]한국어SNS_train/일과직업.json',\n",
              " '/content/sns_data/[라벨]한국어SNS_train/행사.json',\n",
              " '/content/sns_data/[라벨]한국어SNS_valid/주거와생활.json',\n",
              " '/content/sns_data/[라벨]한국어SNS_valid/식음료.json',\n",
              " '/content/sns_data/[라벨]한국어SNS_valid/여가생활.json',\n",
              " '/content/sns_data/[라벨]한국어SNS_valid/개인및관계.json',\n",
              " '/content/sns_data/[라벨]한국어SNS_valid/미용과건강.json',\n",
              " '/content/sns_data/[라벨]한국어SNS_valid/시사교육.json',\n",
              " '/content/sns_data/[라벨]한국어SNS_valid/상거래(쇼핑).json',\n",
              " '/content/sns_data/[라벨]한국어SNS_valid/일과직업.json',\n",
              " '/content/sns_data/[라벨]한국어SNS_valid/행사.json']"
            ]
          },
          "metadata": {},
          "execution_count": 4
        }
      ]
    },
    {
      "cell_type": "code",
      "source": [
        "files[17:18]"
      ],
      "metadata": {
        "colab": {
          "base_uri": "https://localhost:8080/"
        },
        "id": "a5LVps1EFUUJ",
        "outputId": "2b9be53b-41c4-4f0f-a7d4-ec46b1a75615"
      },
      "execution_count": 120,
      "outputs": [
        {
          "output_type": "execute_result",
          "data": {
            "text/plain": [
              "['/content/sns_data/[라벨]한국어SNS_valid/행사.json']"
            ]
          },
          "metadata": {},
          "execution_count": 120
        }
      ]
    },
    {
      "cell_type": "code",
      "source": [
        "def preprocess_sentence(sentence):\n",
        "\n",
        "    sentence = re.sub(r\"[^0-9]+\", \" \", sentence)\n",
        "    sentence = sentence.strip()\n",
        "    sentence = sentence.zfill(2)\n",
        "    return sentence"
      ],
      "metadata": {
        "id": "Q4o4cb5yr206"
      },
      "execution_count": 45,
      "outputs": []
    },
    {
      "cell_type": "code",
      "source": [
        "bucket_text = []\n",
        "for json_file in tqdm(files[17:18]):\n",
        "    with open(json_file, \"r\") as f:\n",
        "        data_dict = json.load(f)\n",
        "        data_dict = data_dict[\"data\"]\n",
        "        sentence = []\n",
        "        for j in data_dict:\n",
        "            df = pd.json_normalize(j[\"body\"])\n",
        "            a = []\n",
        "            for i in range(len(df)):\n",
        "                b = ''\n",
        "                if i == 0:\n",
        "                    b += df['utterance'][i]\n",
        "                else:\n",
        "                    if df['turnID'][i] == df['turnID'][i-1]:\n",
        "                        b += ' ' + df['utterance'][i]\n",
        "                    else:\n",
        "                        b += '\\n' + df['utterance'][i]\n",
        "                a.append(b)\n",
        "            sentence.append(''.join(a))\n",
        "\n",
        "    bucket_text.append(sentence)"
      ],
      "metadata": {
        "colab": {
          "base_uri": "https://localhost:8080/"
        },
        "id": "a75K8dqxZkiL",
        "outputId": "84efccc8-5e5e-491e-adf1-cb38816a6855"
      },
      "execution_count": 121,
      "outputs": [
        {
          "output_type": "stream",
          "name": "stderr",
          "text": [
            "100%|██████████| 1/1 [00:30<00:00, 30.30s/it]\n"
          ]
        }
      ]
    },
    {
      "cell_type": "code",
      "source": [
        "df = pd.DataFrame(bucket_text)\n",
        "df = df.T\n",
        "df.head()"
      ],
      "metadata": {
        "colab": {
          "base_uri": "https://localhost:8080/",
          "height": 206
        },
        "id": "N09zY0RZJl55",
        "outputId": "ba97b6e2-de07-4a6b-92d1-41c65acec7c7"
      },
      "execution_count": 122,
      "outputs": [
        {
          "output_type": "execute_result",
          "data": {
            "text/html": [
              "\n",
              "  <div id=\"df-9a34705b-fdbe-4c10-a4c1-7dd8d77bf295\">\n",
              "    <div class=\"colab-df-container\">\n",
              "      <div>\n",
              "<style scoped>\n",
              "    .dataframe tbody tr th:only-of-type {\n",
              "        vertical-align: middle;\n",
              "    }\n",
              "\n",
              "    .dataframe tbody tr th {\n",
              "        vertical-align: top;\n",
              "    }\n",
              "\n",
              "    .dataframe thead th {\n",
              "        text-align: right;\n",
              "    }\n",
              "</style>\n",
              "<table border=\"1\" class=\"dataframe\">\n",
              "  <thead>\n",
              "    <tr style=\"text-align: right;\">\n",
              "      <th></th>\n",
              "      <th>0</th>\n",
              "    </tr>\n",
              "  </thead>\n",
              "  <tbody>\n",
              "    <tr>\n",
              "      <th>0</th>\n",
              "      <td>#@시스템#사진# 죽일까.... 버스타고 징승포가야하나..\\n낼갈래? 아님갔다올래\\...</td>\n",
              "    </tr>\n",
              "    <tr>\n",
              "      <th>1</th>\n",
              "      <td>아냐 한번먹엇을걸 그리고나서 여기보다 남구로가맛잇다고 계속 거기로만갔을거야 근데 뭐...</td>\n",
              "    </tr>\n",
              "    <tr>\n",
              "      <th>2</th>\n",
              "      <td>토 밤 가능 금 밤 가능이랭\\n금밤은 아주저냑 열시될듯\\n허버허버\\n저녁약속잇삼\\n...</td>\n",
              "    </tr>\n",
              "    <tr>\n",
              "      <th>3</th>\n",
              "      <td>오전비행기가 싹 없어 일욜이라서 그런건가? 근데 #@이름# 너도 갈거야?\\n갈걸여ㅋ...</td>\n",
              "    </tr>\n",
              "    <tr>\n",
              "      <th>4</th>\n",
              "      <td>여름에 예매하쟈\\nㅎㅎ아 진짜 알바 해야겟다 다음 방학\\n퓨ㅠㅠㅠㅠㅠ나두...\\n너...</td>\n",
              "    </tr>\n",
              "  </tbody>\n",
              "</table>\n",
              "</div>\n",
              "      <button class=\"colab-df-convert\" onclick=\"convertToInteractive('df-9a34705b-fdbe-4c10-a4c1-7dd8d77bf295')\"\n",
              "              title=\"Convert this dataframe to an interactive table.\"\n",
              "              style=\"display:none;\">\n",
              "        \n",
              "  <svg xmlns=\"http://www.w3.org/2000/svg\" height=\"24px\"viewBox=\"0 0 24 24\"\n",
              "       width=\"24px\">\n",
              "    <path d=\"M0 0h24v24H0V0z\" fill=\"none\"/>\n",
              "    <path d=\"M18.56 5.44l.94 2.06.94-2.06 2.06-.94-2.06-.94-.94-2.06-.94 2.06-2.06.94zm-11 1L8.5 8.5l.94-2.06 2.06-.94-2.06-.94L8.5 2.5l-.94 2.06-2.06.94zm10 10l.94 2.06.94-2.06 2.06-.94-2.06-.94-.94-2.06-.94 2.06-2.06.94z\"/><path d=\"M17.41 7.96l-1.37-1.37c-.4-.4-.92-.59-1.43-.59-.52 0-1.04.2-1.43.59L10.3 9.45l-7.72 7.72c-.78.78-.78 2.05 0 2.83L4 21.41c.39.39.9.59 1.41.59.51 0 1.02-.2 1.41-.59l7.78-7.78 2.81-2.81c.8-.78.8-2.07 0-2.86zM5.41 20L4 18.59l7.72-7.72 1.47 1.35L5.41 20z\"/>\n",
              "  </svg>\n",
              "      </button>\n",
              "      \n",
              "  <style>\n",
              "    .colab-df-container {\n",
              "      display:flex;\n",
              "      flex-wrap:wrap;\n",
              "      gap: 12px;\n",
              "    }\n",
              "\n",
              "    .colab-df-convert {\n",
              "      background-color: #E8F0FE;\n",
              "      border: none;\n",
              "      border-radius: 50%;\n",
              "      cursor: pointer;\n",
              "      display: none;\n",
              "      fill: #1967D2;\n",
              "      height: 32px;\n",
              "      padding: 0 0 0 0;\n",
              "      width: 32px;\n",
              "    }\n",
              "\n",
              "    .colab-df-convert:hover {\n",
              "      background-color: #E2EBFA;\n",
              "      box-shadow: 0px 1px 2px rgba(60, 64, 67, 0.3), 0px 1px 3px 1px rgba(60, 64, 67, 0.15);\n",
              "      fill: #174EA6;\n",
              "    }\n",
              "\n",
              "    [theme=dark] .colab-df-convert {\n",
              "      background-color: #3B4455;\n",
              "      fill: #D2E3FC;\n",
              "    }\n",
              "\n",
              "    [theme=dark] .colab-df-convert:hover {\n",
              "      background-color: #434B5C;\n",
              "      box-shadow: 0px 1px 3px 1px rgba(0, 0, 0, 0.15);\n",
              "      filter: drop-shadow(0px 1px 2px rgba(0, 0, 0, 0.3));\n",
              "      fill: #FFFFFF;\n",
              "    }\n",
              "  </style>\n",
              "\n",
              "      <script>\n",
              "        const buttonEl =\n",
              "          document.querySelector('#df-9a34705b-fdbe-4c10-a4c1-7dd8d77bf295 button.colab-df-convert');\n",
              "        buttonEl.style.display =\n",
              "          google.colab.kernel.accessAllowed ? 'block' : 'none';\n",
              "\n",
              "        async function convertToInteractive(key) {\n",
              "          const element = document.querySelector('#df-9a34705b-fdbe-4c10-a4c1-7dd8d77bf295');\n",
              "          const dataTable =\n",
              "            await google.colab.kernel.invokeFunction('convertToInteractive',\n",
              "                                                     [key], {});\n",
              "          if (!dataTable) return;\n",
              "\n",
              "          const docLinkHtml = 'Like what you see? Visit the ' +\n",
              "            '<a target=\"_blank\" href=https://colab.research.google.com/notebooks/data_table.ipynb>data table notebook</a>'\n",
              "            + ' to learn more about interactive tables.';\n",
              "          element.innerHTML = '';\n",
              "          dataTable['output_type'] = 'display_data';\n",
              "          await google.colab.output.renderOutput(dataTable, element);\n",
              "          const docLink = document.createElement('div');\n",
              "          docLink.innerHTML = docLinkHtml;\n",
              "          element.appendChild(docLink);\n",
              "        }\n",
              "      </script>\n",
              "    </div>\n",
              "  </div>\n",
              "  "
            ],
            "text/plain": [
              "                                                   0\n",
              "0  #@시스템#사진# 죽일까.... 버스타고 징승포가야하나..\\n낼갈래? 아님갔다올래\\...\n",
              "1  아냐 한번먹엇을걸 그리고나서 여기보다 남구로가맛잇다고 계속 거기로만갔을거야 근데 뭐...\n",
              "2  토 밤 가능 금 밤 가능이랭\\n금밤은 아주저냑 열시될듯\\n허버허버\\n저녁약속잇삼\\n...\n",
              "3  오전비행기가 싹 없어 일욜이라서 그런건가? 근데 #@이름# 너도 갈거야?\\n갈걸여ㅋ...\n",
              "4  여름에 예매하쟈\\nㅎㅎ아 진짜 알바 해야겟다 다음 방학\\n퓨ㅠㅠㅠㅠㅠ나두...\\n너..."
            ]
          },
          "metadata": {},
          "execution_count": 122
        }
      ]
    },
    {
      "cell_type": "code",
      "source": [
        "#!mkdir /content/sns_csv_val"
      ],
      "metadata": {
        "id": "8lQF5OgsKI_P"
      },
      "execution_count": 78,
      "outputs": []
    },
    {
      "cell_type": "code",
      "source": [
        "df.to_csv(\"/content/sns_csv_val/행사.csv\", header = True, index = False)"
      ],
      "metadata": {
        "id": "7nfK6XT5V8tN"
      },
      "execution_count": 123,
      "outputs": []
    },
    {
      "cell_type": "code",
      "source": [
        "df2 = pd.read_csv(\"/content/sns_csv_val/행사.csv\")\n",
        "df2.head()"
      ],
      "metadata": {
        "colab": {
          "base_uri": "https://localhost:8080/",
          "height": 206
        },
        "id": "8qmIqt6XWBHe",
        "outputId": "ca3c813c-4519-456f-9303-b6b09a31859b"
      },
      "execution_count": 124,
      "outputs": [
        {
          "output_type": "execute_result",
          "data": {
            "text/html": [
              "\n",
              "  <div id=\"df-8485eaf5-65d6-424c-90e0-67c2d55ca42b\">\n",
              "    <div class=\"colab-df-container\">\n",
              "      <div>\n",
              "<style scoped>\n",
              "    .dataframe tbody tr th:only-of-type {\n",
              "        vertical-align: middle;\n",
              "    }\n",
              "\n",
              "    .dataframe tbody tr th {\n",
              "        vertical-align: top;\n",
              "    }\n",
              "\n",
              "    .dataframe thead th {\n",
              "        text-align: right;\n",
              "    }\n",
              "</style>\n",
              "<table border=\"1\" class=\"dataframe\">\n",
              "  <thead>\n",
              "    <tr style=\"text-align: right;\">\n",
              "      <th></th>\n",
              "      <th>0</th>\n",
              "    </tr>\n",
              "  </thead>\n",
              "  <tbody>\n",
              "    <tr>\n",
              "      <th>0</th>\n",
              "      <td>#@시스템#사진# 죽일까.... 버스타고 징승포가야하나..\\n낼갈래? 아님갔다올래\\...</td>\n",
              "    </tr>\n",
              "    <tr>\n",
              "      <th>1</th>\n",
              "      <td>아냐 한번먹엇을걸 그리고나서 여기보다 남구로가맛잇다고 계속 거기로만갔을거야 근데 뭐...</td>\n",
              "    </tr>\n",
              "    <tr>\n",
              "      <th>2</th>\n",
              "      <td>토 밤 가능 금 밤 가능이랭\\n금밤은 아주저냑 열시될듯\\n허버허버\\n저녁약속잇삼\\n...</td>\n",
              "    </tr>\n",
              "    <tr>\n",
              "      <th>3</th>\n",
              "      <td>오전비행기가 싹 없어 일욜이라서 그런건가? 근데 #@이름# 너도 갈거야?\\n갈걸여ㅋ...</td>\n",
              "    </tr>\n",
              "    <tr>\n",
              "      <th>4</th>\n",
              "      <td>여름에 예매하쟈\\nㅎㅎ아 진짜 알바 해야겟다 다음 방학\\n퓨ㅠㅠㅠㅠㅠ나두...\\n너...</td>\n",
              "    </tr>\n",
              "  </tbody>\n",
              "</table>\n",
              "</div>\n",
              "      <button class=\"colab-df-convert\" onclick=\"convertToInteractive('df-8485eaf5-65d6-424c-90e0-67c2d55ca42b')\"\n",
              "              title=\"Convert this dataframe to an interactive table.\"\n",
              "              style=\"display:none;\">\n",
              "        \n",
              "  <svg xmlns=\"http://www.w3.org/2000/svg\" height=\"24px\"viewBox=\"0 0 24 24\"\n",
              "       width=\"24px\">\n",
              "    <path d=\"M0 0h24v24H0V0z\" fill=\"none\"/>\n",
              "    <path d=\"M18.56 5.44l.94 2.06.94-2.06 2.06-.94-2.06-.94-.94-2.06-.94 2.06-2.06.94zm-11 1L8.5 8.5l.94-2.06 2.06-.94-2.06-.94L8.5 2.5l-.94 2.06-2.06.94zm10 10l.94 2.06.94-2.06 2.06-.94-2.06-.94-.94-2.06-.94 2.06-2.06.94z\"/><path d=\"M17.41 7.96l-1.37-1.37c-.4-.4-.92-.59-1.43-.59-.52 0-1.04.2-1.43.59L10.3 9.45l-7.72 7.72c-.78.78-.78 2.05 0 2.83L4 21.41c.39.39.9.59 1.41.59.51 0 1.02-.2 1.41-.59l7.78-7.78 2.81-2.81c.8-.78.8-2.07 0-2.86zM5.41 20L4 18.59l7.72-7.72 1.47 1.35L5.41 20z\"/>\n",
              "  </svg>\n",
              "      </button>\n",
              "      \n",
              "  <style>\n",
              "    .colab-df-container {\n",
              "      display:flex;\n",
              "      flex-wrap:wrap;\n",
              "      gap: 12px;\n",
              "    }\n",
              "\n",
              "    .colab-df-convert {\n",
              "      background-color: #E8F0FE;\n",
              "      border: none;\n",
              "      border-radius: 50%;\n",
              "      cursor: pointer;\n",
              "      display: none;\n",
              "      fill: #1967D2;\n",
              "      height: 32px;\n",
              "      padding: 0 0 0 0;\n",
              "      width: 32px;\n",
              "    }\n",
              "\n",
              "    .colab-df-convert:hover {\n",
              "      background-color: #E2EBFA;\n",
              "      box-shadow: 0px 1px 2px rgba(60, 64, 67, 0.3), 0px 1px 3px 1px rgba(60, 64, 67, 0.15);\n",
              "      fill: #174EA6;\n",
              "    }\n",
              "\n",
              "    [theme=dark] .colab-df-convert {\n",
              "      background-color: #3B4455;\n",
              "      fill: #D2E3FC;\n",
              "    }\n",
              "\n",
              "    [theme=dark] .colab-df-convert:hover {\n",
              "      background-color: #434B5C;\n",
              "      box-shadow: 0px 1px 3px 1px rgba(0, 0, 0, 0.15);\n",
              "      filter: drop-shadow(0px 1px 2px rgba(0, 0, 0, 0.3));\n",
              "      fill: #FFFFFF;\n",
              "    }\n",
              "  </style>\n",
              "\n",
              "      <script>\n",
              "        const buttonEl =\n",
              "          document.querySelector('#df-8485eaf5-65d6-424c-90e0-67c2d55ca42b button.colab-df-convert');\n",
              "        buttonEl.style.display =\n",
              "          google.colab.kernel.accessAllowed ? 'block' : 'none';\n",
              "\n",
              "        async function convertToInteractive(key) {\n",
              "          const element = document.querySelector('#df-8485eaf5-65d6-424c-90e0-67c2d55ca42b');\n",
              "          const dataTable =\n",
              "            await google.colab.kernel.invokeFunction('convertToInteractive',\n",
              "                                                     [key], {});\n",
              "          if (!dataTable) return;\n",
              "\n",
              "          const docLinkHtml = 'Like what you see? Visit the ' +\n",
              "            '<a target=\"_blank\" href=https://colab.research.google.com/notebooks/data_table.ipynb>data table notebook</a>'\n",
              "            + ' to learn more about interactive tables.';\n",
              "          element.innerHTML = '';\n",
              "          dataTable['output_type'] = 'display_data';\n",
              "          await google.colab.output.renderOutput(dataTable, element);\n",
              "          const docLink = document.createElement('div');\n",
              "          docLink.innerHTML = docLinkHtml;\n",
              "          element.appendChild(docLink);\n",
              "        }\n",
              "      </script>\n",
              "    </div>\n",
              "  </div>\n",
              "  "
            ],
            "text/plain": [
              "                                                   0\n",
              "0  #@시스템#사진# 죽일까.... 버스타고 징승포가야하나..\\n낼갈래? 아님갔다올래\\...\n",
              "1  아냐 한번먹엇을걸 그리고나서 여기보다 남구로가맛잇다고 계속 거기로만갔을거야 근데 뭐...\n",
              "2  토 밤 가능 금 밤 가능이랭\\n금밤은 아주저냑 열시될듯\\n허버허버\\n저녁약속잇삼\\n...\n",
              "3  오전비행기가 싹 없어 일욜이라서 그런건가? 근데 #@이름# 너도 갈거야?\\n갈걸여ㅋ...\n",
              "4  여름에 예매하쟈\\nㅎㅎ아 진짜 알바 해야겟다 다음 방학\\n퓨ㅠㅠㅠㅠㅠ나두...\\n너..."
            ]
          },
          "metadata": {},
          "execution_count": 124
        }
      ]
    },
    {
      "cell_type": "code",
      "source": [
        "!zip -r /content/sns_train.zip /content/sns_csv_train/\n",
        "!zip -r /content/sns_val.zip /content/sns_csv_val/"
      ],
      "metadata": {
        "id": "WYV0qOJr0AH_",
        "colab": {
          "base_uri": "https://localhost:8080/"
        },
        "outputId": "87fa569e-ad31-44da-b0d6-7927b527531c"
      },
      "execution_count": 129,
      "outputs": [
        {
          "output_type": "stream",
          "name": "stdout",
          "text": [
            "  adding: content/sns_csv_train/ (stored 0%)\n",
            "  adding: content/sns_csv_train/상거래(쇼핑).csv (deflated 60%)\n",
            "  adding: content/sns_csv_train/주거와생활.csv (deflated 59%)\n",
            "  adding: content/sns_csv_train/.ipynb_checkpoints/ (stored 0%)\n",
            "  adding: content/sns_csv_train/미용과건강.csv (deflated 60%)\n",
            "  adding: content/sns_csv_train/일과직업.csv (deflated 61%)\n",
            "  adding: content/sns_csv_train/행사.csv (deflated 60%)\n",
            "  adding: content/sns_csv_train/식음료.csv (deflated 61%)\n",
            "  adding: content/sns_csv_train/시사교육.csv (deflated 60%)\n",
            "  adding: content/sns_csv_train/개인및관계.csv (deflated 61%)\n",
            "  adding: content/sns_csv_train/여가생활.csv (deflated 60%)\n",
            "  adding: content/sns_csv_val/ (stored 0%)\n",
            "  adding: content/sns_csv_val/상거래(쇼핑).csv (deflated 60%)\n",
            "  adding: content/sns_csv_val/주거와생활.csv (deflated 59%)\n",
            "  adding: content/sns_csv_val/미용과건강.csv (deflated 60%)\n",
            "  adding: content/sns_csv_val/일과직업.csv (deflated 61%)\n",
            "  adding: content/sns_csv_val/행사.csv (deflated 60%)\n",
            "  adding: content/sns_csv_val/식음료.csv (deflated 61%)\n",
            "  adding: content/sns_csv_val/시사교육.csv (deflated 60%)\n",
            "  adding: content/sns_csv_val/개인및관계.csv (deflated 61%)\n",
            "  adding: content/sns_csv_val/여가생활.csv (deflated 60%)\n"
          ]
        }
      ]
    },
    {
      "cell_type": "code",
      "source": [
        "from google.colab import files\n",
        "\n",
        "files.download('/content/sns_train.zip')\n",
        "files.download('/content/sns_val.zip')"
      ],
      "metadata": {
        "colab": {
          "base_uri": "https://localhost:8080/",
          "height": 17
        },
        "id": "TjZYzoZ9fHLW",
        "outputId": "361c8940-5431-4974-f75e-f72ad60becdf"
      },
      "execution_count": 130,
      "outputs": [
        {
          "output_type": "display_data",
          "data": {
            "application/javascript": [
              "\n",
              "    async function download(id, filename, size) {\n",
              "      if (!google.colab.kernel.accessAllowed) {\n",
              "        return;\n",
              "      }\n",
              "      const div = document.createElement('div');\n",
              "      const label = document.createElement('label');\n",
              "      label.textContent = `Downloading \"${filename}\": `;\n",
              "      div.appendChild(label);\n",
              "      const progress = document.createElement('progress');\n",
              "      progress.max = size;\n",
              "      div.appendChild(progress);\n",
              "      document.body.appendChild(div);\n",
              "\n",
              "      const buffers = [];\n",
              "      let downloaded = 0;\n",
              "\n",
              "      const channel = await google.colab.kernel.comms.open(id);\n",
              "      // Send a message to notify the kernel that we're ready.\n",
              "      channel.send({})\n",
              "\n",
              "      for await (const message of channel.messages) {\n",
              "        // Send a message to notify the kernel that we're ready.\n",
              "        channel.send({})\n",
              "        if (message.buffers) {\n",
              "          for (const buffer of message.buffers) {\n",
              "            buffers.push(buffer);\n",
              "            downloaded += buffer.byteLength;\n",
              "            progress.value = downloaded;\n",
              "          }\n",
              "        }\n",
              "      }\n",
              "      const blob = new Blob(buffers, {type: 'application/binary'});\n",
              "      const a = document.createElement('a');\n",
              "      a.href = window.URL.createObjectURL(blob);\n",
              "      a.download = filename;\n",
              "      div.appendChild(a);\n",
              "      a.click();\n",
              "      div.remove();\n",
              "    }\n",
              "  "
            ],
            "text/plain": [
              "<IPython.core.display.Javascript object>"
            ]
          },
          "metadata": {}
        },
        {
          "output_type": "display_data",
          "data": {
            "application/javascript": [
              "download(\"download_23c1c909-aaaa-4459-b257-a594f132b996\", \"sns_train.zip\", 278081010)"
            ],
            "text/plain": [
              "<IPython.core.display.Javascript object>"
            ]
          },
          "metadata": {}
        }
      ]
    },
    {
      "cell_type": "code",
      "source": [
        ""
      ],
      "metadata": {
        "id": "_O_qWxr5lMya"
      },
      "execution_count": null,
      "outputs": []
    }
  ]
}