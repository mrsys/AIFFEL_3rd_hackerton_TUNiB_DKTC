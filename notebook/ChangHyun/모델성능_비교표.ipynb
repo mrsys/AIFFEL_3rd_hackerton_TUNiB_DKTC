{
  "nbformat": 4,
  "nbformat_minor": 0,
  "metadata": {
    "colab": {
      "name": "모델성능 비교표.ipynb",
      "provenance": [],
      "collapsed_sections": [
        "ZZHhuA885zx7",
        "6Aj65TI09-hh",
        "c9SfopjPoBSg"
      ],
      "mount_file_id": "10pZ56av4QAyBZFGX-UTN5nK356Mymvs0",
      "authorship_tag": "ABX9TyPS1gJJaeUFRedqJ1JDsH8k",
      "include_colab_link": true
    },
    "kernelspec": {
      "name": "python3",
      "display_name": "Python 3"
    },
    "language_info": {
      "name": "python"
    },
    "accelerator": "GPU"
  },
  "cells": [
    {
      "cell_type": "markdown",
      "metadata": {
        "id": "view-in-github",
        "colab_type": "text"
      },
      "source": [
        "<a href=\"https://colab.research.google.com/github/sda96/AIFFEL_3rd_hackerton_TUNiB_DKTC/blob/main/notebook/ChangHyun/%EB%AA%A8%EB%8D%B8%EC%84%B1%EB%8A%A5_%EB%B9%84%EA%B5%90%ED%91%9C.ipynb\" target=\"_parent\"><img src=\"https://colab.research.google.com/assets/colab-badge.svg\" alt=\"Open In Colab\"/></a>"
      ]
    },
    {
      "cell_type": "markdown",
      "source": [
        "## 환경 설정"
      ],
      "metadata": {
        "id": "VqoilTk0nX7p"
      }
    },
    {
      "cell_type": "markdown",
      "source": [
        "#### 필요한 패키지 설치하기"
      ],
      "metadata": {
        "id": "1QgV6vNwnavZ"
      }
    },
    {
      "cell_type": "code",
      "execution_count": null,
      "metadata": {
        "colab": {
          "base_uri": "https://localhost:8080/"
        },
        "id": "eywEpH7amP9l",
        "outputId": "db8376ac-5f00-4a32-8af5-213e35215fd0"
      },
      "outputs": [
        {
          "output_type": "stream",
          "name": "stdout",
          "text": [
            "Collecting transformers\n",
            "  Downloading transformers-4.16.0-py3-none-any.whl (3.5 MB)\n",
            "\u001b[K     |████████████████████████████████| 3.5 MB 4.2 MB/s \n",
            "\u001b[?25hRequirement already satisfied: regex!=2019.12.17 in /usr/local/lib/python3.7/dist-packages (from transformers) (2019.12.20)\n",
            "Requirement already satisfied: importlib-metadata in /usr/local/lib/python3.7/dist-packages (from transformers) (4.10.1)\n",
            "Collecting tokenizers!=0.11.3,>=0.10.1\n",
            "  Downloading tokenizers-0.11.4-cp37-cp37m-manylinux_2_12_x86_64.manylinux2010_x86_64.whl (6.8 MB)\n",
            "\u001b[K     |████████████████████████████████| 6.8 MB 16.3 MB/s \n",
            "\u001b[?25hRequirement already satisfied: packaging>=20.0 in /usr/local/lib/python3.7/dist-packages (from transformers) (21.3)\n",
            "Collecting huggingface-hub<1.0,>=0.1.0\n",
            "  Downloading huggingface_hub-0.4.0-py3-none-any.whl (67 kB)\n",
            "\u001b[K     |████████████████████████████████| 67 kB 7.8 MB/s \n",
            "\u001b[?25hCollecting pyyaml>=5.1\n",
            "  Downloading PyYAML-6.0-cp37-cp37m-manylinux_2_5_x86_64.manylinux1_x86_64.manylinux_2_12_x86_64.manylinux2010_x86_64.whl (596 kB)\n",
            "\u001b[K     |████████████████████████████████| 596 kB 69.8 MB/s \n",
            "\u001b[?25hRequirement already satisfied: requests in /usr/local/lib/python3.7/dist-packages (from transformers) (2.23.0)\n",
            "Requirement already satisfied: tqdm>=4.27 in /usr/local/lib/python3.7/dist-packages (from transformers) (4.62.3)\n",
            "Requirement already satisfied: filelock in /usr/local/lib/python3.7/dist-packages (from transformers) (3.4.2)\n",
            "Collecting sacremoses\n",
            "  Downloading sacremoses-0.0.47-py2.py3-none-any.whl (895 kB)\n",
            "\u001b[K     |████████████████████████████████| 895 kB 62.8 MB/s \n",
            "\u001b[?25hRequirement already satisfied: numpy>=1.17 in /usr/local/lib/python3.7/dist-packages (from transformers) (1.19.5)\n",
            "Requirement already satisfied: typing-extensions>=3.7.4.3 in /usr/local/lib/python3.7/dist-packages (from huggingface-hub<1.0,>=0.1.0->transformers) (3.10.0.2)\n",
            "Requirement already satisfied: pyparsing!=3.0.5,>=2.0.2 in /usr/local/lib/python3.7/dist-packages (from packaging>=20.0->transformers) (3.0.7)\n",
            "Requirement already satisfied: zipp>=0.5 in /usr/local/lib/python3.7/dist-packages (from importlib-metadata->transformers) (3.7.0)\n",
            "Requirement already satisfied: urllib3!=1.25.0,!=1.25.1,<1.26,>=1.21.1 in /usr/local/lib/python3.7/dist-packages (from requests->transformers) (1.24.3)\n",
            "Requirement already satisfied: chardet<4,>=3.0.2 in /usr/local/lib/python3.7/dist-packages (from requests->transformers) (3.0.4)\n",
            "Requirement already satisfied: idna<3,>=2.5 in /usr/local/lib/python3.7/dist-packages (from requests->transformers) (2.10)\n",
            "Requirement already satisfied: certifi>=2017.4.17 in /usr/local/lib/python3.7/dist-packages (from requests->transformers) (2021.10.8)\n",
            "Requirement already satisfied: six in /usr/local/lib/python3.7/dist-packages (from sacremoses->transformers) (1.15.0)\n",
            "Requirement already satisfied: joblib in /usr/local/lib/python3.7/dist-packages (from sacremoses->transformers) (1.1.0)\n",
            "Requirement already satisfied: click in /usr/local/lib/python3.7/dist-packages (from sacremoses->transformers) (7.1.2)\n",
            "Installing collected packages: pyyaml, tokenizers, sacremoses, huggingface-hub, transformers\n",
            "  Attempting uninstall: pyyaml\n",
            "    Found existing installation: PyYAML 3.13\n",
            "    Uninstalling PyYAML-3.13:\n",
            "      Successfully uninstalled PyYAML-3.13\n",
            "Successfully installed huggingface-hub-0.4.0 pyyaml-6.0 sacremoses-0.0.47 tokenizers-0.11.4 transformers-4.16.0\n",
            "Collecting sentencepiece\n",
            "  Downloading sentencepiece-0.1.96-cp37-cp37m-manylinux_2_17_x86_64.manylinux2014_x86_64.whl (1.2 MB)\n",
            "\u001b[K     |████████████████████████████████| 1.2 MB 3.5 MB/s \n",
            "\u001b[?25hInstalling collected packages: sentencepiece\n",
            "Successfully installed sentencepiece-0.1.96\n"
          ]
        }
      ],
      "source": [
        "!pip install transformers\n",
        "!pip install sentencepiece"
      ]
    },
    {
      "cell_type": "code",
      "source": [
        "import os\n",
        "from google.colab import drive\n",
        "drive.mount('/content/drive')\n",
        "os.chdir('/content/drive/MyDrive/TUNiB준비반/AIFFEL_3rd_hackerton_TUNiB_DKTC/notebook/ChangHyun/')"
      ],
      "metadata": {
        "colab": {
          "base_uri": "https://localhost:8080/"
        },
        "id": "zvyw8bBZnCs0",
        "outputId": "57e55162-c0bd-4109-d727-afde91102ad3"
      },
      "execution_count": null,
      "outputs": [
        {
          "output_type": "stream",
          "name": "stdout",
          "text": [
            "Drive already mounted at /content/drive; to attempt to forcibly remount, call drive.mount(\"/content/drive\", force_remount=True).\n"
          ]
        }
      ]
    },
    {
      "cell_type": "markdown",
      "source": [
        "#### matplotlib 한글 깨짐 해결 코드"
      ],
      "metadata": {
        "id": "ZZHhuA885zx7"
      }
    },
    {
      "cell_type": "markdown",
      "source": [
        "해당 [사이트](https://teddylee777.github.io/colab/colab-korean)를 참고하여 위의 코드를 실행한 다음 런타임 재시작을 해주어야 합니다."
      ],
      "metadata": {
        "id": "oUtVJiH59ASm"
      }
    },
    {
      "cell_type": "code",
      "source": [
        "!sudo apt-get install -y fonts-nanum\n",
        "!sudo fc-cache -fv\n",
        "!rm ~/.cache/matplotlib -rf"
      ],
      "metadata": {
        "colab": {
          "base_uri": "https://localhost:8080/"
        },
        "id": "G9TBikq58c2N",
        "outputId": "de278920-fd4f-48ed-eb71-3e4911523e69"
      },
      "execution_count": null,
      "outputs": [
        {
          "output_type": "stream",
          "name": "stdout",
          "text": [
            "Reading package lists... Done\n",
            "Building dependency tree       \n",
            "Reading state information... Done\n",
            "The following NEW packages will be installed:\n",
            "  fonts-nanum\n",
            "0 upgraded, 1 newly installed, 0 to remove and 37 not upgraded.\n",
            "Need to get 9,604 kB of archives.\n",
            "After this operation, 29.5 MB of additional disk space will be used.\n",
            "Get:1 http://archive.ubuntu.com/ubuntu bionic/universe amd64 fonts-nanum all 20170925-1 [9,604 kB]\n",
            "Fetched 9,604 kB in 3s (2,926 kB/s)\n",
            "debconf: unable to initialize frontend: Dialog\n",
            "debconf: (No usable dialog-like program is installed, so the dialog based frontend cannot be used. at /usr/share/perl5/Debconf/FrontEnd/Dialog.pm line 76, <> line 1.)\n",
            "debconf: falling back to frontend: Readline\n",
            "debconf: unable to initialize frontend: Readline\n",
            "debconf: (This frontend requires a controlling tty.)\n",
            "debconf: falling back to frontend: Teletype\n",
            "dpkg-preconfigure: unable to re-open stdin: \n",
            "Selecting previously unselected package fonts-nanum.\n",
            "(Reading database ... 155229 files and directories currently installed.)\n",
            "Preparing to unpack .../fonts-nanum_20170925-1_all.deb ...\n",
            "Unpacking fonts-nanum (20170925-1) ...\n",
            "Setting up fonts-nanum (20170925-1) ...\n",
            "Processing triggers for fontconfig (2.12.6-0ubuntu2) ...\n",
            "/usr/share/fonts: caching, new cache contents: 0 fonts, 1 dirs\n",
            "/usr/share/fonts/truetype: caching, new cache contents: 0 fonts, 3 dirs\n",
            "/usr/share/fonts/truetype/humor-sans: caching, new cache contents: 1 fonts, 0 dirs\n",
            "/usr/share/fonts/truetype/liberation: caching, new cache contents: 16 fonts, 0 dirs\n",
            "/usr/share/fonts/truetype/nanum: caching, new cache contents: 10 fonts, 0 dirs\n",
            "/usr/local/share/fonts: caching, new cache contents: 0 fonts, 0 dirs\n",
            "/root/.local/share/fonts: skipping, no such directory\n",
            "/root/.fonts: skipping, no such directory\n",
            "/var/cache/fontconfig: cleaning cache directory\n",
            "/root/.cache/fontconfig: not cleaning non-existent cache directory\n",
            "/root/.fontconfig: not cleaning non-existent cache directory\n",
            "fc-cache: succeeded\n"
          ]
        }
      ]
    },
    {
      "cell_type": "code",
      "source": [
        "import seaborn as sns\n",
        "import matplotlib.pyplot as plt\n",
        "import numpy as np\n",
        "\n",
        "# 한글 지원 폰트\n",
        "plt.rc('font', family='NanumBarunGothic')\n",
        "\n",
        "# 마이너스 부호 \n",
        "plt.rcParams['axes.unicode_minus'] = False\n",
        "\n",
        "plt.plot(np.random.randint(1, 50, 25))\n",
        "plt.title(\"가나다라\")\n",
        "plt.show()"
      ],
      "metadata": {
        "colab": {
          "base_uri": "https://localhost:8080/"
        },
        "id": "kRFMoIBNnp3Q",
        "outputId": "8ddeff19-3617-40c2-97c3-44e16083990e"
      },
      "execution_count": null,
      "outputs": [
        {
          "output_type": "display_data",
          "data": {
            "image/png": "[encoded data removed]",
            "text/plain": [
              "<Figure size 432x288 with 1 Axes>"
            ]
          },
          "metadata": {
            "needs_background": "light"
          }
        }
      ]
    },
    {
      "cell_type": "markdown",
      "metadata": {
        "id": "6Aj65TI09-hh"
      },
      "source": [
        "## 데이터 불러오기"
      ]
    },
    {
      "cell_type": "code",
      "execution_count": null,
      "metadata": {
        "colab": {
          "base_uri": "https://localhost:8080/"
        },
        "id": "happy-conspiracy",
        "outputId": "ac471663-0081-48e0-a1ec-97d47a6c43be"
      },
      "outputs": [
        {
          "output_type": "execute_result",
          "data": {
            "text/plain": [
              "class\n",
              "0    896\n",
              "1    896\n",
              "2    896\n",
              "3    896\n",
              "4    896\n",
              "Name: Unnamed: 0, dtype: int64"
            ]
          },
          "metadata": {},
          "execution_count": 3
        }
      ],
      "source": [
        "import pandas as pd\n",
        "\n",
        "under_train = pd.read_csv(\"./prototype_model/data/sample_data.csv\")\n",
        "under_train.groupby(\"class\").count().iloc[:,0]"
      ]
    },
    {
      "cell_type": "markdown",
      "source": [
        "#### 훈련셋 검증셋 나누기"
      ],
      "metadata": {
        "id": "cloudy-force"
      }
    },
    {
      "cell_type": "code",
      "execution_count": null,
      "metadata": {
        "colab": {
          "base_uri": "https://localhost:8080/"
        },
        "id": "thirty-border",
        "outputId": "69abe98f-c8ba-4008-daf6-47cbac1ce991"
      },
      "outputs": [
        {
          "output_type": "stream",
          "name": "stdout",
          "text": [
            "x_train 개수 : 4032\n",
            "y_train 개수 : 4032\n",
            "x_val 개수 : 224\n",
            "y_val 개수 : 224\n",
            "x_test 개수 : 224\n",
            "y_test 개수 : 224\n",
            "훈련 데이터 레이블 비율 확인 : Counter({3: 807, 4: 807, 1: 806, 0: 806, 2: 806})\n",
            "검증 데이터 레이블 비율 확인 : Counter({0: 45, 2: 45, 3: 45, 1: 45, 4: 44})\n",
            "테스트 데이터 레이블 비율 확인 : Counter({2: 45, 1: 45, 4: 45, 0: 45, 3: 44})\n"
          ]
        }
      ],
      "source": [
        "from sklearn.model_selection import train_test_split\n",
        "from collections import defaultdict, Counter\n",
        "\n",
        "X = under_train[\"pre_conversation\"].to_list()\n",
        "Y = under_train[\"class\"].to_list()\n",
        "\n",
        "x_train, x_val_test, y_train, y_val_test = train_test_split(X, Y, \n",
        "                                                            test_size = 0.1, \n",
        "                                                            random_state = 200,\n",
        "                                                            stratify = Y)\n",
        "x_val, x_test, y_val, y_test = train_test_split(x_val_test, y_val_test,\n",
        "                                                test_size = 0.5,\n",
        "                                                random_state = 202,\n",
        "                                                stratify = y_val_test)\n",
        "print(f\"x_train 개수 : {len(x_train)}\")\n",
        "print(f\"y_train 개수 : {len(y_train)}\")\n",
        "print(f\"x_val 개수 : {len(x_val)}\")\n",
        "print(f\"y_val 개수 : {len(y_val)}\")\n",
        "print(f\"x_test 개수 : {len(x_test)}\")\n",
        "print(f\"y_test 개수 : {len(y_test)}\")\n",
        "\n",
        "print(f\"훈련 데이터 레이블 비율 확인 : {Counter(y_train)}\")\n",
        "print(f\"검증 데이터 레이블 비율 확인 : {Counter(y_val)}\")\n",
        "print(f\"테스트 데이터 레이블 비율 확인 : {Counter(y_test)}\")"
      ]
    },
    {
      "cell_type": "markdown",
      "source": [
        "## 모델들 불러오기"
      ],
      "metadata": {
        "id": "c9SfopjPoBSg"
      }
    },
    {
      "cell_type": "markdown",
      "source": [
        "#### BERT 모델"
      ],
      "metadata": {
        "id": "eO1X9wfvrJoS"
      }
    },
    {
      "cell_type": "code",
      "source": [
        "from transformers import BertTokenizer, TFBertForSequenceClassification\n",
        "from transformers import TextClassificationPipeline\n",
        "\n",
        "\n",
        "# Load Fine-tuning model\n",
        "bert_path = \"./prototype_model/model/fine-tuned-klue-bert-base\"\n",
        "bert_tokenizer = BertTokenizer.from_pretrained(bert_path)\n",
        "bert_model = TFBertForSequenceClassification.from_pretrained(bert_path)\n",
        "\n",
        "bert_classifier = TextClassificationPipeline(\n",
        "    tokenizer=bert_tokenizer, \n",
        "    model=bert_model, \n",
        "    framework='tf',\n",
        "    return_all_scores=True\n",
        ")"
      ],
      "metadata": {
        "colab": {
          "base_uri": "https://localhost:8080/"
        },
        "id": "FrL7WjQpoGpL",
        "outputId": "480a0f49-5437-4521-8904-24138aced0b4"
      },
      "execution_count": null,
      "outputs": [
        {
          "output_type": "stream",
          "name": "stderr",
          "text": [
            "All model checkpoint layers were used when initializing TFBertForSequenceClassification.\n",
            "\n",
            "All the layers of TFBertForSequenceClassification were initialized from the model checkpoint at ./prototype_model/model/fine-tuned-klue-bert-base.\n",
            "If your task is similar to the task the model of the checkpoint was trained on, you can already use TFBertForSequenceClassification for predictions without further training.\n"
          ]
        }
      ]
    },
    {
      "cell_type": "markdown",
      "source": [
        "#### KoELECTRA 모델 불러오기"
      ],
      "metadata": {
        "id": "ZqKhURk0rr-Z"
      }
    },
    {
      "cell_type": "code",
      "source": [
        "from transformers import ElectraTokenizer, TFElectraForSequenceClassification\n",
        "\n",
        "# Load Fine-tuning model\n",
        "electra_path = \"./prototype_model/model/fine-tuned-koelectra-base-v3\"\n",
        "electra_tokenizer = ElectraTokenizer.from_pretrained(electra_path)\n",
        "electra_model = TFElectraForSequenceClassification.from_pretrained(electra_path)\n",
        "\n",
        "electra_classifier = TextClassificationPipeline(\n",
        "    tokenizer=electra_tokenizer, \n",
        "    model=electra_model, \n",
        "    framework='tf',\n",
        "    return_all_scores=True\n",
        ")"
      ],
      "metadata": {
        "colab": {
          "base_uri": "https://localhost:8080/"
        },
        "id": "j3EiaxkLrq-o",
        "outputId": "70b5d19f-5f31-465a-a7ba-1b85367aa67b"
      },
      "execution_count": null,
      "outputs": [
        {
          "output_type": "stream",
          "name": "stderr",
          "text": [
            "All model checkpoint layers were used when initializing TFElectraForSequenceClassification.\n",
            "\n",
            "All the layers of TFElectraForSequenceClassification were initialized from the model checkpoint at ./prototype_model/model/fine-tuned-koelectra-base-v3.\n",
            "If your task is similar to the task the model of the checkpoint was trained on, you can already use TFElectraForSequenceClassification for predictions without further training.\n"
          ]
        }
      ]
    },
    {
      "cell_type": "markdown",
      "source": [
        "#### LSTM 모델 불러오기"
      ],
      "metadata": {
        "id": "8MbFPn33DwyJ"
      }
    },
    {
      "cell_type": "code",
      "source": [
        "import tensorflow as tf\n",
        "\n",
        "lstm_path = \"./prototype_model/model/LSTM-model/LSTM_10epoch_model.h5\"\n",
        "lstm_model = tf.keras.models.load_model(lstm_path)"
      ],
      "metadata": {
        "id": "1HBwVlbODxKt"
      },
      "execution_count": null,
      "outputs": []
    },
    {
      "cell_type": "markdown",
      "source": [
        "## 모델별 성능 체크"
      ],
      "metadata": {
        "id": "7PZ00nSyE8Du"
      }
    },
    {
      "cell_type": "markdown",
      "source": [
        "#### 불러온 모델들 테스트 데이터 예측하기"
      ],
      "metadata": {
        "id": "C90fJggiJH3P"
      }
    },
    {
      "cell_type": "code",
      "source": [
        "from tqdm import tqdm\n",
        "\n",
        "bert_list = []\n",
        "electra_list = []\n",
        "lstm_list = []\n",
        "\n",
        "for text in tqdm(x_test):\n",
        "  bert_pred = bert_classifier(text)[0]\n",
        "  bert_pred = max(bert_pred, key=lambda x: x['score'])[\"label\"]\n",
        "  \n",
        "  electra_pred = electra_classifier(text)[0]\n",
        "  electra_pred = max(electra_pred, key=lambda x: x['score'])[\"label\"]\n",
        "\n",
        "  bert_list += [bert_pred]\n",
        "  electra_list += [electra_pred]\n",
        "\n",
        "bert_list = [int(label[-1]) for label in bert_list]\n",
        "electra_list = [int(label[-1]) for label in electra_list]"
      ],
      "metadata": {
        "colab": {
          "base_uri": "https://localhost:8080/"
        },
        "id": "O-7cetMqFWMV",
        "outputId": "dfa75934-1162-444f-c258-668b42a5ae7c"
      },
      "execution_count": null,
      "outputs": [
        {
          "output_type": "stream",
          "name": "stderr",
          "text": [
            "100%|██████████| 224/224 [05:47<00:00,  1.55s/it]\n"
          ]
        }
      ]
    },
    {
      "cell_type": "code",
      "source": [
        "import numpy as np\n",
        "import sentencepiece as spm\n",
        "from tensorflow.keras.preprocessing.sequence import pad_sequences\n",
        "\n",
        "spm_path = \"./prototype_model/bpe_10000_train_spm.model\"\n",
        "lstm_tokenizer = spm.SentencePieceProcessor()\n",
        "lstm_tokenizer.Load(spm_path)\n",
        "\n",
        "token_x_test = [lstm_tokenizer.EncodeAsIds(x) for x in x_test]\n",
        "max_length = 333\n",
        "padded_x_test = pad_sequences(token_x_test, maxlen = max_length)\n",
        "\n",
        "lstm_list = np.argmax(lstm_model.predict(padded_x_test), axis = -1)"
      ],
      "metadata": {
        "id": "hD94D4hgoGmV"
      },
      "execution_count": null,
      "outputs": []
    },
    {
      "cell_type": "markdown",
      "source": [
        "#### 모델들 F1-score 구하기"
      ],
      "metadata": {
        "id": "2ZpY-RXTJOFq"
      }
    },
    {
      "cell_type": "code",
      "source": [
        "from sklearn.metrics import classification_report\n",
        "from sklearn.metrics import confusion_matrix\n",
        "\n",
        "bert_num_false = np.sum(np.array(bert_list) !=  np.array(y_test))\n",
        "print(\"BERT 모델 분류 성능 평가\")\n",
        "print(f\"BERT 모델 틀린 갯수 {np.sum(bert_num_false)}개\")\n",
        "print(classification_report(bert_list, y_test))\n",
        "print(\"\\n\")\n",
        "\n",
        "elec_num_false = np.sum(np.array(electra_list) !=  np.array(y_test))\n",
        "print(\"ELECTRA 모델 분류 성능 평가\")\n",
        "print(f\"ELECTRA 모델 틀린 갯수 {np.sum(elec_num_false)}개\")\n",
        "print(classification_report(electra_list, y_test))\n",
        "print(\"\\n\")\n",
        "\n",
        "lstm_num_false = np.sum(np.array(lstm_list) !=  np.array(y_test))\n",
        "print(\"LSTM 모델 분류 성능 평가\")\n",
        "print(f\"LSTM 모델 틀린 갯수 {np.sum(lstm_num_false)}개\")\n",
        "print(classification_report(lstm_list, y_test))"
      ],
      "metadata": {
        "colab": {
          "base_uri": "https://localhost:8080/"
        },
        "id": "H1s2bqhRHiou",
        "outputId": "5d0a3ff2-6b67-4798-cd13-7863c1e9b9d9"
      },
      "execution_count": null,
      "outputs": [
        {
          "output_type": "stream",
          "name": "stdout",
          "text": [
            "BERT 모델 분류 성능 평가\n",
            "BERT 모델 틀린 갯수 19개\n",
            "              precision    recall  f1-score   support\n",
            "\n",
            "           0       1.00      0.85      0.92        53\n",
            "           1       0.82      0.95      0.88        39\n",
            "           2       0.91      1.00      0.95        41\n",
            "           3       0.84      0.80      0.82        46\n",
            "           4       1.00      1.00      1.00        45\n",
            "\n",
            "    accuracy                           0.92       224\n",
            "   macro avg       0.91      0.92      0.92       224\n",
            "weighted avg       0.92      0.92      0.91       224\n",
            "\n",
            "\n",
            "\n",
            "ELECTRA 모델 분류 성능 평가\n",
            "ELECTRA 모델 틀린 갯수 20개\n",
            "              precision    recall  f1-score   support\n",
            "\n",
            "           0       0.98      0.85      0.91        52\n",
            "           1       0.93      0.82      0.87        51\n",
            "           2       0.89      1.00      0.94        40\n",
            "           3       0.75      0.92      0.83        36\n",
            "           4       1.00      1.00      1.00        45\n",
            "\n",
            "    accuracy                           0.91       224\n",
            "   macro avg       0.91      0.92      0.91       224\n",
            "weighted avg       0.92      0.91      0.91       224\n",
            "\n",
            "\n",
            "\n",
            "LSTM 모델 분류 성능 평가\n",
            "LSTM 모델 틀린 갯수 36개\n",
            "              precision    recall  f1-score   support\n",
            "\n",
            "           0       0.78      0.88      0.82        40\n",
            "           1       0.67      0.83      0.74        36\n",
            "           2       0.89      0.98      0.93        41\n",
            "           3       0.86      0.61      0.72        62\n",
            "           4       1.00      1.00      1.00        45\n",
            "\n",
            "    accuracy                           0.84       224\n",
            "   macro avg       0.84      0.86      0.84       224\n",
            "weighted avg       0.85      0.84      0.84       224\n",
            "\n"
          ]
        }
      ]
    },
    {
      "cell_type": "markdown",
      "source": [
        "#### 모델별 confusion matrix 구하기"
      ],
      "metadata": {
        "id": "DKALeVneJxnz"
      }
    },
    {
      "cell_type": "code",
      "source": [
        "bert_conf = confusion_matrix(bert_list, y_test)\n",
        "elec_conf = confusion_matrix(electra_list, y_test)\n",
        "lstm_conf = confusion_matrix(lstm_list, y_test)"
      ],
      "metadata": {
        "id": "u-soAri5oGkO"
      },
      "execution_count": null,
      "outputs": []
    },
    {
      "cell_type": "code",
      "source": [
        "fig, axes = plt.subplots(1, 3, sharex=True, sharey=True, figsize = (8, 5))\n",
        "\n",
        "g1 = sns.heatmap(bert_conf, annot = True, ax = axes[0])\n",
        "g1.set_title(\"BERT\")\n",
        "g2 = sns.heatmap(elec_conf, annot = True, ax = axes[1])\n",
        "g2.set_title(\"ELECTRA\")\n",
        "g3 = sns.heatmap(lstm_conf, annot = True, ax = axes[2])\n",
        "g3.set_title(\"LSTM\")\n",
        "plt.tight_layout()\n",
        "plt.show()"
      ],
      "metadata": {
        "colab": {
          "base_uri": "https://localhost:8080/",
          "height": 369
        },
        "id": "eCakIIJ9oGhh",
        "outputId": "712f61e0-8ce2-4724-80e1-7e4b7879e6ac"
      },
      "execution_count": null,
      "outputs": [
        {
          "output_type": "display_data",
          "data": {
            "image/png": "[encoded data removed]",
            "text/plain": [
              "<Figure size 576x360 with 6 Axes>"
            ]
          },
          "metadata": {
            "needs_background": "light"
          }
        }
      ]
    },
    {
      "cell_type": "markdown",
      "source": [
        "## Soft voting Ensemble Method"
      ],
      "metadata": {
        "id": "RVR-WiWPYVFu"
      }
    },
    {
      "cell_type": "code",
      "source": [
        "bucket_y_pred = []\n",
        "tmp = []\n",
        "\n",
        "for i in tqdm(range(len(x_test))):\n",
        "  text = x_test[i]\n",
        "\n",
        "  elec_pred = electra_classifier(text)[0]\n",
        "  elec_pred = np.array(list(map(lambda x: x[\"score\"], elec_pred)))\n",
        "\n",
        "  bert_pred = bert_classifier(text)[0]\n",
        "  bert_pred = np.array(list(map(lambda x: x[\"score\"], bert_pred)))\n",
        "  lstm_pred = lstm_model.predict(padded_x_test[i:i+1])[0]\n",
        "\n",
        "  # 모델 3개 : electra, bert, lstm\n",
        "  mean_prob = np.average([elec_pred, bert_pred, lstm_pred], axis = 0)\n",
        "  # 모델 2개 : electra, bert\n",
        "  tmp_prob = np.average([elec_pred, bert_pred], axis = 0)\n",
        "\n",
        "  y_pred = np.argmax(mean_prob)\n",
        "  tmp_pred = np.argmax(tmp_prob)\n",
        "\n",
        "  bucket_y_pred.append(y_pred)\n",
        "  tmp.append(tmp_pred)"
      ],
      "metadata": {
        "id": "lbN4_GtFoFuL",
        "colab": {
          "base_uri": "https://localhost:8080/"
        },
        "outputId": "95fa3f3e-4ca0-43eb-b197-f335fdf84455"
      },
      "execution_count": null,
      "outputs": [
        {
          "output_type": "stream",
          "name": "stderr",
          "text": [
            "100%|██████████| 224/224 [05:46<00:00,  1.55s/it]\n"
          ]
        }
      ]
    },
    {
      "cell_type": "markdown",
      "source": [
        "#### electra, bert 모델 2개인경우와 electra, bert, lstm 3개 soft voting을 시킨 결과 비교"
      ],
      "metadata": {
        "id": "sraviikNpbmq"
      }
    },
    {
      "cell_type": "code",
      "source": [
        "softvoting_tmp_false = np.sum(np.array(tmp) !=  np.array(y_test))\n",
        "print(\"Soft Voting 모델 분류 성능 평가\")\n",
        "print(f\"Soft Voting 모델 틀린 갯수 {np.sum(softvoting_tmp_false)}개\")\n",
        "print(classification_report(tmp, y_test))\n",
        "print(\"\\n\")\n",
        "\n",
        "softvoting_num_false = np.sum(np.array(bucket_y_pred) !=  np.array(y_test))\n",
        "print(\"Soft Voting 모델 분류 성능 평가\")\n",
        "print(f\"Soft Voting 모델 틀린 갯수 {np.sum(softvoting_num_false)}개\")\n",
        "print(classification_report(bucket_y_pred, y_test))"
      ],
      "metadata": {
        "colab": {
          "base_uri": "https://localhost:8080/"
        },
        "id": "SpLMRGqtpbqw",
        "outputId": "38738a40-b08b-4690-91b8-fbbfbfd3e6e2"
      },
      "execution_count": null,
      "outputs": [
        {
          "output_type": "stream",
          "name": "stdout",
          "text": [
            "Soft Voting 모델 분류 성능 평가\n",
            "Soft Voting 모델 틀린 갯수 16개\n",
            "              precision    recall  f1-score   support\n",
            "\n",
            "           0       1.00      0.85      0.92        53\n",
            "           1       0.93      0.91      0.92        46\n",
            "           2       0.91      1.00      0.95        41\n",
            "           3       0.80      0.90      0.84        39\n",
            "           4       1.00      1.00      1.00        45\n",
            "\n",
            "    accuracy                           0.93       224\n",
            "   macro avg       0.93      0.93      0.93       224\n",
            "weighted avg       0.93      0.93      0.93       224\n",
            "\n",
            "\n",
            "\n",
            "Soft Voting 모델 분류 성능 평가\n",
            "Soft Voting 모델 틀린 갯수 17개\n",
            "              precision    recall  f1-score   support\n",
            "\n",
            "           0       0.98      0.92      0.95        48\n",
            "           1       0.89      0.89      0.89        45\n",
            "           2       0.93      1.00      0.97        42\n",
            "           3       0.82      0.82      0.82        44\n",
            "           4       1.00      1.00      1.00        45\n",
            "\n",
            "    accuracy                           0.92       224\n",
            "   macro avg       0.92      0.92      0.92       224\n",
            "weighted avg       0.92      0.92      0.92       224\n",
            "\n"
          ]
        }
      ]
    },
    {
      "cell_type": "markdown",
      "source": [
        "y축은 true, x축은 pred입니다.   \n",
        "https://scikit-learn.org/stable/modules/model_evaluation.html#confusion-matrix"
      ],
      "metadata": {
        "id": "zu389rB7M2Xr"
      }
    },
    {
      "cell_type": "code",
      "source": [
        "fig, axes = plt.subplots(1, 2, sharex=True, sharey=True, figsize = (8, 5))\n",
        "label = [\"협박 대화\", \"갈취 대화\", \"직장내 괴롭힘 대화\", \"기타 괴롭힘 대화\", \"일반 대화\"]\n",
        "\n",
        "tmp_soft_voting = confusion_matrix(tmp, y_test)\n",
        "f1 = sns.heatmap(tmp_soft_voting, annot = True, ax = axes[0])\n",
        "f1.set_title(\"Soft Voting electra, bert\")\n",
        "\n",
        "soft_voting = confusion_matrix(bucket_y_pred, y_test)\n",
        "f2 = sns.heatmap(soft_voting, annot = True, ax = axes[1])\n",
        "f2.set_title(\"Soft Voting electra, bert, lstm\")\n",
        "plt.xlabel(\"pred\")\n",
        "plt.ylabel(\"true\")\n",
        "plt.tight_layout()\n",
        "plt.show()"
      ],
      "metadata": {
        "colab": {
          "base_uri": "https://localhost:8080/",
          "height": 369
        },
        "id": "vA7q5Cz-pbtr",
        "outputId": "3e14224c-3175-4cb5-d8b2-baea45a6acd7"
      },
      "execution_count": null,
      "outputs": [
        {
          "output_type": "display_data",
          "data": {
            "image/png": "[encoded data removed]",
            "text/plain": [
              "<Figure size 576x360 with 4 Axes>"
            ]
          },
          "metadata": {
            "needs_background": "light"
          }
        }
      ]
    },
    {
      "cell_type": "markdown",
      "source": [
        "#### electra, bert 2개의 모델 틀린 경우 확인"
      ],
      "metadata": {
        "id": "uvnFFKZVFjme"
      }
    },
    {
      "cell_type": "code",
      "source": [
        "def id2label(x):\n",
        "  if x == 0:\n",
        "    return \"협박 대화\"\n",
        "  elif x == 1:\n",
        "    return \"갈취 대화\"\n",
        "  elif x == 2:\n",
        "    return \"직장 내 괴롭힘 대화\"\n",
        "  elif x == 3:\n",
        "    return \"기타 괴롭힘 대화\"\n",
        "  elif x == 4:\n",
        "    return \"일반 대화\""
      ],
      "metadata": {
        "id": "8vltFqQ6ulD2"
      },
      "execution_count": null,
      "outputs": []
    },
    {
      "cell_type": "code",
      "source": [
        "tmp_false_list = []\n",
        "for idx, label in enumerate(tmp):\n",
        "  if label != y_test[idx]:\n",
        "    tmp_false_list.append(idx)\n",
        "\n",
        "tmp_false_text = np.array(x_test)[tmp_false_list]\n",
        "tmp_false_pred = np.array(tmp)[tmp_false_list]\n",
        "tmp_false_true = np.array(y_test)[tmp_false_list]"
      ],
      "metadata": {
        "id": "axQpqlLmpb1b"
      },
      "execution_count": null,
      "outputs": []
    },
    {
      "cell_type": "code",
      "source": [
        "tmp_false_df = pd.DataFrame({\"text\":tmp_false_text, \"pred\":tmp_false_pred, \"true\":tmp_false_true})\n",
        "tmp_false_df[\"true\"] = tmp_false_df[\"true\"].apply(lambda x : id2label(x))\n",
        "tmp_false_df[\"pred\"] = tmp_false_df[\"pred\"].apply(lambda x : id2label(x))\n",
        "tmp_false_df"
      ],
      "metadata": {
        "colab": {
          "base_uri": "https://localhost:8080/",
          "height": 551
        },
        "id": "LvlL5-S5uluD",
        "outputId": "5d20d12f-3521-4790-e642-53a87d89a6bd"
      },
      "execution_count": null,
      "outputs": [
        {
          "output_type": "execute_result",
          "data": {
            "text/html": [
              "\n",
              "  <div id=\"df-aa904f3e-7904-4f26-b49d-75371deac74a\">\n",
              "    <div class=\"colab-df-container\">\n",
              "      <div>\n",
              "<style scoped>\n",
              "    .dataframe tbody tr th:only-of-type {\n",
              "        vertical-align: middle;\n",
              "    }\n",
              "\n",
              "    .dataframe tbody tr th {\n",
              "        vertical-align: top;\n",
              "    }\n",
              "\n",
              "    .dataframe thead th {\n",
              "        text-align: right;\n",
              "    }\n",
              "</style>\n",
              "<table border=\"1\" class=\"dataframe\">\n",
              "  <thead>\n",
              "    <tr style=\"text-align: right;\">\n",
              "      <th></th>\n",
              "      <th>text</th>\n",
              "      <th>pred</th>\n",
              "      <th>true</th>\n",
              "    </tr>\n",
              "  </thead>\n",
              "  <tbody>\n",
              "    <tr>\n",
              "      <th>0</th>\n",
              "      <td>야 뭐하냐 어 아 이 찐따새끼 또 만화 쳐보고 있네 이딴게 재밌냐 하지마 돌려줘 뭐...</td>\n",
              "      <td>협박 대화</td>\n",
              "      <td>기타 괴롭힘 대화</td>\n",
              "    </tr>\n",
              "    <tr>\n",
              "      <th>1</th>\n",
              "      <td>선배 제 뒷담 그만좀 하세요 내가 언제 이제 저도 지칩니다 들었어 어디서 많이 들었...</td>\n",
              "      <td>기타 괴롭힘 대화</td>\n",
              "      <td>직장 내 괴롭힘 대화</td>\n",
              "    </tr>\n",
              "    <tr>\n",
              "      <th>2</th>\n",
              "      <td>이자는 이자까지 줬잖아 그건 저번 기간 이자고 이번 기간 이자까지 줘야지 이 년아 ...</td>\n",
              "      <td>협박 대화</td>\n",
              "      <td>기타 괴롭힘 대화</td>\n",
              "    </tr>\n",
              "    <tr>\n",
              "      <th>3</th>\n",
              "      <td>어우 김선생 좀봐 머리를 하고왔는데도 얼굴이 저 꼬라지네 못봐주겠다 진짜 저 인간은...</td>\n",
              "      <td>기타 괴롭힘 대화</td>\n",
              "      <td>직장 내 괴롭힘 대화</td>\n",
              "    </tr>\n",
              "    <tr>\n",
              "      <th>4</th>\n",
              "      <td>선생님 저 이번 시험 점수 도저히 납득이 되질 않습니다 은혜야 갑자기 그게 무슨 말...</td>\n",
              "      <td>협박 대화</td>\n",
              "      <td>갈취 대화</td>\n",
              "    </tr>\n",
              "    <tr>\n",
              "      <th>5</th>\n",
              "      <td>아니 피뽑는게 왜이렇게아파 환자분 원래조끔 따금해요 바늘이 들어가는데 안아플수가없잖...</td>\n",
              "      <td>협박 대화</td>\n",
              "      <td>기타 괴롭힘 대화</td>\n",
              "    </tr>\n",
              "    <tr>\n",
              "      <th>6</th>\n",
              "      <td>야 체육복 있냐 응 응응 있지 왜 나 교시에 체육시간인데 체육복 없어서 빌려주라 아...</td>\n",
              "      <td>갈취 대화</td>\n",
              "      <td>기타 괴롭힘 대화</td>\n",
              "    </tr>\n",
              "    <tr>\n",
              "      <th>7</th>\n",
              "      <td>야야 너 기절놀이아냐 그게뭔데 궁금하지 이리와봐 알려줄께 이렇게 목 조르면 기절한다...</td>\n",
              "      <td>협박 대화</td>\n",
              "      <td>기타 괴롭힘 대화</td>\n",
              "    </tr>\n",
              "    <tr>\n",
              "      <th>8</th>\n",
              "      <td>선생님 저희 얘 좀 잘 부탁드려요 지우 어머님 이러지마세요 저희 얘 꼭 좋은 대학교...</td>\n",
              "      <td>기타 괴롭힘 대화</td>\n",
              "      <td>갈취 대화</td>\n",
              "    </tr>\n",
              "    <tr>\n",
              "      <th>9</th>\n",
              "      <td>야 거지 너네집 저기 판자촌이라면서 판자촌이 뭐야 왜 저 위에 다 쓰러져가는 집들 ...</td>\n",
              "      <td>갈취 대화</td>\n",
              "      <td>기타 괴롭힘 대화</td>\n",
              "    </tr>\n",
              "    <tr>\n",
              "      <th>10</th>\n",
              "      <td>야 저새끼 뭐냐 이야 일병이 슬리퍼를 신고 담밸 피러 쳐왔네 죄송합니다 시간이 없어...</td>\n",
              "      <td>기타 괴롭힘 대화</td>\n",
              "      <td>직장 내 괴롭힘 대화</td>\n",
              "    </tr>\n",
              "    <tr>\n",
              "      <th>11</th>\n",
              "      <td>김씨 저번에 빌려간 돈 이자가 오백만원이야 아니 원금이 만원인데 어떻게 이자가 일 ...</td>\n",
              "      <td>협박 대화</td>\n",
              "      <td>갈취 대화</td>\n",
              "    </tr>\n",
              "    <tr>\n",
              "      <th>12</th>\n",
              "      <td>어이 코털 왜 왜 아놔됐고 너 매점가서 곰보빵 두개에 콜라하나 사와라 나 돈없어 돈...</td>\n",
              "      <td>갈취 대화</td>\n",
              "      <td>기타 괴롭힘 대화</td>\n",
              "    </tr>\n",
              "    <tr>\n",
              "      <th>13</th>\n",
              "      <td>껍데기 뿐인 정박아로 태어난 주제에 용케 아직까지 살아있구나 좋은 아침 좋아질 것 ...</td>\n",
              "      <td>협박 대화</td>\n",
              "      <td>기타 괴롭힘 대화</td>\n",
              "    </tr>\n",
              "    <tr>\n",
              "      <th>14</th>\n",
              "      <td>저 제스타일이신데 번호점 싫어요 아 존나 튕기네 싫다는데 왜 물어봐요 존나 비싸게 ...</td>\n",
              "      <td>갈취 대화</td>\n",
              "      <td>기타 괴롭힘 대화</td>\n",
              "    </tr>\n",
              "    <tr>\n",
              "      <th>15</th>\n",
              "      <td>몇기냐 기입니다 나 기인데 인사 안박냐 필승 죄송합니다 야 됐고 니 아래 위로 내 ...</td>\n",
              "      <td>협박 대화</td>\n",
              "      <td>직장 내 괴롭힘 대화</td>\n",
              "    </tr>\n",
              "  </tbody>\n",
              "</table>\n",
              "</div>\n",
              "      <button class=\"colab-df-convert\" onclick=\"convertToInteractive('df-aa904f3e-7904-4f26-b49d-75371deac74a')\"\n",
              "              title=\"Convert this dataframe to an interactive table.\"\n",
              "              style=\"display:none;\">\n",
              "        \n",
              "  <svg xmlns=\"http://www.w3.org/2000/svg\" height=\"24px\"viewBox=\"0 0 24 24\"\n",
              "       width=\"24px\">\n",
              "    <path d=\"M0 0h24v24H0V0z\" fill=\"none\"/>\n",
              "    <path d=\"M18.56 5.44l.94 2.06.94-2.06 2.06-.94-2.06-.94-.94-2.06-.94 2.06-2.06.94zm-11 1L8.5 8.5l.94-2.06 2.06-.94-2.06-.94L8.5 2.5l-.94 2.06-2.06.94zm10 10l.94 2.06.94-2.06 2.06-.94-2.06-.94-.94-2.06-.94 2.06-2.06.94z\"/><path d=\"M17.41 7.96l-1.37-1.37c-.4-.4-.92-.59-1.43-.59-.52 0-1.04.2-1.43.59L10.3 9.45l-7.72 7.72c-.78.78-.78 2.05 0 2.83L4 21.41c.39.39.9.59 1.41.59.51 0 1.02-.2 1.41-.59l7.78-7.78 2.81-2.81c.8-.78.8-2.07 0-2.86zM5.41 20L4 18.59l7.72-7.72 1.47 1.35L5.41 20z\"/>\n",
              "  </svg>\n",
              "      </button>\n",
              "      \n",
              "  <style>\n",
              "    .colab-df-container {\n",
              "      display:flex;\n",
              "      flex-wrap:wrap;\n",
              "      gap: 12px;\n",
              "    }\n",
              "\n",
              "    .colab-df-convert {\n",
              "      background-color: #E8F0FE;\n",
              "      border: none;\n",
              "      border-radius: 50%;\n",
              "      cursor: pointer;\n",
              "      display: none;\n",
              "      fill: #1967D2;\n",
              "      height: 32px;\n",
              "      padding: 0 0 0 0;\n",
              "      width: 32px;\n",
              "    }\n",
              "\n",
              "    .colab-df-convert:hover {\n",
              "      background-color: #E2EBFA;\n",
              "      box-shadow: 0px 1px 2px rgba(60, 64, 67, 0.3), 0px 1px 3px 1px rgba(60, 64, 67, 0.15);\n",
              "      fill: #174EA6;\n",
              "    }\n",
              "\n",
              "    [theme=dark] .colab-df-convert {\n",
              "      background-color: #3B4455;\n",
              "      fill: #D2E3FC;\n",
              "    }\n",
              "\n",
              "    [theme=dark] .colab-df-convert:hover {\n",
              "      background-color: #434B5C;\n",
              "      box-shadow: 0px 1px 3px 1px rgba(0, 0, 0, 0.15);\n",
              "      filter: drop-shadow(0px 1px 2px rgba(0, 0, 0, 0.3));\n",
              "      fill: #FFFFFF;\n",
              "    }\n",
              "  </style>\n",
              "\n",
              "      <script>\n",
              "        const buttonEl =\n",
              "          document.querySelector('#df-aa904f3e-7904-4f26-b49d-75371deac74a button.colab-df-convert');\n",
              "        buttonEl.style.display =\n",
              "          google.colab.kernel.accessAllowed ? 'block' : 'none';\n",
              "\n",
              "        async function convertToInteractive(key) {\n",
              "          const element = document.querySelector('#df-aa904f3e-7904-4f26-b49d-75371deac74a');\n",
              "          const dataTable =\n",
              "            await google.colab.kernel.invokeFunction('convertToInteractive',\n",
              "                                                     [key], {});\n",
              "          if (!dataTable) return;\n",
              "\n",
              "          const docLinkHtml = 'Like what you see? Visit the ' +\n",
              "            '<a target=\"_blank\" href=https://colab.research.google.com/notebooks/data_table.ipynb>data table notebook</a>'\n",
              "            + ' to learn more about interactive tables.';\n",
              "          element.innerHTML = '';\n",
              "          dataTable['output_type'] = 'display_data';\n",
              "          await google.colab.output.renderOutput(dataTable, element);\n",
              "          const docLink = document.createElement('div');\n",
              "          docLink.innerHTML = docLinkHtml;\n",
              "          element.appendChild(docLink);\n",
              "        }\n",
              "      </script>\n",
              "    </div>\n",
              "  </div>\n",
              "  "
            ],
            "text/plain": [
              "                                                 text       pred         true\n",
              "0   야 뭐하냐 어 아 이 찐따새끼 또 만화 쳐보고 있네 이딴게 재밌냐 하지마 돌려줘 뭐...      협박 대화    기타 괴롭힘 대화\n",
              "1   선배 제 뒷담 그만좀 하세요 내가 언제 이제 저도 지칩니다 들었어 어디서 많이 들었...  기타 괴롭힘 대화  직장 내 괴롭힘 대화\n",
              "2   이자는 이자까지 줬잖아 그건 저번 기간 이자고 이번 기간 이자까지 줘야지 이 년아 ...      협박 대화    기타 괴롭힘 대화\n",
              "3   어우 김선생 좀봐 머리를 하고왔는데도 얼굴이 저 꼬라지네 못봐주겠다 진짜 저 인간은...  기타 괴롭힘 대화  직장 내 괴롭힘 대화\n",
              "4   선생님 저 이번 시험 점수 도저히 납득이 되질 않습니다 은혜야 갑자기 그게 무슨 말...      협박 대화        갈취 대화\n",
              "5   아니 피뽑는게 왜이렇게아파 환자분 원래조끔 따금해요 바늘이 들어가는데 안아플수가없잖...      협박 대화    기타 괴롭힘 대화\n",
              "6   야 체육복 있냐 응 응응 있지 왜 나 교시에 체육시간인데 체육복 없어서 빌려주라 아...      갈취 대화    기타 괴롭힘 대화\n",
              "7   야야 너 기절놀이아냐 그게뭔데 궁금하지 이리와봐 알려줄께 이렇게 목 조르면 기절한다...      협박 대화    기타 괴롭힘 대화\n",
              "8   선생님 저희 얘 좀 잘 부탁드려요 지우 어머님 이러지마세요 저희 얘 꼭 좋은 대학교...  기타 괴롭힘 대화        갈취 대화\n",
              "9   야 거지 너네집 저기 판자촌이라면서 판자촌이 뭐야 왜 저 위에 다 쓰러져가는 집들 ...      갈취 대화    기타 괴롭힘 대화\n",
              "10  야 저새끼 뭐냐 이야 일병이 슬리퍼를 신고 담밸 피러 쳐왔네 죄송합니다 시간이 없어...  기타 괴롭힘 대화  직장 내 괴롭힘 대화\n",
              "11  김씨 저번에 빌려간 돈 이자가 오백만원이야 아니 원금이 만원인데 어떻게 이자가 일 ...      협박 대화        갈취 대화\n",
              "12  어이 코털 왜 왜 아놔됐고 너 매점가서 곰보빵 두개에 콜라하나 사와라 나 돈없어 돈...      갈취 대화    기타 괴롭힘 대화\n",
              "13  껍데기 뿐인 정박아로 태어난 주제에 용케 아직까지 살아있구나 좋은 아침 좋아질 것 ...      협박 대화    기타 괴롭힘 대화\n",
              "14  저 제스타일이신데 번호점 싫어요 아 존나 튕기네 싫다는데 왜 물어봐요 존나 비싸게 ...      갈취 대화    기타 괴롭힘 대화\n",
              "15  몇기냐 기입니다 나 기인데 인사 안박냐 필승 죄송합니다 야 됐고 니 아래 위로 내 ...      협박 대화  직장 내 괴롭힘 대화"
            ]
          },
          "metadata": {},
          "execution_count": 64
        }
      ]
    },
    {
      "cell_type": "code",
      "source": [
        "for i in range(len(tmp_false_df)):\n",
        "  sentence, prediction, real =tmp_false_df.iloc[i, :]\n",
        "  print(f\"예측 분류 : {prediction}\")\n",
        "  print(f\"실제 분류 : {real}\")\n",
        "  print(sentence)\n",
        "  print(\"\\n\")"
      ],
      "metadata": {
        "colab": {
          "base_uri": "https://localhost:8080/"
        },
        "id": "UQ8CE7liGn0K",
        "outputId": "dd8ce531-3b34-438b-937f-76a32000e11d"
      },
      "execution_count": null,
      "outputs": [
        {
          "output_type": "stream",
          "name": "stdout",
          "text": [
            "예측 분류 : 협박 대화\n",
            "실제 분류 : 기타 괴롭힘 대화\n",
            "야 뭐하냐 어 아 이 찐따새끼 또 만화 쳐보고 있네 이딴게 재밌냐 하지마 돌려줘 뭐래 오타쿠년이 이딴거나 보고 있으니 니 인생이 그렇지 하지마 돌려달란말이야 어쭈 이젠 기어오르시겠다 아 아니야 미안 이 만화처럼 너도 한 번 맞아야 정신 차리겠구나 미안해\n",
            "\n",
            "\n",
            "예측 분류 : 기타 괴롭힘 대화\n",
            "실제 분류 : 직장 내 괴롭힘 대화\n",
            "선배 제 뒷담 그만좀 하세요 내가 언제 이제 저도 지칩니다 들었어 어디서 많이 들었어요 못생긴게 일못한다는건 팩트잖아 선배 저 신고할게요 하던지요 시끌벅쩍 재밌겠네 사과 하시면 저도 끝낼게요 참는다고요 하던 일이나 하세요\n",
            "\n",
            "\n",
            "예측 분류 : 협박 대화\n",
            "실제 분류 : 기타 괴롭힘 대화\n",
            "이자는 이자까지 줬잖아 그건 저번 기간 이자고 이번 기간 이자까지 줘야지 이 년아 얼만데 너 하는 꼬라지 같아서 은 더 받아야겠는데 장난하지 말고 이자는 됐으니까 좀 맞자 저번에 잊었어 원금 다 갚은 대신 내 집에 들어오지 말고내 몸 털끝 하나도 건들지 말라고 난 동의한 적 없어 멍청한 년아 죽을때까지 너 따라다니면서 돈 뜯을 거야 너 사는 재미 없게 콱 죽어버려야겠다\n",
            "\n",
            "\n",
            "예측 분류 : 기타 괴롭힘 대화\n",
            "실제 분류 : 직장 내 괴롭힘 대화\n",
            "어우 김선생 좀봐 머리를 하고왔는데도 얼굴이 저 꼬라지네 못봐주겠다 진짜 저 인간은 직장내 따돌림을 당하는 이유가 다 있어 머리 저 꼬불 거리는거 잡아당겨볼까요 정선생 진짜 못됐다 근데 나도 해보고 싶네 선생님들 간식으로 피자 왔대요 인 콜라인가 보네 김선생은 안먹어도되지 어 저 콜라 좋아하는데요 엥 김선생 거울 좀 보고와 지금도 얼굴 다 붓고 탄산먹으면 살 많이찌잖아 그냥 저기 생수 먹어 네 근데 머리 어디 샵에서 한거야 그 정도면 김선생 싫어하는거같은데 유명한 샵에서 한건데 별로에요 선배 응 머리 다시 빨리하고와 꼴보기싫어\n",
            "\n",
            "\n",
            "예측 분류 : 협박 대화\n",
            "실제 분류 : 갈취 대화\n",
            "선생님 저 이번 시험 점수 도저히 납득이 되질 않습니다 은혜야 갑자기 그게 무슨 말이니 이미 성적처리는 다 끝났단다 제가 왜 과제 점수에서 이렇게 나온 거죠 그야 니가 요구하는 조건을 잘 충족시키지 못했으니 그렇게 나온거지 너 지금 내가 널 일부러 낮게 줬다는 거니 아뇨 그런 건 아니지만 선생님께서 저한테 이렇게 하시면 안 될 것 같아서요 은혜야 너 이거 좀 주제 넘는다고 생각안하니 평가는 너희가 하는게 아니라 선생인 내가 하는거야 쓸데 없는 소리하지말고 돌아가 아뇨 선생님 저 다 알고있어요 선생님이 혜정이 어머님께 뒷 돈 받으신거요 뭐 너 그게 무슨소리니 내가 그런 부당한 일을 저질렀다는 게 저 증거도 가지고 있구요 못 믿으시겠다면 제가 가진 증거 다 퍼트릴게요 교육청에 학교에 아이들에게요 너 정말 그게 지금 선생님한테 할 말이니 날 협박하는거야 선생님 그거 아시죠 나쁜 소문은 빨리퍼지고 아무리 거짓말이였다고해도 이미 늦은 뒤라는 거 그럼 전 제 성적 다시 정정해주실 거라 믿고 가볼게요\n",
            "\n",
            "\n",
            "예측 분류 : 협박 대화\n",
            "실제 분류 : 기타 괴롭힘 대화\n",
            "아니 피뽑는게 왜이렇게아파 환자분 원래조끔 따금해요 바늘이 들어가는데 안아플수가없잖아요 아니 안아프게 뽑는게 능력아니야 바늘이 들어가는데 어떻게 안아프겠어요 피뽑는 능력도 없으면서 말대답하는 능력은 있나봐 환자분 말씀이 지나치세요 아휴 아파 멍들면 책임질거야 환자분 너무억지쓰시면 저 힘들어요 나도 니가 피를 너무 아프게 뽑아서 힘들다고 아 휴 죄송합니다 진작 그럴것이지\n",
            "\n",
            "\n",
            "예측 분류 : 갈취 대화\n",
            "실제 분류 : 기타 괴롭힘 대화\n",
            "야 체육복 있냐 응 응응 있지 왜 나 교시에 체육시간인데 체육복 없어서 빌려주라 아 나 교시에 체육이라 바로 줘야해 알았어 내가 빌려 준 체육복 돌려줘 어딨어 체육복 그거 냄새나서 버렸는데 어 그걸 말도없이 왜 버려 그럼 너가 깨끗한걸 빌려주던가 땀냄새 심하던데 좀 빨아입어 너같으면 땀 냄새 나는데 더러워서 입을 수 있냐\n",
            "\n",
            "\n",
            "예측 분류 : 협박 대화\n",
            "실제 분류 : 기타 괴롭힘 대화\n",
            "야야 너 기절놀이아냐 그게뭔데 궁금하지 이리와봐 알려줄께 이렇게 목 조르면 기절한다더라고 그 그만해 하지마 조금만 더 해보자 궁금하잖아 진짜 기절하는지 살 살려줘 그만하고싶으면 기절해 새끼야 그만 좀 버텨라\n",
            "\n",
            "\n",
            "예측 분류 : 기타 괴롭힘 대화\n",
            "실제 분류 : 갈취 대화\n",
            "선생님 저희 얘 좀 잘 부탁드려요 지우 어머님 이러지마세요 저희 얘 꼭 좋은 대학교 가야합니다 지우는 똑똑해서 꼭 갈 수 있을 겁니다 너무 염려마세요 선생님 저희 얘 이 번 시험문제 좀 알려주실 수 있을까요 네 어머님 그건 불가능해요 아시잖아요 선생님 이번에 저희 조카랑 결혼하신다는 얘기는 들었습니다 민주씨요 근데 그게 저희 조카 제가 업어키웠습니다 제 말이라면 꿈뻑죽는 아이에요 무슨 말인지 아시죠 어머님 저는 그래도 불법을 저지를 수 없습니다 죄송합니다 그래요 그럼 저희 민주한테가서 이 결혼 선생님께서 안하겠다고 하셨다고 말해도 되는거죠 아 아 아닙니다 어머님 이러시는 거 정말 제말 이해 했다고 생각하겠습니다 내일 다시 올게요\n",
            "\n",
            "\n",
            "예측 분류 : 갈취 대화\n",
            "실제 분류 : 기타 괴롭힘 대화\n",
            "야 거지 너네집 저기 판자촌이라면서 판자촌이 뭐야 왜 저 위에 다 쓰러져가는 집들 있잖아 거기 귀신의 집 같이 다 허물어진데 새끼 귀신의 집은 무너지진 않잖아 쟤네 집은 천장에 구멍도 뚫려 있을걸 추워서 집에서 이불 둘둘 말고 있을텐데 용케 얼어죽진 않았네 날도 추운데 걱정은 못해줄망정 그게 무슨 망발이냐 거지 친구야 내가핫팩하나 줄까 추운데 이런거라도 있으면 낫지 않겠어 크큭 와 배려심봐라 쩔어 나도 쓰던거 있으니까 저녁 때까지는 쓸 수 있겠다 내가 내일도 쓰던거 줄테니까 꼭 가져가 쟤 주고 나면 나 손시려워서 어떻게 하냐 새끼 꼴에 자존심은 있는지 얼굴 빨개지네 그래 봤자 넌 거지새끼 못 면해\n",
            "\n",
            "\n",
            "예측 분류 : 기타 괴롭힘 대화\n",
            "실제 분류 : 직장 내 괴롭힘 대화\n",
            "야 저새끼 뭐냐 이야 일병이 슬리퍼를 신고 담밸 피러 쳐왔네 죄송합니다 시간이 없어서 급하게 오느라 신발을 못신었습니다 군대 많이 좋아졌네 우리가 잘해주니까 좋은가봐 아닙니다 아니야 뭐빠지게 챙겨줘도 우리가 만만한가보네 넌 한테 쳐 걸렸으면 진짜 뒤진거야 가서 한테 말해볼까 거 군대 뒤지게 좋아졌네 아닙니다 죄송합니다 아냐아냐 죄송할 필요 없어 죄송하다고 다 될거면 규칙이 왜있겠냐 아니다 뭐 일병이 슬리퍼좀 신고 올 수도 있지 거 참 죄송하게 됐습니다 이젠 무시하네 별 거지같은게 기분 뭣같이 만드네 아닙니다 진짜 죄송합니다 아니 죄송할 필요 없다니까 그 대가리가 안돌아가냐 야 그냥 뒤지기 싫으면 우리 배식조나 함 해라 일 주말인데 불만 없지 네 알겠습니다\n",
            "\n",
            "\n",
            "예측 분류 : 협박 대화\n",
            "실제 분류 : 갈취 대화\n",
            "김씨 저번에 빌려간 돈 이자가 오백만원이야 아니 원금이 만원인데 어떻게 이자가 일 수 있습니까 계약서에 적혀있잖아 당장 돈 갚아 그럴수 없습니다 이건 법적으로 따져도 이자가 너무 높습니다 김씨 죽고 싶어 김씨 신장 하나 잃고 싶어 아니 무슨 말을 그렇게 합니까 돈 없으면 몸으로 갚아야 할 것 아냐 경찰에 신고하겠습니다 신고 당신 몸으로 갚아 그럼 야 김씨가 신장하나 떼 가란다 이거놔\n",
            "\n",
            "\n",
            "예측 분류 : 갈취 대화\n",
            "실제 분류 : 기타 괴롭힘 대화\n",
            "어이 코털 왜 왜 아놔됐고 너 매점가서 곰보빵 두개에 콜라하나 사와라 나 돈없어 돈없어 그럼 내가 돈줄께 어 여기 원 줄테니까 빵두개 콜라하나 사고 거스름돈 거슬러와라 야 택도없어 야 뒤질래 쌔벼서라도 갖고와 색키야 야\n",
            "\n",
            "\n",
            "예측 분류 : 협박 대화\n",
            "실제 분류 : 기타 괴롭힘 대화\n",
            "껍데기 뿐인 정박아로 태어난 주제에 용케 아직까지 살아있구나 좋은 아침 좋아질 것 같지 않지만 모두 네 덕분이지 너의 존재는 너와 함께하는 모두어게 민폐만 끼칠 뿐이야 그렇게 생각하든가 네 생각과는 상관없이 난 잘 살아가고 있어 내가 말하는 건 사실 뿐이야 시간이 흐르고 주위 사람들의 연민이 바닥을 보일 때 너는 그 무엇도 될 수 없어 확실히 내겐 문제가 많아 하지만 그건 내 문제지 네 문제인가 내가 몇 번이나 말했었지 네가 나를 괴롭히는 이유 다시 한 번 말해주겠어 멍청한 이 몸은 기억을 못하겠네 너 같은 불량품 자식과 나의 혈관에 같은 피가 흐른다는 게 수치스러워서 견딜 수가 없어 이쯤되면 목을 메달든 손목을 긋든 어서 자살하라고 내 손을 더럽히려 하지 말고 절대 그럴 일 없다네 형제여 네 삶의 모든 것을 불살라버릴 거야 이 세상 모든 것이 너를 적대하게 되겠지 그 때 가서 후회하지 마\n",
            "\n",
            "\n",
            "예측 분류 : 갈취 대화\n",
            "실제 분류 : 기타 괴롭힘 대화\n",
            "저 제스타일이신데 번호점 싫어요 아 존나 튕기네 싫다는데 왜 물어봐요 존나 비싸게 구네 비싸게 굴지말고 전번좀 주라 저 남자친구 있어서 전번줄수 없어요 그럼 친구라도 지내게 전화번호좀 주세요 싫어요 왜자꾸 전화번호 달라고 하세요 전번줄때까지 휴대폰 안줄꺼예요 전번줄테니까 휴대폰 주세요\n",
            "\n",
            "\n",
            "예측 분류 : 협박 대화\n",
            "실제 분류 : 직장 내 괴롭힘 대화\n",
            "몇기냐 기입니다 나 기인데 인사 안박냐 필승 죄송합니다 야 됐고 니 아래 위로 내 밑으로 다 집합시켜라 잘못들었습니다 잘못듣긴 다 데리고 오라고 찌발럼아 알겠습니다 빨리 데리고 와라 뒤지기 싫으면 알겠습니다 필승\n",
            "\n",
            "\n"
          ]
        }
      ]
    },
    {
      "cell_type": "markdown",
      "source": [
        "#### electra, bert, lstm 3개의 모델 틀린 경우 확인"
      ],
      "metadata": {
        "id": "CW4yIHjRumo6"
      }
    },
    {
      "cell_type": "code",
      "source": [
        "false_list = []\n",
        "for idx, label in enumerate(bucket_y_pred):\n",
        "  if label != y_test[idx]:\n",
        "    false_list.append(idx)\n",
        "\n",
        "false_text = np.array(x_test)[false_list]\n",
        "false_pred = np.array(bucket_y_pred)[false_list]\n",
        "false_true = np.array(y_test)[false_list]"
      ],
      "metadata": {
        "id": "kd0ksKXrizo0"
      },
      "execution_count": null,
      "outputs": []
    },
    {
      "cell_type": "code",
      "source": [
        "false_df = pd.DataFrame({\"text\":false_text, \"true\":false_true, \"pred\":false_pred})\n",
        "false_df[\"true\"] = false_df[\"true\"].apply(lambda x : id2label(x))\n",
        "false_df[\"pred\"] = false_df[\"pred\"].apply(lambda x : id2label(x))\n",
        "false_df"
      ],
      "metadata": {
        "colab": {
          "base_uri": "https://localhost:8080/",
          "height": 582
        },
        "id": "1M5f72VImXaQ",
        "outputId": "aa020496-3c5c-445a-805b-1e4dfb157f11"
      },
      "execution_count": null,
      "outputs": [
        {
          "output_type": "execute_result",
          "data": {
            "text/html": [
              "\n",
              "  <div id=\"df-dbc83802-002a-4361-914f-04fad675120c\">\n",
              "    <div class=\"colab-df-container\">\n",
              "      <div>\n",
              "<style scoped>\n",
              "    .dataframe tbody tr th:only-of-type {\n",
              "        vertical-align: middle;\n",
              "    }\n",
              "\n",
              "    .dataframe tbody tr th {\n",
              "        vertical-align: top;\n",
              "    }\n",
              "\n",
              "    .dataframe thead th {\n",
              "        text-align: right;\n",
              "    }\n",
              "</style>\n",
              "<table border=\"1\" class=\"dataframe\">\n",
              "  <thead>\n",
              "    <tr style=\"text-align: right;\">\n",
              "      <th></th>\n",
              "      <th>text</th>\n",
              "      <th>true</th>\n",
              "      <th>pred</th>\n",
              "    </tr>\n",
              "  </thead>\n",
              "  <tbody>\n",
              "    <tr>\n",
              "      <th>0</th>\n",
              "      <td>조용히 이혼하고 이 집만 넘겨 당신이 무슨 자격으로 무슨 자격이라니 잊었나본데 당신...</td>\n",
              "      <td>갈취 대화</td>\n",
              "      <td>기타 괴롭힘 대화</td>\n",
              "    </tr>\n",
              "    <tr>\n",
              "      <th>1</th>\n",
              "      <td>선배 제 뒷담 그만좀 하세요 내가 언제 이제 저도 지칩니다 들었어 어디서 많이 들었...</td>\n",
              "      <td>직장 내 괴롭힘 대화</td>\n",
              "      <td>기타 괴롭힘 대화</td>\n",
              "    </tr>\n",
              "    <tr>\n",
              "      <th>2</th>\n",
              "      <td>이자는 이자까지 줬잖아 그건 저번 기간 이자고 이번 기간 이자까지 줘야지 이 년아 ...</td>\n",
              "      <td>기타 괴롭힘 대화</td>\n",
              "      <td>협박 대화</td>\n",
              "    </tr>\n",
              "    <tr>\n",
              "      <th>3</th>\n",
              "      <td>어우 김선생 좀봐 머리를 하고왔는데도 얼굴이 저 꼬라지네 못봐주겠다 진짜 저 인간은...</td>\n",
              "      <td>직장 내 괴롭힘 대화</td>\n",
              "      <td>기타 괴롭힘 대화</td>\n",
              "    </tr>\n",
              "    <tr>\n",
              "      <th>4</th>\n",
              "      <td>야 니 롤 티어 첼린저더라 응 맞아 나 요즘 롤 즐겨하는데 티어가 안오르던데 너 좀...</td>\n",
              "      <td>협박 대화</td>\n",
              "      <td>갈취 대화</td>\n",
              "    </tr>\n",
              "    <tr>\n",
              "      <th>5</th>\n",
              "      <td>야 찐따 응 상철아 왜 매점 가서 빵 좀 사와 돈은 아나 지난번에 덜맞았나 니가 사...</td>\n",
              "      <td>갈취 대화</td>\n",
              "      <td>기타 괴롭힘 대화</td>\n",
              "    </tr>\n",
              "    <tr>\n",
              "      <th>6</th>\n",
              "      <td>선생님 저 이번 시험 점수 도저히 납득이 되질 않습니다 은혜야 갑자기 그게 무슨 말...</td>\n",
              "      <td>갈취 대화</td>\n",
              "      <td>기타 괴롭힘 대화</td>\n",
              "    </tr>\n",
              "    <tr>\n",
              "      <th>7</th>\n",
              "      <td>아니 피뽑는게 왜이렇게아파 환자분 원래조끔 따금해요 바늘이 들어가는데 안아플수가없잖...</td>\n",
              "      <td>기타 괴롭힘 대화</td>\n",
              "      <td>협박 대화</td>\n",
              "    </tr>\n",
              "    <tr>\n",
              "      <th>8</th>\n",
              "      <td>친구야 우리 친구 맞지 내가 너 다른반 애들한테 쥐어터질때 도와줬잖아 아 응 늘 고...</td>\n",
              "      <td>갈취 대화</td>\n",
              "      <td>기타 괴롭힘 대화</td>\n",
              "    </tr>\n",
              "    <tr>\n",
              "      <th>9</th>\n",
              "      <td>야 체육복 있냐 응 응응 있지 왜 나 교시에 체육시간인데 체육복 없어서 빌려주라 아...</td>\n",
              "      <td>기타 괴롭힘 대화</td>\n",
              "      <td>갈취 대화</td>\n",
              "    </tr>\n",
              "    <tr>\n",
              "      <th>10</th>\n",
              "      <td>야야 너 기절놀이아냐 그게뭔데 궁금하지 이리와봐 알려줄께 이렇게 목 조르면 기절한다...</td>\n",
              "      <td>기타 괴롭힘 대화</td>\n",
              "      <td>협박 대화</td>\n",
              "    </tr>\n",
              "    <tr>\n",
              "      <th>11</th>\n",
              "      <td>선생님 저희 얘 좀 잘 부탁드려요 지우 어머님 이러지마세요 저희 얘 꼭 좋은 대학교...</td>\n",
              "      <td>갈취 대화</td>\n",
              "      <td>기타 괴롭힘 대화</td>\n",
              "    </tr>\n",
              "    <tr>\n",
              "      <th>12</th>\n",
              "      <td>야 거지 너네집 저기 판자촌이라면서 판자촌이 뭐야 왜 저 위에 다 쓰러져가는 집들 ...</td>\n",
              "      <td>기타 괴롭힘 대화</td>\n",
              "      <td>갈취 대화</td>\n",
              "    </tr>\n",
              "    <tr>\n",
              "      <th>13</th>\n",
              "      <td>야 너 내가 카톡하면 초 안에 보라고 했지 아 어 미안 근데 왜이렇게 늦어 정말 맞...</td>\n",
              "      <td>기타 괴롭힘 대화</td>\n",
              "      <td>갈취 대화</td>\n",
              "    </tr>\n",
              "    <tr>\n",
              "      <th>14</th>\n",
              "      <td>어이 코털 왜 왜 아놔됐고 너 매점가서 곰보빵 두개에 콜라하나 사와라 나 돈없어 돈...</td>\n",
              "      <td>기타 괴롭힘 대화</td>\n",
              "      <td>갈취 대화</td>\n",
              "    </tr>\n",
              "    <tr>\n",
              "      <th>15</th>\n",
              "      <td>껍데기 뿐인 정박아로 태어난 주제에 용케 아직까지 살아있구나 좋은 아침 좋아질 것 ...</td>\n",
              "      <td>기타 괴롭힘 대화</td>\n",
              "      <td>협박 대화</td>\n",
              "    </tr>\n",
              "    <tr>\n",
              "      <th>16</th>\n",
              "      <td>몇기냐 기입니다 나 기인데 인사 안박냐 필승 죄송합니다 야 됐고 니 아래 위로 내 ...</td>\n",
              "      <td>직장 내 괴롭힘 대화</td>\n",
              "      <td>기타 괴롭힘 대화</td>\n",
              "    </tr>\n",
              "  </tbody>\n",
              "</table>\n",
              "</div>\n",
              "      <button class=\"colab-df-convert\" onclick=\"convertToInteractive('df-dbc83802-002a-4361-914f-04fad675120c')\"\n",
              "              title=\"Convert this dataframe to an interactive table.\"\n",
              "              style=\"display:none;\">\n",
              "        \n",
              "  <svg xmlns=\"http://www.w3.org/2000/svg\" height=\"24px\"viewBox=\"0 0 24 24\"\n",
              "       width=\"24px\">\n",
              "    <path d=\"M0 0h24v24H0V0z\" fill=\"none\"/>\n",
              "    <path d=\"M18.56 5.44l.94 2.06.94-2.06 2.06-.94-2.06-.94-.94-2.06-.94 2.06-2.06.94zm-11 1L8.5 8.5l.94-2.06 2.06-.94-2.06-.94L8.5 2.5l-.94 2.06-2.06.94zm10 10l.94 2.06.94-2.06 2.06-.94-2.06-.94-.94-2.06-.94 2.06-2.06.94z\"/><path d=\"M17.41 7.96l-1.37-1.37c-.4-.4-.92-.59-1.43-.59-.52 0-1.04.2-1.43.59L10.3 9.45l-7.72 7.72c-.78.78-.78 2.05 0 2.83L4 21.41c.39.39.9.59 1.41.59.51 0 1.02-.2 1.41-.59l7.78-7.78 2.81-2.81c.8-.78.8-2.07 0-2.86zM5.41 20L4 18.59l7.72-7.72 1.47 1.35L5.41 20z\"/>\n",
              "  </svg>\n",
              "      </button>\n",
              "      \n",
              "  <style>\n",
              "    .colab-df-container {\n",
              "      display:flex;\n",
              "      flex-wrap:wrap;\n",
              "      gap: 12px;\n",
              "    }\n",
              "\n",
              "    .colab-df-convert {\n",
              "      background-color: #E8F0FE;\n",
              "      border: none;\n",
              "      border-radius: 50%;\n",
              "      cursor: pointer;\n",
              "      display: none;\n",
              "      fill: #1967D2;\n",
              "      height: 32px;\n",
              "      padding: 0 0 0 0;\n",
              "      width: 32px;\n",
              "    }\n",
              "\n",
              "    .colab-df-convert:hover {\n",
              "      background-color: #E2EBFA;\n",
              "      box-shadow: 0px 1px 2px rgba(60, 64, 67, 0.3), 0px 1px 3px 1px rgba(60, 64, 67, 0.15);\n",
              "      fill: #174EA6;\n",
              "    }\n",
              "\n",
              "    [theme=dark] .colab-df-convert {\n",
              "      background-color: #3B4455;\n",
              "      fill: #D2E3FC;\n",
              "    }\n",
              "\n",
              "    [theme=dark] .colab-df-convert:hover {\n",
              "      background-color: #434B5C;\n",
              "      box-shadow: 0px 1px 3px 1px rgba(0, 0, 0, 0.15);\n",
              "      filter: drop-shadow(0px 1px 2px rgba(0, 0, 0, 0.3));\n",
              "      fill: #FFFFFF;\n",
              "    }\n",
              "  </style>\n",
              "\n",
              "      <script>\n",
              "        const buttonEl =\n",
              "          document.querySelector('#df-dbc83802-002a-4361-914f-04fad675120c button.colab-df-convert');\n",
              "        buttonEl.style.display =\n",
              "          google.colab.kernel.accessAllowed ? 'block' : 'none';\n",
              "\n",
              "        async function convertToInteractive(key) {\n",
              "          const element = document.querySelector('#df-dbc83802-002a-4361-914f-04fad675120c');\n",
              "          const dataTable =\n",
              "            await google.colab.kernel.invokeFunction('convertToInteractive',\n",
              "                                                     [key], {});\n",
              "          if (!dataTable) return;\n",
              "\n",
              "          const docLinkHtml = 'Like what you see? Visit the ' +\n",
              "            '<a target=\"_blank\" href=https://colab.research.google.com/notebooks/data_table.ipynb>data table notebook</a>'\n",
              "            + ' to learn more about interactive tables.';\n",
              "          element.innerHTML = '';\n",
              "          dataTable['output_type'] = 'display_data';\n",
              "          await google.colab.output.renderOutput(dataTable, element);\n",
              "          const docLink = document.createElement('div');\n",
              "          docLink.innerHTML = docLinkHtml;\n",
              "          element.appendChild(docLink);\n",
              "        }\n",
              "      </script>\n",
              "    </div>\n",
              "  </div>\n",
              "  "
            ],
            "text/plain": [
              "                                                 text         true       pred\n",
              "0   조용히 이혼하고 이 집만 넘겨 당신이 무슨 자격으로 무슨 자격이라니 잊었나본데 당신...        갈취 대화  기타 괴롭힘 대화\n",
              "1   선배 제 뒷담 그만좀 하세요 내가 언제 이제 저도 지칩니다 들었어 어디서 많이 들었...  직장 내 괴롭힘 대화  기타 괴롭힘 대화\n",
              "2   이자는 이자까지 줬잖아 그건 저번 기간 이자고 이번 기간 이자까지 줘야지 이 년아 ...    기타 괴롭힘 대화      협박 대화\n",
              "3   어우 김선생 좀봐 머리를 하고왔는데도 얼굴이 저 꼬라지네 못봐주겠다 진짜 저 인간은...  직장 내 괴롭힘 대화  기타 괴롭힘 대화\n",
              "4   야 니 롤 티어 첼린저더라 응 맞아 나 요즘 롤 즐겨하는데 티어가 안오르던데 너 좀...        협박 대화      갈취 대화\n",
              "5   야 찐따 응 상철아 왜 매점 가서 빵 좀 사와 돈은 아나 지난번에 덜맞았나 니가 사...        갈취 대화  기타 괴롭힘 대화\n",
              "6   선생님 저 이번 시험 점수 도저히 납득이 되질 않습니다 은혜야 갑자기 그게 무슨 말...        갈취 대화  기타 괴롭힘 대화\n",
              "7   아니 피뽑는게 왜이렇게아파 환자분 원래조끔 따금해요 바늘이 들어가는데 안아플수가없잖...    기타 괴롭힘 대화      협박 대화\n",
              "8   친구야 우리 친구 맞지 내가 너 다른반 애들한테 쥐어터질때 도와줬잖아 아 응 늘 고...        갈취 대화  기타 괴롭힘 대화\n",
              "9   야 체육복 있냐 응 응응 있지 왜 나 교시에 체육시간인데 체육복 없어서 빌려주라 아...    기타 괴롭힘 대화      갈취 대화\n",
              "10  야야 너 기절놀이아냐 그게뭔데 궁금하지 이리와봐 알려줄께 이렇게 목 조르면 기절한다...    기타 괴롭힘 대화      협박 대화\n",
              "11  선생님 저희 얘 좀 잘 부탁드려요 지우 어머님 이러지마세요 저희 얘 꼭 좋은 대학교...        갈취 대화  기타 괴롭힘 대화\n",
              "12  야 거지 너네집 저기 판자촌이라면서 판자촌이 뭐야 왜 저 위에 다 쓰러져가는 집들 ...    기타 괴롭힘 대화      갈취 대화\n",
              "13  야 너 내가 카톡하면 초 안에 보라고 했지 아 어 미안 근데 왜이렇게 늦어 정말 맞...    기타 괴롭힘 대화      갈취 대화\n",
              "14  어이 코털 왜 왜 아놔됐고 너 매점가서 곰보빵 두개에 콜라하나 사와라 나 돈없어 돈...    기타 괴롭힘 대화      갈취 대화\n",
              "15  껍데기 뿐인 정박아로 태어난 주제에 용케 아직까지 살아있구나 좋은 아침 좋아질 것 ...    기타 괴롭힘 대화      협박 대화\n",
              "16  몇기냐 기입니다 나 기인데 인사 안박냐 필승 죄송합니다 야 됐고 니 아래 위로 내 ...  직장 내 괴롭힘 대화  기타 괴롭힘 대화"
            ]
          },
          "metadata": {},
          "execution_count": 33
        }
      ]
    }
  ]
}