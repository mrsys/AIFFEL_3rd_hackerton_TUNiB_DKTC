{
  "cells": [
    {
      "cell_type": "markdown",
      "metadata": {
        "id": "view-in-github",
        "colab_type": "text"
      },
      "source": [
        "<a href=\"https://colab.research.google.com/github/sda96/AIFFEL_3rd_hackerton_TUNiB_DKTC/blob/main/notebook/ChangHyun/submission_experiment.ipynb\" target=\"_parent\"><img src=\"https://colab.research.google.com/assets/colab-badge.svg\" alt=\"Open In Colab\"/></a>"
      ]
    },
    {
      "cell_type": "markdown",
      "source": [
        "## 1. 환경 설정"
      ],
      "metadata": {
        "id": "YcMjKvuQWOHK"
      },
      "id": "YcMjKvuQWOHK"
    },
    {
      "cell_type": "markdown",
      "source": [
        "필요한 패키지 불러오기"
      ],
      "metadata": {
        "id": "mclJrkru5cSV"
      },
      "id": "mclJrkru5cSV"
    },
    {
      "cell_type": "code",
      "source": [
        "!pip install transformers\n",
        "!pip install sentencepiece\n",
        "!pip install konlpy\n",
        "!pip install transformers-interpret"
      ],
      "metadata": {
        "id": "g01yla0190IH"
      },
      "id": "g01yla0190IH",
      "execution_count": null,
      "outputs": []
    },
    {
      "cell_type": "markdown",
      "source": [
        "matplotlib 한글 깨짐 해결"
      ],
      "metadata": {
        "id": "CN4hwQ3E7zuJ"
      },
      "id": "CN4hwQ3E7zuJ"
    },
    {
      "cell_type": "code",
      "source": [
        "!sudo apt-get install -y fonts-nanum\n",
        "!sudo fc-cache -fv\n",
        "!rm ~/.cache/matplotlib -rf"
      ],
      "metadata": {
        "id": "G9TBikq58c2N"
      },
      "id": "G9TBikq58c2N",
      "execution_count": null,
      "outputs": []
    },
    {
      "cell_type": "markdown",
      "source": [
        "mecab 설치"
      ],
      "metadata": {
        "id": "utcHQOr274zw"
      },
      "id": "utcHQOr274zw"
    },
    {
      "cell_type": "code",
      "source": [
        "!sudo apt-get install curl git\n",
        "!bash <(curl -s https://raw.githubusercontent.com/konlpy/konlpy/master/scripts/mecab.sh)"
      ],
      "metadata": {
        "id": "4TxDzWEh74LR"
      },
      "id": "4TxDzWEh74LR",
      "execution_count": null,
      "outputs": []
    },
    {
      "cell_type": "markdown",
      "source": [
        "#### 해당 [사이트](https://teddylee777.github.io/colab/colab-korean)를 참고하여 위의 코드를 실행한 다음 런타임 재시작을 해주어야 합니다."
      ],
      "metadata": {
        "id": "oUtVJiH59ASm"
      },
      "id": "oUtVJiH59ASm"
    },
    {
      "cell_type": "code",
      "source": [
        "import seaborn as sns\n",
        "import matplotlib.pyplot as plt\n",
        "import numpy as np\n",
        "\n",
        "# 한글 지원 폰트\n",
        "plt.rc('font', family='NanumBarunGothic')\n",
        "\n",
        "# 마이너스 부호 \n",
        "plt.rcParams['axes.unicode_minus'] = False\n",
        "\n",
        "plt.plot(np.random.randint(1, 50, 25))\n",
        "plt.title(\"가나다라\")\n",
        "plt.show()"
      ],
      "metadata": {
        "colab": {
          "base_uri": "https://localhost:8080/",
          "height": 280
        },
        "id": "5Z2owJw-50vM",
        "outputId": "4c3b426a-5439-472b-c71b-bc11caa94e85"
      },
      "id": "5Z2owJw-50vM",
      "execution_count": null,
      "outputs": [
        {
          "output_type": "display_data",
          "data": {
            "image/png": "[encoded data removed]",
            "text/plain": [
              "<Figure size 432x288 with 1 Axes>"
            ]
          },
          "metadata": {
            "needs_background": "light"
          }
        }
      ]
    },
    {
      "cell_type": "markdown",
      "source": [
        "#### 구글 드라이브와 코랩 연결"
      ],
      "metadata": {
        "id": "QSbnI8rRUGMm"
      },
      "id": "QSbnI8rRUGMm"
    },
    {
      "cell_type": "code",
      "source": [
        "import os, sys\n",
        "from google.colab import drive\n",
        "drive.mount('/content/drive')\n",
        "os.chdir('/content/drive/MyDrive/TUNiB준비반/AIFFEL_3rd_hackerton_TUNiB_DKTC/notebook/ChangHyun')"
      ],
      "metadata": {
        "colab": {
          "base_uri": "https://localhost:8080/"
        },
        "id": "Aohacm9kptzv",
        "outputId": "99902180-1d6e-473f-bcd7-d167a80a839a"
      },
      "id": "Aohacm9kptzv",
      "execution_count": null,
      "outputs": [
        {
          "output_type": "stream",
          "name": "stdout",
          "text": [
            "Mounted at /content/drive\n"
          ]
        }
      ]
    },
    {
      "cell_type": "markdown",
      "source": [
        "## 2. 데이터 불러오기"
      ],
      "metadata": {
        "id": "n7C236xgpKES"
      },
      "id": "n7C236xgpKES"
    },
    {
      "cell_type": "code",
      "source": [
        "ls ../../data/senti_kor_sns_5000_bt.csv"
      ],
      "metadata": {
        "colab": {
          "base_uri": "https://localhost:8080/"
        },
        "id": "MwLPbarlv1S-",
        "outputId": "0be8049d-4e3f-4826-8c37-f38942a42428"
      },
      "id": "MwLPbarlv1S-",
      "execution_count": null,
      "outputs": [
        {
          "output_type": "stream",
          "name": "stdout",
          "text": [
            "\u001b[0m\u001b[01;34mAI_HUB\u001b[0m/                        senti_kor_sns_5000_koeda.csv\n",
            "aihub_total.txt                senti_kor_sns_summary_5000_bt.csv\n",
            "\u001b[01;34maugmented_files\u001b[0m/               \u001b[01;34msns_pred_data\u001b[0m/\n",
            "senti_kor_sns_5000_allaug.csv  total.csv\n",
            "senti_kor_sns_5000_bt.csv      \u001b[01;34mTUNiB\u001b[0m/\n",
            "senti_kor_sns_5000.csv\n"
          ]
        }
      ]
    },
    {
      "cell_type": "code",
      "source": [
        "import pandas as pd\n",
        "\n",
        "tmp = pd.read_csv(\"../../data/senti_kor_sns_5000_bt.csv\")\n",
        "tmp.groupby(\"class\").count()"
      ],
      "metadata": {
        "colab": {
          "base_uri": "https://localhost:8080/",
          "height": 237
        },
        "id": "d6Oq0wcLwMlK",
        "outputId": "dd1018c2-64d1-4e70-812d-7fc69a0392f7"
      },
      "id": "d6Oq0wcLwMlK",
      "execution_count": null,
      "outputs": [
        {
          "output_type": "execute_result",
          "data": {
            "text/html": [
              "\n",
              "  <div id=\"df-82f14c2e-19fd-4736-b313-06b8e5c01354\">\n",
              "    <div class=\"colab-df-container\">\n",
              "      <div>\n",
              "<style scoped>\n",
              "    .dataframe tbody tr th:only-of-type {\n",
              "        vertical-align: middle;\n",
              "    }\n",
              "\n",
              "    .dataframe tbody tr th {\n",
              "        vertical-align: top;\n",
              "    }\n",
              "\n",
              "    .dataframe thead th {\n",
              "        text-align: right;\n",
              "    }\n",
              "</style>\n",
              "<table border=\"1\" class=\"dataframe\">\n",
              "  <thead>\n",
              "    <tr style=\"text-align: right;\">\n",
              "      <th></th>\n",
              "      <th>Unnamed: 0</th>\n",
              "      <th>conversation</th>\n",
              "    </tr>\n",
              "    <tr>\n",
              "      <th>class</th>\n",
              "      <th></th>\n",
              "      <th></th>\n",
              "    </tr>\n",
              "  </thead>\n",
              "  <tbody>\n",
              "    <tr>\n",
              "      <th>0</th>\n",
              "      <td>3584</td>\n",
              "      <td>3584</td>\n",
              "    </tr>\n",
              "    <tr>\n",
              "      <th>1</th>\n",
              "      <td>3924</td>\n",
              "      <td>3924</td>\n",
              "    </tr>\n",
              "    <tr>\n",
              "      <th>2</th>\n",
              "      <td>3916</td>\n",
              "      <td>3916</td>\n",
              "    </tr>\n",
              "    <tr>\n",
              "      <th>3</th>\n",
              "      <td>4376</td>\n",
              "      <td>4376</td>\n",
              "    </tr>\n",
              "    <tr>\n",
              "      <th>4</th>\n",
              "      <td>15346</td>\n",
              "      <td>15346</td>\n",
              "    </tr>\n",
              "  </tbody>\n",
              "</table>\n",
              "</div>\n",
              "      <button class=\"colab-df-convert\" onclick=\"convertToInteractive('df-82f14c2e-19fd-4736-b313-06b8e5c01354')\"\n",
              "              title=\"Convert this dataframe to an interactive table.\"\n",
              "              style=\"display:none;\">\n",
              "        \n",
              "  <svg xmlns=\"http://www.w3.org/2000/svg\" height=\"24px\"viewBox=\"0 0 24 24\"\n",
              "       width=\"24px\">\n",
              "    <path d=\"M0 0h24v24H0V0z\" fill=\"none\"/>\n",
              "    <path d=\"M18.56 5.44l.94 2.06.94-2.06 2.06-.94-2.06-.94-.94-2.06-.94 2.06-2.06.94zm-11 1L8.5 8.5l.94-2.06 2.06-.94-2.06-.94L8.5 2.5l-.94 2.06-2.06.94zm10 10l.94 2.06.94-2.06 2.06-.94-2.06-.94-.94-2.06-.94 2.06-2.06.94z\"/><path d=\"M17.41 7.96l-1.37-1.37c-.4-.4-.92-.59-1.43-.59-.52 0-1.04.2-1.43.59L10.3 9.45l-7.72 7.72c-.78.78-.78 2.05 0 2.83L4 21.41c.39.39.9.59 1.41.59.51 0 1.02-.2 1.41-.59l7.78-7.78 2.81-2.81c.8-.78.8-2.07 0-2.86zM5.41 20L4 18.59l7.72-7.72 1.47 1.35L5.41 20z\"/>\n",
              "  </svg>\n",
              "      </button>\n",
              "      \n",
              "  <style>\n",
              "    .colab-df-container {\n",
              "      display:flex;\n",
              "      flex-wrap:wrap;\n",
              "      gap: 12px;\n",
              "    }\n",
              "\n",
              "    .colab-df-convert {\n",
              "      background-color: #E8F0FE;\n",
              "      border: none;\n",
              "      border-radius: 50%;\n",
              "      cursor: pointer;\n",
              "      display: none;\n",
              "      fill: #1967D2;\n",
              "      height: 32px;\n",
              "      padding: 0 0 0 0;\n",
              "      width: 32px;\n",
              "    }\n",
              "\n",
              "    .colab-df-convert:hover {\n",
              "      background-color: #E2EBFA;\n",
              "      box-shadow: 0px 1px 2px rgba(60, 64, 67, 0.3), 0px 1px 3px 1px rgba(60, 64, 67, 0.15);\n",
              "      fill: #174EA6;\n",
              "    }\n",
              "\n",
              "    [theme=dark] .colab-df-convert {\n",
              "      background-color: #3B4455;\n",
              "      fill: #D2E3FC;\n",
              "    }\n",
              "\n",
              "    [theme=dark] .colab-df-convert:hover {\n",
              "      background-color: #434B5C;\n",
              "      box-shadow: 0px 1px 3px 1px rgba(0, 0, 0, 0.15);\n",
              "      filter: drop-shadow(0px 1px 2px rgba(0, 0, 0, 0.3));\n",
              "      fill: #FFFFFF;\n",
              "    }\n",
              "  </style>\n",
              "\n",
              "      <script>\n",
              "        const buttonEl =\n",
              "          document.querySelector('#df-82f14c2e-19fd-4736-b313-06b8e5c01354 button.colab-df-convert');\n",
              "        buttonEl.style.display =\n",
              "          google.colab.kernel.accessAllowed ? 'block' : 'none';\n",
              "\n",
              "        async function convertToInteractive(key) {\n",
              "          const element = document.querySelector('#df-82f14c2e-19fd-4736-b313-06b8e5c01354');\n",
              "          const dataTable =\n",
              "            await google.colab.kernel.invokeFunction('convertToInteractive',\n",
              "                                                     [key], {});\n",
              "          if (!dataTable) return;\n",
              "\n",
              "          const docLinkHtml = 'Like what you see? Visit the ' +\n",
              "            '<a target=\"_blank\" href=https://colab.research.google.com/notebooks/data_table.ipynb>data table notebook</a>'\n",
              "            + ' to learn more about interactive tables.';\n",
              "          element.innerHTML = '';\n",
              "          dataTable['output_type'] = 'display_data';\n",
              "          await google.colab.output.renderOutput(dataTable, element);\n",
              "          const docLink = document.createElement('div');\n",
              "          docLink.innerHTML = docLinkHtml;\n",
              "          element.appendChild(docLink);\n",
              "        }\n",
              "      </script>\n",
              "    </div>\n",
              "  </div>\n",
              "  "
            ],
            "text/plain": [
              "       Unnamed: 0  conversation\n",
              "class                          \n",
              "0            3584          3584\n",
              "1            3924          3924\n",
              "2            3916          3916\n",
              "3            4376          4376\n",
              "4           15346         15346"
            ]
          },
          "metadata": {},
          "execution_count": 5
        }
      ]
    },
    {
      "cell_type": "markdown",
      "source": [
        "#### TUNiB 데이터 불러오기"
      ],
      "metadata": {
        "id": "rzmg7UqEzUaS"
      },
      "id": "rzmg7UqEzUaS"
    },
    {
      "cell_type": "code",
      "source": [
        "import pandas as pd\n",
        "\n",
        "tunib_train = pd.read_csv(\"../../data/TUNiB/train.csv\")\n",
        "tunib_train = tunib_train[[\"class\", \"conversation\"]]"
      ],
      "metadata": {
        "id": "NE4rkAdDC-F_"
      },
      "id": "NE4rkAdDC-F_",
      "execution_count": null,
      "outputs": []
    },
    {
      "cell_type": "markdown",
      "source": [
        "#### 증강 데이터 불러오기"
      ],
      "metadata": {
        "id": "A6Dpl1IqY_09"
      },
      "id": "A6Dpl1IqY_09"
    },
    {
      "cell_type": "code",
      "source": [
        "from glob import glob\n",
        "\n",
        "aug_path = glob(\"../../data/augmented_files/*\")\n",
        "bt_aug_path = [path for path in aug_path if \"bt\" in path]\n",
        "\n",
        "aug_train = pd.DataFrame()\n",
        "for path in bt_aug_path:\n",
        "  tmp = pd.read_csv(path, index_col = [0])\n",
        "  aug_train = pd.concat([aug_train, tmp], axis = 0)\n",
        "\n",
        "aug_train = aug_train.reset_index(drop=True)\n",
        "aug_train = aug_train.rename(columns = {\"x_train\":\"conversation\", \"y_train\":\"class\"})\n",
        "aug_train = aug_train[[\"class\", \"conversation\"]]\n",
        "print(aug_train.shape)\n",
        "aug_train.head()"
      ],
      "metadata": {
        "colab": {
          "base_uri": "https://localhost:8080/",
          "height": 224
        },
        "id": "alllWYBfU2y9",
        "outputId": "0bdf73ec-b8cb-42c2-a747-eda5707187a3"
      },
      "id": "alllWYBfU2y9",
      "execution_count": null,
      "outputs": [
        {
          "output_type": "stream",
          "name": "stdout",
          "text": [
            "(11850, 2)\n"
          ]
        },
        {
          "output_type": "execute_result",
          "data": {
            "text/html": [
              "\n",
              "  <div id=\"df-1dbd3277-82f1-427f-86ac-b32017e2c439\">\n",
              "    <div class=\"colab-df-container\">\n",
              "      <div>\n",
              "<style scoped>\n",
              "    .dataframe tbody tr th:only-of-type {\n",
              "        vertical-align: middle;\n",
              "    }\n",
              "\n",
              "    .dataframe tbody tr th {\n",
              "        vertical-align: top;\n",
              "    }\n",
              "\n",
              "    .dataframe thead th {\n",
              "        text-align: right;\n",
              "    }\n",
              "</style>\n",
              "<table border=\"1\" class=\"dataframe\">\n",
              "  <thead>\n",
              "    <tr style=\"text-align: right;\">\n",
              "      <th></th>\n",
              "      <th>class</th>\n",
              "      <th>conversation</th>\n",
              "    </tr>\n",
              "  </thead>\n",
              "  <tbody>\n",
              "    <tr>\n",
              "      <th>0</th>\n",
              "      <td>0</td>\n",
              "      <td>지금 당신 자신을 죽이고 싶지 않아요. 당신이 죽으면 혼자 죽을 테니까 우리까지 사...</td>\n",
              "    </tr>\n",
              "    <tr>\n",
              "      <th>1</th>\n",
              "      <td>0</td>\n",
              "      <td>길동 경찰입니다. 9시 40분에 마트에 폭발물을 설치하겠습니다.</td>\n",
              "    </tr>\n",
              "    <tr>\n",
              "      <th>2</th>\n",
              "      <td>3</td>\n",
              "      <td>너 참 귀엽다는 걸 알고 있어 나보다 작은 남자는 곁에 있었어 그만 놀리는 건 재미...</td>\n",
              "    </tr>\n",
              "    <tr>\n",
              "      <th>3</th>\n",
              "      <td>1</td>\n",
              "      <td>여기 오시면 옷이 잘 보입니다. 돈이 좀 없는 것 같아요. 늦으면 죽을 거예요. 오...</td>\n",
              "    </tr>\n",
              "    <tr>\n",
              "      <th>4</th>\n",
              "      <td>1</td>\n",
              "      <td>미안합니다. 혹시 너무 더워요. 우리 회사에서 이 생크림을 팔고 있는데, 한번 손에...</td>\n",
              "    </tr>\n",
              "  </tbody>\n",
              "</table>\n",
              "</div>\n",
              "      <button class=\"colab-df-convert\" onclick=\"convertToInteractive('df-1dbd3277-82f1-427f-86ac-b32017e2c439')\"\n",
              "              title=\"Convert this dataframe to an interactive table.\"\n",
              "              style=\"display:none;\">\n",
              "        \n",
              "  <svg xmlns=\"http://www.w3.org/2000/svg\" height=\"24px\"viewBox=\"0 0 24 24\"\n",
              "       width=\"24px\">\n",
              "    <path d=\"M0 0h24v24H0V0z\" fill=\"none\"/>\n",
              "    <path d=\"M18.56 5.44l.94 2.06.94-2.06 2.06-.94-2.06-.94-.94-2.06-.94 2.06-2.06.94zm-11 1L8.5 8.5l.94-2.06 2.06-.94-2.06-.94L8.5 2.5l-.94 2.06-2.06.94zm10 10l.94 2.06.94-2.06 2.06-.94-2.06-.94-.94-2.06-.94 2.06-2.06.94z\"/><path d=\"M17.41 7.96l-1.37-1.37c-.4-.4-.92-.59-1.43-.59-.52 0-1.04.2-1.43.59L10.3 9.45l-7.72 7.72c-.78.78-.78 2.05 0 2.83L4 21.41c.39.39.9.59 1.41.59.51 0 1.02-.2 1.41-.59l7.78-7.78 2.81-2.81c.8-.78.8-2.07 0-2.86zM5.41 20L4 18.59l7.72-7.72 1.47 1.35L5.41 20z\"/>\n",
              "  </svg>\n",
              "      </button>\n",
              "      \n",
              "  <style>\n",
              "    .colab-df-container {\n",
              "      display:flex;\n",
              "      flex-wrap:wrap;\n",
              "      gap: 12px;\n",
              "    }\n",
              "\n",
              "    .colab-df-convert {\n",
              "      background-color: #E8F0FE;\n",
              "      border: none;\n",
              "      border-radius: 50%;\n",
              "      cursor: pointer;\n",
              "      display: none;\n",
              "      fill: #1967D2;\n",
              "      height: 32px;\n",
              "      padding: 0 0 0 0;\n",
              "      width: 32px;\n",
              "    }\n",
              "\n",
              "    .colab-df-convert:hover {\n",
              "      background-color: #E2EBFA;\n",
              "      box-shadow: 0px 1px 2px rgba(60, 64, 67, 0.3), 0px 1px 3px 1px rgba(60, 64, 67, 0.15);\n",
              "      fill: #174EA6;\n",
              "    }\n",
              "\n",
              "    [theme=dark] .colab-df-convert {\n",
              "      background-color: #3B4455;\n",
              "      fill: #D2E3FC;\n",
              "    }\n",
              "\n",
              "    [theme=dark] .colab-df-convert:hover {\n",
              "      background-color: #434B5C;\n",
              "      box-shadow: 0px 1px 3px 1px rgba(0, 0, 0, 0.15);\n",
              "      filter: drop-shadow(0px 1px 2px rgba(0, 0, 0, 0.3));\n",
              "      fill: #FFFFFF;\n",
              "    }\n",
              "  </style>\n",
              "\n",
              "      <script>\n",
              "        const buttonEl =\n",
              "          document.querySelector('#df-1dbd3277-82f1-427f-86ac-b32017e2c439 button.colab-df-convert');\n",
              "        buttonEl.style.display =\n",
              "          google.colab.kernel.accessAllowed ? 'block' : 'none';\n",
              "\n",
              "        async function convertToInteractive(key) {\n",
              "          const element = document.querySelector('#df-1dbd3277-82f1-427f-86ac-b32017e2c439');\n",
              "          const dataTable =\n",
              "            await google.colab.kernel.invokeFunction('convertToInteractive',\n",
              "                                                     [key], {});\n",
              "          if (!dataTable) return;\n",
              "\n",
              "          const docLinkHtml = 'Like what you see? Visit the ' +\n",
              "            '<a target=\"_blank\" href=https://colab.research.google.com/notebooks/data_table.ipynb>data table notebook</a>'\n",
              "            + ' to learn more about interactive tables.';\n",
              "          element.innerHTML = '';\n",
              "          dataTable['output_type'] = 'display_data';\n",
              "          await google.colab.output.renderOutput(dataTable, element);\n",
              "          const docLink = document.createElement('div');\n",
              "          docLink.innerHTML = docLinkHtml;\n",
              "          element.appendChild(docLink);\n",
              "        }\n",
              "      </script>\n",
              "    </div>\n",
              "  </div>\n",
              "  "
            ],
            "text/plain": [
              "   class                                       conversation\n",
              "0      0  지금 당신 자신을 죽이고 싶지 않아요. 당신이 죽으면 혼자 죽을 테니까 우리까지 사...\n",
              "1      0                길동 경찰입니다. 9시 40분에 마트에 폭발물을 설치하겠습니다.\n",
              "2      3  너 참 귀엽다는 걸 알고 있어 나보다 작은 남자는 곁에 있었어 그만 놀리는 건 재미...\n",
              "3      1  여기 오시면 옷이 잘 보입니다. 돈이 좀 없는 것 같아요. 늦으면 죽을 거예요. 오...\n",
              "4      1  미안합니다. 혹시 너무 더워요. 우리 회사에서 이 생크림을 팔고 있는데, 한번 손에..."
            ]
          },
          "metadata": {},
          "execution_count": 31
        }
      ]
    },
    {
      "cell_type": "code",
      "source": [
        "def id2label(x):\n",
        "  # id에 맞는 실제 클래스로 변환시킵니다.\n",
        "  if x == 0:\n",
        "    return \"협박 대화\"\n",
        "  elif x == 1:\n",
        "    return \"갈취 대화\"\n",
        "  elif x == 2:\n",
        "    return \"직장 내 괴롭힘 대화\"\n",
        "  elif x == 3:\n",
        "    return \"기타 괴롭힘 대화\"\n",
        "  elif x == 4:\n",
        "    return \"일반 대화\""
      ],
      "metadata": {
        "id": "0goi1T2p9zWm"
      },
      "id": "0goi1T2p9zWm",
      "execution_count": null,
      "outputs": []
    },
    {
      "cell_type": "code",
      "source": [
        "aug_train[\"class\"] = aug_train[\"class\"].apply(id2label)\n",
        "aug_train.head()"
      ],
      "metadata": {
        "colab": {
          "base_uri": "https://localhost:8080/",
          "height": 206
        },
        "id": "ao0Ap9If9s51",
        "outputId": "9b182fc9-372b-4c5e-f408-a28131f4beee"
      },
      "id": "ao0Ap9If9s51",
      "execution_count": null,
      "outputs": [
        {
          "output_type": "execute_result",
          "data": {
            "text/html": [
              "\n",
              "  <div id=\"df-bc59efb9-0fd8-4bff-9530-e3c4523d3f31\">\n",
              "    <div class=\"colab-df-container\">\n",
              "      <div>\n",
              "<style scoped>\n",
              "    .dataframe tbody tr th:only-of-type {\n",
              "        vertical-align: middle;\n",
              "    }\n",
              "\n",
              "    .dataframe tbody tr th {\n",
              "        vertical-align: top;\n",
              "    }\n",
              "\n",
              "    .dataframe thead th {\n",
              "        text-align: right;\n",
              "    }\n",
              "</style>\n",
              "<table border=\"1\" class=\"dataframe\">\n",
              "  <thead>\n",
              "    <tr style=\"text-align: right;\">\n",
              "      <th></th>\n",
              "      <th>class</th>\n",
              "      <th>conversation</th>\n",
              "    </tr>\n",
              "  </thead>\n",
              "  <tbody>\n",
              "    <tr>\n",
              "      <th>0</th>\n",
              "      <td>협박 대화</td>\n",
              "      <td>지금 당신 자신을 죽이고 싶지 않아요. 당신이 죽으면 혼자 죽을 테니까 우리까지 사...</td>\n",
              "    </tr>\n",
              "    <tr>\n",
              "      <th>1</th>\n",
              "      <td>협박 대화</td>\n",
              "      <td>길동 경찰입니다. 9시 40분에 마트에 폭발물을 설치하겠습니다.</td>\n",
              "    </tr>\n",
              "    <tr>\n",
              "      <th>2</th>\n",
              "      <td>기타 괴롭힘 대화</td>\n",
              "      <td>너 참 귀엽다는 걸 알고 있어 나보다 작은 남자는 곁에 있었어 그만 놀리는 건 재미...</td>\n",
              "    </tr>\n",
              "    <tr>\n",
              "      <th>3</th>\n",
              "      <td>갈취 대화</td>\n",
              "      <td>여기 오시면 옷이 잘 보입니다. 돈이 좀 없는 것 같아요. 늦으면 죽을 거예요. 오...</td>\n",
              "    </tr>\n",
              "    <tr>\n",
              "      <th>4</th>\n",
              "      <td>갈취 대화</td>\n",
              "      <td>미안합니다. 혹시 너무 더워요. 우리 회사에서 이 생크림을 팔고 있는데, 한번 손에...</td>\n",
              "    </tr>\n",
              "  </tbody>\n",
              "</table>\n",
              "</div>\n",
              "      <button class=\"colab-df-convert\" onclick=\"convertToInteractive('df-bc59efb9-0fd8-4bff-9530-e3c4523d3f31')\"\n",
              "              title=\"Convert this dataframe to an interactive table.\"\n",
              "              style=\"display:none;\">\n",
              "        \n",
              "  <svg xmlns=\"http://www.w3.org/2000/svg\" height=\"24px\"viewBox=\"0 0 24 24\"\n",
              "       width=\"24px\">\n",
              "    <path d=\"M0 0h24v24H0V0z\" fill=\"none\"/>\n",
              "    <path d=\"M18.56 5.44l.94 2.06.94-2.06 2.06-.94-2.06-.94-.94-2.06-.94 2.06-2.06.94zm-11 1L8.5 8.5l.94-2.06 2.06-.94-2.06-.94L8.5 2.5l-.94 2.06-2.06.94zm10 10l.94 2.06.94-2.06 2.06-.94-2.06-.94-.94-2.06-.94 2.06-2.06.94z\"/><path d=\"M17.41 7.96l-1.37-1.37c-.4-.4-.92-.59-1.43-.59-.52 0-1.04.2-1.43.59L10.3 9.45l-7.72 7.72c-.78.78-.78 2.05 0 2.83L4 21.41c.39.39.9.59 1.41.59.51 0 1.02-.2 1.41-.59l7.78-7.78 2.81-2.81c.8-.78.8-2.07 0-2.86zM5.41 20L4 18.59l7.72-7.72 1.47 1.35L5.41 20z\"/>\n",
              "  </svg>\n",
              "      </button>\n",
              "      \n",
              "  <style>\n",
              "    .colab-df-container {\n",
              "      display:flex;\n",
              "      flex-wrap:wrap;\n",
              "      gap: 12px;\n",
              "    }\n",
              "\n",
              "    .colab-df-convert {\n",
              "      background-color: #E8F0FE;\n",
              "      border: none;\n",
              "      border-radius: 50%;\n",
              "      cursor: pointer;\n",
              "      display: none;\n",
              "      fill: #1967D2;\n",
              "      height: 32px;\n",
              "      padding: 0 0 0 0;\n",
              "      width: 32px;\n",
              "    }\n",
              "\n",
              "    .colab-df-convert:hover {\n",
              "      background-color: #E2EBFA;\n",
              "      box-shadow: 0px 1px 2px rgba(60, 64, 67, 0.3), 0px 1px 3px 1px rgba(60, 64, 67, 0.15);\n",
              "      fill: #174EA6;\n",
              "    }\n",
              "\n",
              "    [theme=dark] .colab-df-convert {\n",
              "      background-color: #3B4455;\n",
              "      fill: #D2E3FC;\n",
              "    }\n",
              "\n",
              "    [theme=dark] .colab-df-convert:hover {\n",
              "      background-color: #434B5C;\n",
              "      box-shadow: 0px 1px 3px 1px rgba(0, 0, 0, 0.15);\n",
              "      filter: drop-shadow(0px 1px 2px rgba(0, 0, 0, 0.3));\n",
              "      fill: #FFFFFF;\n",
              "    }\n",
              "  </style>\n",
              "\n",
              "      <script>\n",
              "        const buttonEl =\n",
              "          document.querySelector('#df-bc59efb9-0fd8-4bff-9530-e3c4523d3f31 button.colab-df-convert');\n",
              "        buttonEl.style.display =\n",
              "          google.colab.kernel.accessAllowed ? 'block' : 'none';\n",
              "\n",
              "        async function convertToInteractive(key) {\n",
              "          const element = document.querySelector('#df-bc59efb9-0fd8-4bff-9530-e3c4523d3f31');\n",
              "          const dataTable =\n",
              "            await google.colab.kernel.invokeFunction('convertToInteractive',\n",
              "                                                     [key], {});\n",
              "          if (!dataTable) return;\n",
              "\n",
              "          const docLinkHtml = 'Like what you see? Visit the ' +\n",
              "            '<a target=\"_blank\" href=https://colab.research.google.com/notebooks/data_table.ipynb>data table notebook</a>'\n",
              "            + ' to learn more about interactive tables.';\n",
              "          element.innerHTML = '';\n",
              "          dataTable['output_type'] = 'display_data';\n",
              "          await google.colab.output.renderOutput(dataTable, element);\n",
              "          const docLink = document.createElement('div');\n",
              "          docLink.innerHTML = docLinkHtml;\n",
              "          element.appendChild(docLink);\n",
              "        }\n",
              "      </script>\n",
              "    </div>\n",
              "  </div>\n",
              "  "
            ],
            "text/plain": [
              "       class                                       conversation\n",
              "0      협박 대화  지금 당신 자신을 죽이고 싶지 않아요. 당신이 죽으면 혼자 죽을 테니까 우리까지 사...\n",
              "1      협박 대화                길동 경찰입니다. 9시 40분에 마트에 폭발물을 설치하겠습니다.\n",
              "2  기타 괴롭힘 대화  너 참 귀엽다는 걸 알고 있어 나보다 작은 남자는 곁에 있었어 그만 놀리는 건 재미...\n",
              "3      갈취 대화  여기 오시면 옷이 잘 보입니다. 돈이 좀 없는 것 같아요. 늦으면 죽을 거예요. 오...\n",
              "4      갈취 대화  미안합니다. 혹시 너무 더워요. 우리 회사에서 이 생크림을 팔고 있는데, 한번 손에..."
            ]
          },
          "metadata": {},
          "execution_count": 33
        }
      ]
    },
    {
      "cell_type": "code",
      "source": [
        "total_data = pd.read_csv(\"../../data/senti_kor_sns_5000.csv\", index_col = [0])\n",
        "print(len(total_data))\n",
        "total_data = pd.concat([total_data, aug_train], axis = 0)\n",
        "total_data = total_data.reset_index(drop=True)\n",
        "total_data"
      ],
      "metadata": {
        "colab": {
          "base_uri": "https://localhost:8080/",
          "height": 442
        },
        "id": "7yFmsUOAXDhi",
        "outputId": "c1d65067-b8f6-4718-dff9-748bf135fd05"
      },
      "id": "7yFmsUOAXDhi",
      "execution_count": null,
      "outputs": [
        {
          "output_type": "stream",
          "name": "stdout",
          "text": [
            "19296\n"
          ]
        },
        {
          "output_type": "execute_result",
          "data": {
            "text/html": [
              "\n",
              "  <div id=\"df-449bf058-0706-4fe7-89b6-89e22797b625\">\n",
              "    <div class=\"colab-df-container\">\n",
              "      <div>\n",
              "<style scoped>\n",
              "    .dataframe tbody tr th:only-of-type {\n",
              "        vertical-align: middle;\n",
              "    }\n",
              "\n",
              "    .dataframe tbody tr th {\n",
              "        vertical-align: top;\n",
              "    }\n",
              "\n",
              "    .dataframe thead th {\n",
              "        text-align: right;\n",
              "    }\n",
              "</style>\n",
              "<table border=\"1\" class=\"dataframe\">\n",
              "  <thead>\n",
              "    <tr style=\"text-align: right;\">\n",
              "      <th></th>\n",
              "      <th>class</th>\n",
              "      <th>conversation</th>\n",
              "    </tr>\n",
              "  </thead>\n",
              "  <tbody>\n",
              "    <tr>\n",
              "      <th>0</th>\n",
              "      <td>0</td>\n",
              "      <td>지금 너 스스로를 죽여달라고 애원하는 것인가? 아닙니다. 죄송합니다. 죽을 거면 혼...</td>\n",
              "    </tr>\n",
              "    <tr>\n",
              "      <th>1</th>\n",
              "      <td>0</td>\n",
              "      <td>길동경찰서입니다. 9시 40분 마트에 폭발물을 설치할거다. 네? 똑바로 들어 한번만...</td>\n",
              "    </tr>\n",
              "    <tr>\n",
              "      <th>2</th>\n",
              "      <td>3</td>\n",
              "      <td>너 되게 귀여운거 알지? 나보다 작은 남자는 첨봤어. 그만해. 니들 놀리는거 재미없...</td>\n",
              "    </tr>\n",
              "    <tr>\n",
              "      <th>3</th>\n",
              "      <td>1</td>\n",
              "      <td>어이 거기 예?? 너 말이야 너. 이리 오라고 무슨 일. 너 옷 좋아보인다? 얘 돈...</td>\n",
              "    </tr>\n",
              "    <tr>\n",
              "      <th>4</th>\n",
              "      <td>1</td>\n",
              "      <td>저기요 혹시 날이 너무 뜨겁잖아요? 저희 회사에서 이 선크림 파는데 한 번 손등에 ...</td>\n",
              "    </tr>\n",
              "    <tr>\n",
              "      <th>...</th>\n",
              "      <td>...</td>\n",
              "      <td>...</td>\n",
              "    </tr>\n",
              "    <tr>\n",
              "      <th>31141</th>\n",
              "      <td>3</td>\n",
              "      <td>준샤, 왜 이렇게 큰 거야? 내 머릿속에 뭐가 들어있어? 큰 사람이라고 말하지 않았...</td>\n",
              "    </tr>\n",
              "    <tr>\n",
              "      <th>31142</th>\n",
              "      <td>1</td>\n",
              "      <td>내가 지금 당신 아들을 데리고 있다면, 당신이 그를 구하려고 하면, 그냥 돈을 보내...</td>\n",
              "    </tr>\n",
              "    <tr>\n",
              "      <th>31143</th>\n",
              "      <td>2</td>\n",
              "      <td>당신 같은 사람을 보면 어떻게 이렇게 살 수 있을까요? 왜 그렇게 말하는 거죠? 지...</td>\n",
              "    </tr>\n",
              "    <tr>\n",
              "      <th>31144</th>\n",
              "      <td>1</td>\n",
              "      <td>여기서 무슨 일을 하든 경찰에 신고하고 정식으로 사업을 해야 하는데, 어디든 우리 ...</td>\n",
              "    </tr>\n",
              "    <tr>\n",
              "      <th>31145</th>\n",
              "      <td>2</td>\n",
              "      <td>희정 씨, 주말에 시간이 많이 있을 수도 있어요 무슨 일이에요? 손이 아름답기 때문...</td>\n",
              "    </tr>\n",
              "  </tbody>\n",
              "</table>\n",
              "<p>31146 rows × 2 columns</p>\n",
              "</div>\n",
              "      <button class=\"colab-df-convert\" onclick=\"convertToInteractive('df-449bf058-0706-4fe7-89b6-89e22797b625')\"\n",
              "              title=\"Convert this dataframe to an interactive table.\"\n",
              "              style=\"display:none;\">\n",
              "        \n",
              "  <svg xmlns=\"http://www.w3.org/2000/svg\" height=\"24px\"viewBox=\"0 0 24 24\"\n",
              "       width=\"24px\">\n",
              "    <path d=\"M0 0h24v24H0V0z\" fill=\"none\"/>\n",
              "    <path d=\"M18.56 5.44l.94 2.06.94-2.06 2.06-.94-2.06-.94-.94-2.06-.94 2.06-2.06.94zm-11 1L8.5 8.5l.94-2.06 2.06-.94-2.06-.94L8.5 2.5l-.94 2.06-2.06.94zm10 10l.94 2.06.94-2.06 2.06-.94-2.06-.94-.94-2.06-.94 2.06-2.06.94z\"/><path d=\"M17.41 7.96l-1.37-1.37c-.4-.4-.92-.59-1.43-.59-.52 0-1.04.2-1.43.59L10.3 9.45l-7.72 7.72c-.78.78-.78 2.05 0 2.83L4 21.41c.39.39.9.59 1.41.59.51 0 1.02-.2 1.41-.59l7.78-7.78 2.81-2.81c.8-.78.8-2.07 0-2.86zM5.41 20L4 18.59l7.72-7.72 1.47 1.35L5.41 20z\"/>\n",
              "  </svg>\n",
              "      </button>\n",
              "      \n",
              "  <style>\n",
              "    .colab-df-container {\n",
              "      display:flex;\n",
              "      flex-wrap:wrap;\n",
              "      gap: 12px;\n",
              "    }\n",
              "\n",
              "    .colab-df-convert {\n",
              "      background-color: #E8F0FE;\n",
              "      border: none;\n",
              "      border-radius: 50%;\n",
              "      cursor: pointer;\n",
              "      display: none;\n",
              "      fill: #1967D2;\n",
              "      height: 32px;\n",
              "      padding: 0 0 0 0;\n",
              "      width: 32px;\n",
              "    }\n",
              "\n",
              "    .colab-df-convert:hover {\n",
              "      background-color: #E2EBFA;\n",
              "      box-shadow: 0px 1px 2px rgba(60, 64, 67, 0.3), 0px 1px 3px 1px rgba(60, 64, 67, 0.15);\n",
              "      fill: #174EA6;\n",
              "    }\n",
              "\n",
              "    [theme=dark] .colab-df-convert {\n",
              "      background-color: #3B4455;\n",
              "      fill: #D2E3FC;\n",
              "    }\n",
              "\n",
              "    [theme=dark] .colab-df-convert:hover {\n",
              "      background-color: #434B5C;\n",
              "      box-shadow: 0px 1px 3px 1px rgba(0, 0, 0, 0.15);\n",
              "      filter: drop-shadow(0px 1px 2px rgba(0, 0, 0, 0.3));\n",
              "      fill: #FFFFFF;\n",
              "    }\n",
              "  </style>\n",
              "\n",
              "      <script>\n",
              "        const buttonEl =\n",
              "          document.querySelector('#df-449bf058-0706-4fe7-89b6-89e22797b625 button.colab-df-convert');\n",
              "        buttonEl.style.display =\n",
              "          google.colab.kernel.accessAllowed ? 'block' : 'none';\n",
              "\n",
              "        async function convertToInteractive(key) {\n",
              "          const element = document.querySelector('#df-449bf058-0706-4fe7-89b6-89e22797b625');\n",
              "          const dataTable =\n",
              "            await google.colab.kernel.invokeFunction('convertToInteractive',\n",
              "                                                     [key], {});\n",
              "          if (!dataTable) return;\n",
              "\n",
              "          const docLinkHtml = 'Like what you see? Visit the ' +\n",
              "            '<a target=\"_blank\" href=https://colab.research.google.com/notebooks/data_table.ipynb>data table notebook</a>'\n",
              "            + ' to learn more about interactive tables.';\n",
              "          element.innerHTML = '';\n",
              "          dataTable['output_type'] = 'display_data';\n",
              "          await google.colab.output.renderOutput(dataTable, element);\n",
              "          const docLink = document.createElement('div');\n",
              "          docLink.innerHTML = docLinkHtml;\n",
              "          element.appendChild(docLink);\n",
              "        }\n",
              "      </script>\n",
              "    </div>\n",
              "  </div>\n",
              "  "
            ],
            "text/plain": [
              "       class                                       conversation\n",
              "0          0  지금 너 스스로를 죽여달라고 애원하는 것인가? 아닙니다. 죄송합니다. 죽을 거면 혼...\n",
              "1          0  길동경찰서입니다. 9시 40분 마트에 폭발물을 설치할거다. 네? 똑바로 들어 한번만...\n",
              "2          3  너 되게 귀여운거 알지? 나보다 작은 남자는 첨봤어. 그만해. 니들 놀리는거 재미없...\n",
              "3          1  어이 거기 예?? 너 말이야 너. 이리 오라고 무슨 일. 너 옷 좋아보인다? 얘 돈...\n",
              "4          1  저기요 혹시 날이 너무 뜨겁잖아요? 저희 회사에서 이 선크림 파는데 한 번 손등에 ...\n",
              "...      ...                                                ...\n",
              "31141      3  준샤, 왜 이렇게 큰 거야? 내 머릿속에 뭐가 들어있어? 큰 사람이라고 말하지 않았...\n",
              "31142      1  내가 지금 당신 아들을 데리고 있다면, 당신이 그를 구하려고 하면, 그냥 돈을 보내...\n",
              "31143      2  당신 같은 사람을 보면 어떻게 이렇게 살 수 있을까요? 왜 그렇게 말하는 거죠? 지...\n",
              "31144      1  여기서 무슨 일을 하든 경찰에 신고하고 정식으로 사업을 해야 하는데, 어디든 우리 ...\n",
              "31145      2  희정 씨, 주말에 시간이 많이 있을 수도 있어요 무슨 일이에요? 손이 아름답기 때문...\n",
              "\n",
              "[31146 rows x 2 columns]"
            ]
          },
          "metadata": {},
          "execution_count": 28
        }
      ]
    },
    {
      "cell_type": "code",
      "source": [
        "total_data.to_csv(\"../../data/senti_kor_sns_5000_bt.csv\")"
      ],
      "metadata": {
        "id": "RY-ES6-2YUxh"
      },
      "id": "RY-ES6-2YUxh",
      "execution_count": null,
      "outputs": []
    },
    {
      "cell_type": "markdown",
      "source": [
        "#### AI_HUB 데이터 불러오기"
      ],
      "metadata": {
        "id": "lbPmgK3izeMI"
      },
      "id": "lbPmgK3izeMI"
    },
    {
      "cell_type": "code",
      "source": [
        "from glob import glob\n",
        "\n",
        "aihub_train_path = glob(\"../../data/AI_HUB/*\")\n",
        "\n",
        "aihub_train = pd.DataFrame()\n",
        "for path in aihub_train_path:\n",
        "  tmp = pd.read_csv(path)[[\"class\", \"conversation\"]]\n",
        "  if len(tmp) >= 5000:\n",
        "    tmp = tmp.sample(5000)\n",
        "    aihub_train = pd.concat([aihub_train, tmp], axis = 0)\n",
        "  else:\n",
        "    aihub_train = pd.concat([aihub_train, tmp], axis = 0)"
      ],
      "metadata": {
        "id": "2RNrjm8WUT2v"
      },
      "id": "2RNrjm8WUT2v",
      "execution_count": null,
      "outputs": []
    },
    {
      "cell_type": "code",
      "source": [
        "aihub_train = aihub_train.drop_duplicates(keep=\"first\")\n",
        "aihub_train"
      ],
      "metadata": {
        "colab": {
          "base_uri": "https://localhost:8080/",
          "height": 423
        },
        "id": "K2WYJUbBWOjr",
        "outputId": "414b9e03-a99d-4e6c-aa21-f3675411d94e"
      },
      "id": "K2WYJUbBWOjr",
      "execution_count": null,
      "outputs": [
        {
          "output_type": "execute_result",
          "data": {
            "text/html": [
              "\n",
              "  <div id=\"df-30452018-154c-40be-99f9-359dba0d8267\">\n",
              "    <div class=\"colab-df-container\">\n",
              "      <div>\n",
              "<style scoped>\n",
              "    .dataframe tbody tr th:only-of-type {\n",
              "        vertical-align: middle;\n",
              "    }\n",
              "\n",
              "    .dataframe tbody tr th {\n",
              "        vertical-align: top;\n",
              "    }\n",
              "\n",
              "    .dataframe thead th {\n",
              "        text-align: right;\n",
              "    }\n",
              "</style>\n",
              "<table border=\"1\" class=\"dataframe\">\n",
              "  <thead>\n",
              "    <tr style=\"text-align: right;\">\n",
              "      <th></th>\n",
              "      <th>class</th>\n",
              "      <th>conversation</th>\n",
              "    </tr>\n",
              "  </thead>\n",
              "  <tbody>\n",
              "    <tr>\n",
              "      <th>3336</th>\n",
              "      <td>일반 대화</td>\n",
              "      <td>여기 마우스가 작동이 안 돼요\\n제가 봐드릴게요\\n이렇게 아무리 눌러도 인식이 안돼...</td>\n",
              "    </tr>\n",
              "    <tr>\n",
              "      <th>1345</th>\n",
              "      <td>일반 대화</td>\n",
              "      <td>여기 진열되어 있는 점퍼 얼마인가요?\\n8만원입니다\\n입어볼 수 있나요?\\n네 가능...</td>\n",
              "    </tr>\n",
              "    <tr>\n",
              "      <th>570</th>\n",
              "      <td>일반 대화</td>\n",
              "      <td>지금 배달 되나요?\\n네 11시까지 배달됩니다\\n그럼 짜장면1개 탕수육1개 배달해주...</td>\n",
              "    </tr>\n",
              "    <tr>\n",
              "      <th>877</th>\n",
              "      <td>일반 대화</td>\n",
              "      <td>이거 여행 가방인 거죠?\\n네\\n이거 색깔이 무슨 색이라 해야 되나?\\n갈색이죠\\n...</td>\n",
              "    </tr>\n",
              "    <tr>\n",
              "      <th>4069</th>\n",
              "      <td>일반 대화</td>\n",
              "      <td>돼지고기 등심은 어디에 있어요?\\n맨 왼쪽 파티션 안에 돼지고기 등심 있어요\\n국거...</td>\n",
              "    </tr>\n",
              "    <tr>\n",
              "      <th>...</th>\n",
              "      <td>...</td>\n",
              "      <td>...</td>\n",
              "    </tr>\n",
              "    <tr>\n",
              "      <th>176221</th>\n",
              "      <td>일반 대화</td>\n",
              "      <td>헐\\n후디 열두시반공연이었네\\n엉엉\\n아..\\nㅠㅠ\\n님 창모 보러 가시는 것 아님...</td>\n",
              "    </tr>\n",
              "    <tr>\n",
              "      <th>208083</th>\n",
              "      <td>일반 대화</td>\n",
              "      <td>멀.어쩌겠어 ㅋ\\n욕 디지게 먹겠군 떼잉\\n하든지말던지\\n그려\\n너는 너갈길 하믄도...</td>\n",
              "    </tr>\n",
              "    <tr>\n",
              "      <th>67603</th>\n",
              "      <td>일반 대화</td>\n",
              "      <td>나얼굴이 완전건조하고 메말라잇는원인을\\n찾앗어\\n고생햇더~\\n왜왜\\n사무실에\\n히터...</td>\n",
              "    </tr>\n",
              "    <tr>\n",
              "      <th>54183</th>\n",
              "      <td>일반 대화</td>\n",
              "      <td>형은어제쯤온대?\\n와서뭐하시나\\n오래있나?\\n애도 아픈데 집에서 쏘주나한잔\\n월욜오...</td>\n",
              "    </tr>\n",
              "    <tr>\n",
              "      <th>190580</th>\n",
              "      <td>일반 대화</td>\n",
              "      <td>야야 근데\\nㅇㅇ 왜\\n우리 오도방구 타고 달리는 영상\\n하나 뿐이여?\\n#@시스템...</td>\n",
              "    </tr>\n",
              "  </tbody>\n",
              "</table>\n",
              "<p>20341 rows × 2 columns</p>\n",
              "</div>\n",
              "      <button class=\"colab-df-convert\" onclick=\"convertToInteractive('df-30452018-154c-40be-99f9-359dba0d8267')\"\n",
              "              title=\"Convert this dataframe to an interactive table.\"\n",
              "              style=\"display:none;\">\n",
              "        \n",
              "  <svg xmlns=\"http://www.w3.org/2000/svg\" height=\"24px\"viewBox=\"0 0 24 24\"\n",
              "       width=\"24px\">\n",
              "    <path d=\"M0 0h24v24H0V0z\" fill=\"none\"/>\n",
              "    <path d=\"M18.56 5.44l.94 2.06.94-2.06 2.06-.94-2.06-.94-.94-2.06-.94 2.06-2.06.94zm-11 1L8.5 8.5l.94-2.06 2.06-.94-2.06-.94L8.5 2.5l-.94 2.06-2.06.94zm10 10l.94 2.06.94-2.06 2.06-.94-2.06-.94-.94-2.06-.94 2.06-2.06.94z\"/><path d=\"M17.41 7.96l-1.37-1.37c-.4-.4-.92-.59-1.43-.59-.52 0-1.04.2-1.43.59L10.3 9.45l-7.72 7.72c-.78.78-.78 2.05 0 2.83L4 21.41c.39.39.9.59 1.41.59.51 0 1.02-.2 1.41-.59l7.78-7.78 2.81-2.81c.8-.78.8-2.07 0-2.86zM5.41 20L4 18.59l7.72-7.72 1.47 1.35L5.41 20z\"/>\n",
              "  </svg>\n",
              "      </button>\n",
              "      \n",
              "  <style>\n",
              "    .colab-df-container {\n",
              "      display:flex;\n",
              "      flex-wrap:wrap;\n",
              "      gap: 12px;\n",
              "    }\n",
              "\n",
              "    .colab-df-convert {\n",
              "      background-color: #E8F0FE;\n",
              "      border: none;\n",
              "      border-radius: 50%;\n",
              "      cursor: pointer;\n",
              "      display: none;\n",
              "      fill: #1967D2;\n",
              "      height: 32px;\n",
              "      padding: 0 0 0 0;\n",
              "      width: 32px;\n",
              "    }\n",
              "\n",
              "    .colab-df-convert:hover {\n",
              "      background-color: #E2EBFA;\n",
              "      box-shadow: 0px 1px 2px rgba(60, 64, 67, 0.3), 0px 1px 3px 1px rgba(60, 64, 67, 0.15);\n",
              "      fill: #174EA6;\n",
              "    }\n",
              "\n",
              "    [theme=dark] .colab-df-convert {\n",
              "      background-color: #3B4455;\n",
              "      fill: #D2E3FC;\n",
              "    }\n",
              "\n",
              "    [theme=dark] .colab-df-convert:hover {\n",
              "      background-color: #434B5C;\n",
              "      box-shadow: 0px 1px 3px 1px rgba(0, 0, 0, 0.15);\n",
              "      filter: drop-shadow(0px 1px 2px rgba(0, 0, 0, 0.3));\n",
              "      fill: #FFFFFF;\n",
              "    }\n",
              "  </style>\n",
              "\n",
              "      <script>\n",
              "        const buttonEl =\n",
              "          document.querySelector('#df-30452018-154c-40be-99f9-359dba0d8267 button.colab-df-convert');\n",
              "        buttonEl.style.display =\n",
              "          google.colab.kernel.accessAllowed ? 'block' : 'none';\n",
              "\n",
              "        async function convertToInteractive(key) {\n",
              "          const element = document.querySelector('#df-30452018-154c-40be-99f9-359dba0d8267');\n",
              "          const dataTable =\n",
              "            await google.colab.kernel.invokeFunction('convertToInteractive',\n",
              "                                                     [key], {});\n",
              "          if (!dataTable) return;\n",
              "\n",
              "          const docLinkHtml = 'Like what you see? Visit the ' +\n",
              "            '<a target=\"_blank\" href=https://colab.research.google.com/notebooks/data_table.ipynb>data table notebook</a>'\n",
              "            + ' to learn more about interactive tables.';\n",
              "          element.innerHTML = '';\n",
              "          dataTable['output_type'] = 'display_data';\n",
              "          await google.colab.output.renderOutput(dataTable, element);\n",
              "          const docLink = document.createElement('div');\n",
              "          docLink.innerHTML = docLinkHtml;\n",
              "          element.appendChild(docLink);\n",
              "        }\n",
              "      </script>\n",
              "    </div>\n",
              "  </div>\n",
              "  "
            ],
            "text/plain": [
              "        class                                       conversation\n",
              "3336    일반 대화  여기 마우스가 작동이 안 돼요\\n제가 봐드릴게요\\n이렇게 아무리 눌러도 인식이 안돼...\n",
              "1345    일반 대화  여기 진열되어 있는 점퍼 얼마인가요?\\n8만원입니다\\n입어볼 수 있나요?\\n네 가능...\n",
              "570     일반 대화  지금 배달 되나요?\\n네 11시까지 배달됩니다\\n그럼 짜장면1개 탕수육1개 배달해주...\n",
              "877     일반 대화  이거 여행 가방인 거죠?\\n네\\n이거 색깔이 무슨 색이라 해야 되나?\\n갈색이죠\\n...\n",
              "4069    일반 대화  돼지고기 등심은 어디에 있어요?\\n맨 왼쪽 파티션 안에 돼지고기 등심 있어요\\n국거...\n",
              "...       ...                                                ...\n",
              "176221  일반 대화  헐\\n후디 열두시반공연이었네\\n엉엉\\n아..\\nㅠㅠ\\n님 창모 보러 가시는 것 아님...\n",
              "208083  일반 대화  멀.어쩌겠어 ㅋ\\n욕 디지게 먹겠군 떼잉\\n하든지말던지\\n그려\\n너는 너갈길 하믄도...\n",
              "67603   일반 대화  나얼굴이 완전건조하고 메말라잇는원인을\\n찾앗어\\n고생햇더~\\n왜왜\\n사무실에\\n히터...\n",
              "54183   일반 대화  형은어제쯤온대?\\n와서뭐하시나\\n오래있나?\\n애도 아픈데 집에서 쏘주나한잔\\n월욜오...\n",
              "190580  일반 대화  야야 근데\\nㅇㅇ 왜\\n우리 오도방구 타고 달리는 영상\\n하나 뿐이여?\\n#@시스템...\n",
              "\n",
              "[20341 rows x 2 columns]"
            ]
          },
          "metadata": {},
          "execution_count": 14
        }
      ]
    },
    {
      "cell_type": "markdown",
      "source": [
        "#### AI_HUB 데이터와 TUNiB 데이터를 합친 뒤 전처리 적용"
      ],
      "metadata": {
        "id": "kDae3grfzlHj"
      },
      "id": "kDae3grfzlHj"
    },
    {
      "cell_type": "code",
      "source": [
        "train = pd.concat([tunib_train, aug_train, aihub_train], axis = 0)\n",
        "train"
      ],
      "metadata": {
        "colab": {
          "base_uri": "https://localhost:8080/",
          "height": 423
        },
        "id": "ZE1S8foOdrA3",
        "outputId": "6ef7d9b4-eb3b-4213-b5d4-b872345cd642"
      },
      "id": "ZE1S8foOdrA3",
      "execution_count": null,
      "outputs": [
        {
          "output_type": "execute_result",
          "data": {
            "text/html": [
              "\n",
              "  <div id=\"df-e97e1512-9601-474d-aed5-726035ccef85\">\n",
              "    <div class=\"colab-df-container\">\n",
              "      <div>\n",
              "<style scoped>\n",
              "    .dataframe tbody tr th:only-of-type {\n",
              "        vertical-align: middle;\n",
              "    }\n",
              "\n",
              "    .dataframe tbody tr th {\n",
              "        vertical-align: top;\n",
              "    }\n",
              "\n",
              "    .dataframe thead th {\n",
              "        text-align: right;\n",
              "    }\n",
              "</style>\n",
              "<table border=\"1\" class=\"dataframe\">\n",
              "  <thead>\n",
              "    <tr style=\"text-align: right;\">\n",
              "      <th></th>\n",
              "      <th>class</th>\n",
              "      <th>conversation</th>\n",
              "    </tr>\n",
              "  </thead>\n",
              "  <tbody>\n",
              "    <tr>\n",
              "      <th>0</th>\n",
              "      <td>협박 대화</td>\n",
              "      <td>지금 너 스스로를 죽여달라고 애원하는 것인가?\\n 아닙니다. 죄송합니다.\\n 죽을 ...</td>\n",
              "    </tr>\n",
              "    <tr>\n",
              "      <th>1</th>\n",
              "      <td>협박 대화</td>\n",
              "      <td>길동경찰서입니다.\\n9시 40분 마트에 폭발물을 설치할거다.\\n네?\\n똑바로 들어 ...</td>\n",
              "    </tr>\n",
              "    <tr>\n",
              "      <th>2</th>\n",
              "      <td>기타 괴롭힘 대화</td>\n",
              "      <td>너 되게 귀여운거 알지? 나보다 작은 남자는 첨봤어.\\n그만해. 니들 놀리는거 재미...</td>\n",
              "    </tr>\n",
              "    <tr>\n",
              "      <th>3</th>\n",
              "      <td>갈취 대화</td>\n",
              "      <td>어이 거기\\n예??\\n너 말이야 너. 이리 오라고\\n무슨 일.\\n너 옷 좋아보인다?...</td>\n",
              "    </tr>\n",
              "    <tr>\n",
              "      <th>4</th>\n",
              "      <td>갈취 대화</td>\n",
              "      <td>저기요 혹시 날이 너무 뜨겁잖아요? 저희 회사에서 이 선크림 파는데 한 번 손등에 ...</td>\n",
              "    </tr>\n",
              "    <tr>\n",
              "      <th>...</th>\n",
              "      <td>...</td>\n",
              "      <td>...</td>\n",
              "    </tr>\n",
              "    <tr>\n",
              "      <th>176221</th>\n",
              "      <td>일반 대화</td>\n",
              "      <td>헐\\n후디 열두시반공연이었네\\n엉엉\\n아..\\nㅠㅠ\\n님 창모 보러 가시는 것 아님...</td>\n",
              "    </tr>\n",
              "    <tr>\n",
              "      <th>208083</th>\n",
              "      <td>일반 대화</td>\n",
              "      <td>멀.어쩌겠어 ㅋ\\n욕 디지게 먹겠군 떼잉\\n하든지말던지\\n그려\\n너는 너갈길 하믄도...</td>\n",
              "    </tr>\n",
              "    <tr>\n",
              "      <th>67603</th>\n",
              "      <td>일반 대화</td>\n",
              "      <td>나얼굴이 완전건조하고 메말라잇는원인을\\n찾앗어\\n고생햇더~\\n왜왜\\n사무실에\\n히터...</td>\n",
              "    </tr>\n",
              "    <tr>\n",
              "      <th>54183</th>\n",
              "      <td>일반 대화</td>\n",
              "      <td>형은어제쯤온대?\\n와서뭐하시나\\n오래있나?\\n애도 아픈데 집에서 쏘주나한잔\\n월욜오...</td>\n",
              "    </tr>\n",
              "    <tr>\n",
              "      <th>190580</th>\n",
              "      <td>일반 대화</td>\n",
              "      <td>야야 근데\\nㅇㅇ 왜\\n우리 오도방구 타고 달리는 영상\\n하나 뿐이여?\\n#@시스템...</td>\n",
              "    </tr>\n",
              "  </tbody>\n",
              "</table>\n",
              "<p>36141 rows × 2 columns</p>\n",
              "</div>\n",
              "      <button class=\"colab-df-convert\" onclick=\"convertToInteractive('df-e97e1512-9601-474d-aed5-726035ccef85')\"\n",
              "              title=\"Convert this dataframe to an interactive table.\"\n",
              "              style=\"display:none;\">\n",
              "        \n",
              "  <svg xmlns=\"http://www.w3.org/2000/svg\" height=\"24px\"viewBox=\"0 0 24 24\"\n",
              "       width=\"24px\">\n",
              "    <path d=\"M0 0h24v24H0V0z\" fill=\"none\"/>\n",
              "    <path d=\"M18.56 5.44l.94 2.06.94-2.06 2.06-.94-2.06-.94-.94-2.06-.94 2.06-2.06.94zm-11 1L8.5 8.5l.94-2.06 2.06-.94-2.06-.94L8.5 2.5l-.94 2.06-2.06.94zm10 10l.94 2.06.94-2.06 2.06-.94-2.06-.94-.94-2.06-.94 2.06-2.06.94z\"/><path d=\"M17.41 7.96l-1.37-1.37c-.4-.4-.92-.59-1.43-.59-.52 0-1.04.2-1.43.59L10.3 9.45l-7.72 7.72c-.78.78-.78 2.05 0 2.83L4 21.41c.39.39.9.59 1.41.59.51 0 1.02-.2 1.41-.59l7.78-7.78 2.81-2.81c.8-.78.8-2.07 0-2.86zM5.41 20L4 18.59l7.72-7.72 1.47 1.35L5.41 20z\"/>\n",
              "  </svg>\n",
              "      </button>\n",
              "      \n",
              "  <style>\n",
              "    .colab-df-container {\n",
              "      display:flex;\n",
              "      flex-wrap:wrap;\n",
              "      gap: 12px;\n",
              "    }\n",
              "\n",
              "    .colab-df-convert {\n",
              "      background-color: #E8F0FE;\n",
              "      border: none;\n",
              "      border-radius: 50%;\n",
              "      cursor: pointer;\n",
              "      display: none;\n",
              "      fill: #1967D2;\n",
              "      height: 32px;\n",
              "      padding: 0 0 0 0;\n",
              "      width: 32px;\n",
              "    }\n",
              "\n",
              "    .colab-df-convert:hover {\n",
              "      background-color: #E2EBFA;\n",
              "      box-shadow: 0px 1px 2px rgba(60, 64, 67, 0.3), 0px 1px 3px 1px rgba(60, 64, 67, 0.15);\n",
              "      fill: #174EA6;\n",
              "    }\n",
              "\n",
              "    [theme=dark] .colab-df-convert {\n",
              "      background-color: #3B4455;\n",
              "      fill: #D2E3FC;\n",
              "    }\n",
              "\n",
              "    [theme=dark] .colab-df-convert:hover {\n",
              "      background-color: #434B5C;\n",
              "      box-shadow: 0px 1px 3px 1px rgba(0, 0, 0, 0.15);\n",
              "      filter: drop-shadow(0px 1px 2px rgba(0, 0, 0, 0.3));\n",
              "      fill: #FFFFFF;\n",
              "    }\n",
              "  </style>\n",
              "\n",
              "      <script>\n",
              "        const buttonEl =\n",
              "          document.querySelector('#df-e97e1512-9601-474d-aed5-726035ccef85 button.colab-df-convert');\n",
              "        buttonEl.style.display =\n",
              "          google.colab.kernel.accessAllowed ? 'block' : 'none';\n",
              "\n",
              "        async function convertToInteractive(key) {\n",
              "          const element = document.querySelector('#df-e97e1512-9601-474d-aed5-726035ccef85');\n",
              "          const dataTable =\n",
              "            await google.colab.kernel.invokeFunction('convertToInteractive',\n",
              "                                                     [key], {});\n",
              "          if (!dataTable) return;\n",
              "\n",
              "          const docLinkHtml = 'Like what you see? Visit the ' +\n",
              "            '<a target=\"_blank\" href=https://colab.research.google.com/notebooks/data_table.ipynb>data table notebook</a>'\n",
              "            + ' to learn more about interactive tables.';\n",
              "          element.innerHTML = '';\n",
              "          dataTable['output_type'] = 'display_data';\n",
              "          await google.colab.output.renderOutput(dataTable, element);\n",
              "          const docLink = document.createElement('div');\n",
              "          docLink.innerHTML = docLinkHtml;\n",
              "          element.appendChild(docLink);\n",
              "        }\n",
              "      </script>\n",
              "    </div>\n",
              "  </div>\n",
              "  "
            ],
            "text/plain": [
              "            class                                       conversation\n",
              "0           협박 대화  지금 너 스스로를 죽여달라고 애원하는 것인가?\\n 아닙니다. 죄송합니다.\\n 죽을 ...\n",
              "1           협박 대화  길동경찰서입니다.\\n9시 40분 마트에 폭발물을 설치할거다.\\n네?\\n똑바로 들어 ...\n",
              "2       기타 괴롭힘 대화  너 되게 귀여운거 알지? 나보다 작은 남자는 첨봤어.\\n그만해. 니들 놀리는거 재미...\n",
              "3           갈취 대화  어이 거기\\n예??\\n너 말이야 너. 이리 오라고\\n무슨 일.\\n너 옷 좋아보인다?...\n",
              "4           갈취 대화  저기요 혹시 날이 너무 뜨겁잖아요? 저희 회사에서 이 선크림 파는데 한 번 손등에 ...\n",
              "...           ...                                                ...\n",
              "176221      일반 대화  헐\\n후디 열두시반공연이었네\\n엉엉\\n아..\\nㅠㅠ\\n님 창모 보러 가시는 것 아님...\n",
              "208083      일반 대화  멀.어쩌겠어 ㅋ\\n욕 디지게 먹겠군 떼잉\\n하든지말던지\\n그려\\n너는 너갈길 하믄도...\n",
              "67603       일반 대화  나얼굴이 완전건조하고 메말라잇는원인을\\n찾앗어\\n고생햇더~\\n왜왜\\n사무실에\\n히터...\n",
              "54183       일반 대화  형은어제쯤온대?\\n와서뭐하시나\\n오래있나?\\n애도 아픈데 집에서 쏘주나한잔\\n월욜오...\n",
              "190580      일반 대화  야야 근데\\nㅇㅇ 왜\\n우리 오도방구 타고 달리는 영상\\n하나 뿐이여?\\n#@시스템...\n",
              "\n",
              "[36141 rows x 2 columns]"
            ]
          },
          "metadata": {},
          "execution_count": 34
        }
      ]
    },
    {
      "cell_type": "code",
      "source": [
        "train.groupby(\"class\").count()"
      ],
      "metadata": {
        "colab": {
          "base_uri": "https://localhost:8080/",
          "height": 237
        },
        "id": "VlJIKW4o9YyA",
        "outputId": "5e7a9c01-3c13-4b86-9b93-54ac254b1c70"
      },
      "id": "VlJIKW4o9YyA",
      "execution_count": null,
      "outputs": [
        {
          "output_type": "execute_result",
          "data": {
            "text/html": [
              "\n",
              "  <div id=\"df-261bcbc5-1943-45e3-b6bd-5d0fc1b1cc4a\">\n",
              "    <div class=\"colab-df-container\">\n",
              "      <div>\n",
              "<style scoped>\n",
              "    .dataframe tbody tr th:only-of-type {\n",
              "        vertical-align: middle;\n",
              "    }\n",
              "\n",
              "    .dataframe tbody tr th {\n",
              "        vertical-align: top;\n",
              "    }\n",
              "\n",
              "    .dataframe thead th {\n",
              "        text-align: right;\n",
              "    }\n",
              "</style>\n",
              "<table border=\"1\" class=\"dataframe\">\n",
              "  <thead>\n",
              "    <tr style=\"text-align: right;\">\n",
              "      <th></th>\n",
              "      <th>conversation</th>\n",
              "    </tr>\n",
              "    <tr>\n",
              "      <th>class</th>\n",
              "      <th></th>\n",
              "    </tr>\n",
              "  </thead>\n",
              "  <tbody>\n",
              "    <tr>\n",
              "      <th>갈취 대화</th>\n",
              "      <td>3924</td>\n",
              "    </tr>\n",
              "    <tr>\n",
              "      <th>기타 괴롭힘 대화</th>\n",
              "      <td>4376</td>\n",
              "    </tr>\n",
              "    <tr>\n",
              "      <th>일반 대화</th>\n",
              "      <td>20341</td>\n",
              "    </tr>\n",
              "    <tr>\n",
              "      <th>직장 내 괴롭힘 대화</th>\n",
              "      <td>3916</td>\n",
              "    </tr>\n",
              "    <tr>\n",
              "      <th>협박 대화</th>\n",
              "      <td>3584</td>\n",
              "    </tr>\n",
              "  </tbody>\n",
              "</table>\n",
              "</div>\n",
              "      <button class=\"colab-df-convert\" onclick=\"convertToInteractive('df-261bcbc5-1943-45e3-b6bd-5d0fc1b1cc4a')\"\n",
              "              title=\"Convert this dataframe to an interactive table.\"\n",
              "              style=\"display:none;\">\n",
              "        \n",
              "  <svg xmlns=\"http://www.w3.org/2000/svg\" height=\"24px\"viewBox=\"0 0 24 24\"\n",
              "       width=\"24px\">\n",
              "    <path d=\"M0 0h24v24H0V0z\" fill=\"none\"/>\n",
              "    <path d=\"M18.56 5.44l.94 2.06.94-2.06 2.06-.94-2.06-.94-.94-2.06-.94 2.06-2.06.94zm-11 1L8.5 8.5l.94-2.06 2.06-.94-2.06-.94L8.5 2.5l-.94 2.06-2.06.94zm10 10l.94 2.06.94-2.06 2.06-.94-2.06-.94-.94-2.06-.94 2.06-2.06.94z\"/><path d=\"M17.41 7.96l-1.37-1.37c-.4-.4-.92-.59-1.43-.59-.52 0-1.04.2-1.43.59L10.3 9.45l-7.72 7.72c-.78.78-.78 2.05 0 2.83L4 21.41c.39.39.9.59 1.41.59.51 0 1.02-.2 1.41-.59l7.78-7.78 2.81-2.81c.8-.78.8-2.07 0-2.86zM5.41 20L4 18.59l7.72-7.72 1.47 1.35L5.41 20z\"/>\n",
              "  </svg>\n",
              "      </button>\n",
              "      \n",
              "  <style>\n",
              "    .colab-df-container {\n",
              "      display:flex;\n",
              "      flex-wrap:wrap;\n",
              "      gap: 12px;\n",
              "    }\n",
              "\n",
              "    .colab-df-convert {\n",
              "      background-color: #E8F0FE;\n",
              "      border: none;\n",
              "      border-radius: 50%;\n",
              "      cursor: pointer;\n",
              "      display: none;\n",
              "      fill: #1967D2;\n",
              "      height: 32px;\n",
              "      padding: 0 0 0 0;\n",
              "      width: 32px;\n",
              "    }\n",
              "\n",
              "    .colab-df-convert:hover {\n",
              "      background-color: #E2EBFA;\n",
              "      box-shadow: 0px 1px 2px rgba(60, 64, 67, 0.3), 0px 1px 3px 1px rgba(60, 64, 67, 0.15);\n",
              "      fill: #174EA6;\n",
              "    }\n",
              "\n",
              "    [theme=dark] .colab-df-convert {\n",
              "      background-color: #3B4455;\n",
              "      fill: #D2E3FC;\n",
              "    }\n",
              "\n",
              "    [theme=dark] .colab-df-convert:hover {\n",
              "      background-color: #434B5C;\n",
              "      box-shadow: 0px 1px 3px 1px rgba(0, 0, 0, 0.15);\n",
              "      filter: drop-shadow(0px 1px 2px rgba(0, 0, 0, 0.3));\n",
              "      fill: #FFFFFF;\n",
              "    }\n",
              "  </style>\n",
              "\n",
              "      <script>\n",
              "        const buttonEl =\n",
              "          document.querySelector('#df-261bcbc5-1943-45e3-b6bd-5d0fc1b1cc4a button.colab-df-convert');\n",
              "        buttonEl.style.display =\n",
              "          google.colab.kernel.accessAllowed ? 'block' : 'none';\n",
              "\n",
              "        async function convertToInteractive(key) {\n",
              "          const element = document.querySelector('#df-261bcbc5-1943-45e3-b6bd-5d0fc1b1cc4a');\n",
              "          const dataTable =\n",
              "            await google.colab.kernel.invokeFunction('convertToInteractive',\n",
              "                                                     [key], {});\n",
              "          if (!dataTable) return;\n",
              "\n",
              "          const docLinkHtml = 'Like what you see? Visit the ' +\n",
              "            '<a target=\"_blank\" href=https://colab.research.google.com/notebooks/data_table.ipynb>data table notebook</a>'\n",
              "            + ' to learn more about interactive tables.';\n",
              "          element.innerHTML = '';\n",
              "          dataTable['output_type'] = 'display_data';\n",
              "          await google.colab.output.renderOutput(dataTable, element);\n",
              "          const docLink = document.createElement('div');\n",
              "          docLink.innerHTML = docLinkHtml;\n",
              "          element.appendChild(docLink);\n",
              "        }\n",
              "      </script>\n",
              "    </div>\n",
              "  </div>\n",
              "  "
            ],
            "text/plain": [
              "             conversation\n",
              "class                    \n",
              "갈취 대화                3924\n",
              "기타 괴롭힘 대화            4376\n",
              "일반 대화               20341\n",
              "직장 내 괴롭힘 대화          3916\n",
              "협박 대화                3584"
            ]
          },
          "metadata": {},
          "execution_count": 35
        }
      ]
    },
    {
      "cell_type": "code",
      "source": [
        "def label2id(x):\n",
        "  # id에 맞는 실제 클래스로 변환시킵니다.\n",
        "  if x == \"협박 대화\":\n",
        "    return 0\n",
        "  elif x == \"갈취 대화\":\n",
        "    return 1\n",
        "  elif x == \"직장 내 괴롭힘 대화\":\n",
        "    return 2\n",
        "  elif x == \"기타 괴롭힘 대화\":\n",
        "    return 3\n",
        "  elif x == \"일반 대화\":\n",
        "    return 4\n",
        "\n",
        "def preprocessing(x):\n",
        "  # 한글, 숫자, ?!,. 를 제외하고는 모든 str을 공백으로 대체합니다.\n",
        "  x = re.sub(\"[^ㄱ-ㅎ가-힣0-9?!,.]\", \" \", x)\n",
        "  # 연속적인 공백을 한칸 공백으로 대체합니다.\n",
        "  x = re.sub(\"[ ]+\", \" \", x)\n",
        "  # 양쪽 공백을 제거합니다.\n",
        "  x = x.strip()\n",
        "  return x"
      ],
      "metadata": {
        "id": "dVxs0na9PpPn"
      },
      "id": "dVxs0na9PpPn",
      "execution_count": null,
      "outputs": []
    },
    {
      "cell_type": "code",
      "source": [
        "# 앞선 함수를 데이터셋에 적용합니다.\n",
        "from tqdm import tqdm\n",
        "import re\n",
        "train[\"class\"] = train[\"class\"].apply(label2id)\n",
        "tqdm.pandas()\n",
        "train[\"conversation\"] = train[\"conversation\"].progress_apply(preprocessing)\n",
        "train = train.reset_index(drop=True)\n",
        "train.head()"
      ],
      "metadata": {
        "colab": {
          "base_uri": "https://localhost:8080/",
          "height": 224
        },
        "id": "F_ssHh3qPrkH",
        "outputId": "084a7a0e-1ddc-4e1e-c646-8719f05c0f32"
      },
      "id": "F_ssHh3qPrkH",
      "execution_count": null,
      "outputs": [
        {
          "output_type": "stream",
          "name": "stderr",
          "text": [
            "100%|██████████| 36141/36141 [00:01<00:00, 33854.18it/s]\n"
          ]
        },
        {
          "output_type": "execute_result",
          "data": {
            "text/html": [
              "\n",
              "  <div id=\"df-4bbb08ce-01dc-4467-a3ff-a4b787395dae\">\n",
              "    <div class=\"colab-df-container\">\n",
              "      <div>\n",
              "<style scoped>\n",
              "    .dataframe tbody tr th:only-of-type {\n",
              "        vertical-align: middle;\n",
              "    }\n",
              "\n",
              "    .dataframe tbody tr th {\n",
              "        vertical-align: top;\n",
              "    }\n",
              "\n",
              "    .dataframe thead th {\n",
              "        text-align: right;\n",
              "    }\n",
              "</style>\n",
              "<table border=\"1\" class=\"dataframe\">\n",
              "  <thead>\n",
              "    <tr style=\"text-align: right;\">\n",
              "      <th></th>\n",
              "      <th>class</th>\n",
              "      <th>conversation</th>\n",
              "    </tr>\n",
              "  </thead>\n",
              "  <tbody>\n",
              "    <tr>\n",
              "      <th>0</th>\n",
              "      <td>0</td>\n",
              "      <td>지금 너 스스로를 죽여달라고 애원하는 것인가? 아닙니다. 죄송합니다. 죽을 거면 혼...</td>\n",
              "    </tr>\n",
              "    <tr>\n",
              "      <th>1</th>\n",
              "      <td>0</td>\n",
              "      <td>길동경찰서입니다. 9시 40분 마트에 폭발물을 설치할거다. 네? 똑바로 들어 한번만...</td>\n",
              "    </tr>\n",
              "    <tr>\n",
              "      <th>2</th>\n",
              "      <td>3</td>\n",
              "      <td>너 되게 귀여운거 알지? 나보다 작은 남자는 첨봤어. 그만해. 니들 놀리는거 재미없...</td>\n",
              "    </tr>\n",
              "    <tr>\n",
              "      <th>3</th>\n",
              "      <td>1</td>\n",
              "      <td>어이 거기 예?? 너 말이야 너. 이리 오라고 무슨 일. 너 옷 좋아보인다? 얘 돈...</td>\n",
              "    </tr>\n",
              "    <tr>\n",
              "      <th>4</th>\n",
              "      <td>1</td>\n",
              "      <td>저기요 혹시 날이 너무 뜨겁잖아요? 저희 회사에서 이 선크림 파는데 한 번 손등에 ...</td>\n",
              "    </tr>\n",
              "  </tbody>\n",
              "</table>\n",
              "</div>\n",
              "      <button class=\"colab-df-convert\" onclick=\"convertToInteractive('df-4bbb08ce-01dc-4467-a3ff-a4b787395dae')\"\n",
              "              title=\"Convert this dataframe to an interactive table.\"\n",
              "              style=\"display:none;\">\n",
              "        \n",
              "  <svg xmlns=\"http://www.w3.org/2000/svg\" height=\"24px\"viewBox=\"0 0 24 24\"\n",
              "       width=\"24px\">\n",
              "    <path d=\"M0 0h24v24H0V0z\" fill=\"none\"/>\n",
              "    <path d=\"M18.56 5.44l.94 2.06.94-2.06 2.06-.94-2.06-.94-.94-2.06-.94 2.06-2.06.94zm-11 1L8.5 8.5l.94-2.06 2.06-.94-2.06-.94L8.5 2.5l-.94 2.06-2.06.94zm10 10l.94 2.06.94-2.06 2.06-.94-2.06-.94-.94-2.06-.94 2.06-2.06.94z\"/><path d=\"M17.41 7.96l-1.37-1.37c-.4-.4-.92-.59-1.43-.59-.52 0-1.04.2-1.43.59L10.3 9.45l-7.72 7.72c-.78.78-.78 2.05 0 2.83L4 21.41c.39.39.9.59 1.41.59.51 0 1.02-.2 1.41-.59l7.78-7.78 2.81-2.81c.8-.78.8-2.07 0-2.86zM5.41 20L4 18.59l7.72-7.72 1.47 1.35L5.41 20z\"/>\n",
              "  </svg>\n",
              "      </button>\n",
              "      \n",
              "  <style>\n",
              "    .colab-df-container {\n",
              "      display:flex;\n",
              "      flex-wrap:wrap;\n",
              "      gap: 12px;\n",
              "    }\n",
              "\n",
              "    .colab-df-convert {\n",
              "      background-color: #E8F0FE;\n",
              "      border: none;\n",
              "      border-radius: 50%;\n",
              "      cursor: pointer;\n",
              "      display: none;\n",
              "      fill: #1967D2;\n",
              "      height: 32px;\n",
              "      padding: 0 0 0 0;\n",
              "      width: 32px;\n",
              "    }\n",
              "\n",
              "    .colab-df-convert:hover {\n",
              "      background-color: #E2EBFA;\n",
              "      box-shadow: 0px 1px 2px rgba(60, 64, 67, 0.3), 0px 1px 3px 1px rgba(60, 64, 67, 0.15);\n",
              "      fill: #174EA6;\n",
              "    }\n",
              "\n",
              "    [theme=dark] .colab-df-convert {\n",
              "      background-color: #3B4455;\n",
              "      fill: #D2E3FC;\n",
              "    }\n",
              "\n",
              "    [theme=dark] .colab-df-convert:hover {\n",
              "      background-color: #434B5C;\n",
              "      box-shadow: 0px 1px 3px 1px rgba(0, 0, 0, 0.15);\n",
              "      filter: drop-shadow(0px 1px 2px rgba(0, 0, 0, 0.3));\n",
              "      fill: #FFFFFF;\n",
              "    }\n",
              "  </style>\n",
              "\n",
              "      <script>\n",
              "        const buttonEl =\n",
              "          document.querySelector('#df-4bbb08ce-01dc-4467-a3ff-a4b787395dae button.colab-df-convert');\n",
              "        buttonEl.style.display =\n",
              "          google.colab.kernel.accessAllowed ? 'block' : 'none';\n",
              "\n",
              "        async function convertToInteractive(key) {\n",
              "          const element = document.querySelector('#df-4bbb08ce-01dc-4467-a3ff-a4b787395dae');\n",
              "          const dataTable =\n",
              "            await google.colab.kernel.invokeFunction('convertToInteractive',\n",
              "                                                     [key], {});\n",
              "          if (!dataTable) return;\n",
              "\n",
              "          const docLinkHtml = 'Like what you see? Visit the ' +\n",
              "            '<a target=\"_blank\" href=https://colab.research.google.com/notebooks/data_table.ipynb>data table notebook</a>'\n",
              "            + ' to learn more about interactive tables.';\n",
              "          element.innerHTML = '';\n",
              "          dataTable['output_type'] = 'display_data';\n",
              "          await google.colab.output.renderOutput(dataTable, element);\n",
              "          const docLink = document.createElement('div');\n",
              "          docLink.innerHTML = docLinkHtml;\n",
              "          element.appendChild(docLink);\n",
              "        }\n",
              "      </script>\n",
              "    </div>\n",
              "  </div>\n",
              "  "
            ],
            "text/plain": [
              "   class                                       conversation\n",
              "0      0  지금 너 스스로를 죽여달라고 애원하는 것인가? 아닙니다. 죄송합니다. 죽을 거면 혼...\n",
              "1      0  길동경찰서입니다. 9시 40분 마트에 폭발물을 설치할거다. 네? 똑바로 들어 한번만...\n",
              "2      3  너 되게 귀여운거 알지? 나보다 작은 남자는 첨봤어. 그만해. 니들 놀리는거 재미없...\n",
              "3      1  어이 거기 예?? 너 말이야 너. 이리 오라고 무슨 일. 너 옷 좋아보인다? 얘 돈...\n",
              "4      1  저기요 혹시 날이 너무 뜨겁잖아요? 저희 회사에서 이 선크림 파는데 한 번 손등에 ..."
            ]
          },
          "metadata": {},
          "execution_count": 37
        }
      ]
    },
    {
      "cell_type": "code",
      "source": [
        "train.groupby(\"class\").count()"
      ],
      "metadata": {
        "colab": {
          "base_uri": "https://localhost:8080/",
          "height": 237
        },
        "id": "EPS_8rY-PZxC",
        "outputId": "ce7158d3-7995-433f-a79f-acb33fac03a6"
      },
      "id": "EPS_8rY-PZxC",
      "execution_count": null,
      "outputs": [
        {
          "output_type": "execute_result",
          "data": {
            "text/html": [
              "\n",
              "  <div id=\"df-c978d812-0449-44a9-869c-01e31ca5cd1a\">\n",
              "    <div class=\"colab-df-container\">\n",
              "      <div>\n",
              "<style scoped>\n",
              "    .dataframe tbody tr th:only-of-type {\n",
              "        vertical-align: middle;\n",
              "    }\n",
              "\n",
              "    .dataframe tbody tr th {\n",
              "        vertical-align: top;\n",
              "    }\n",
              "\n",
              "    .dataframe thead th {\n",
              "        text-align: right;\n",
              "    }\n",
              "</style>\n",
              "<table border=\"1\" class=\"dataframe\">\n",
              "  <thead>\n",
              "    <tr style=\"text-align: right;\">\n",
              "      <th></th>\n",
              "      <th>conversation</th>\n",
              "    </tr>\n",
              "    <tr>\n",
              "      <th>class</th>\n",
              "      <th></th>\n",
              "    </tr>\n",
              "  </thead>\n",
              "  <tbody>\n",
              "    <tr>\n",
              "      <th>0</th>\n",
              "      <td>3584</td>\n",
              "    </tr>\n",
              "    <tr>\n",
              "      <th>1</th>\n",
              "      <td>3924</td>\n",
              "    </tr>\n",
              "    <tr>\n",
              "      <th>2</th>\n",
              "      <td>3916</td>\n",
              "    </tr>\n",
              "    <tr>\n",
              "      <th>3</th>\n",
              "      <td>4376</td>\n",
              "    </tr>\n",
              "    <tr>\n",
              "      <th>4</th>\n",
              "      <td>20341</td>\n",
              "    </tr>\n",
              "  </tbody>\n",
              "</table>\n",
              "</div>\n",
              "      <button class=\"colab-df-convert\" onclick=\"convertToInteractive('df-c978d812-0449-44a9-869c-01e31ca5cd1a')\"\n",
              "              title=\"Convert this dataframe to an interactive table.\"\n",
              "              style=\"display:none;\">\n",
              "        \n",
              "  <svg xmlns=\"http://www.w3.org/2000/svg\" height=\"24px\"viewBox=\"0 0 24 24\"\n",
              "       width=\"24px\">\n",
              "    <path d=\"M0 0h24v24H0V0z\" fill=\"none\"/>\n",
              "    <path d=\"M18.56 5.44l.94 2.06.94-2.06 2.06-.94-2.06-.94-.94-2.06-.94 2.06-2.06.94zm-11 1L8.5 8.5l.94-2.06 2.06-.94-2.06-.94L8.5 2.5l-.94 2.06-2.06.94zm10 10l.94 2.06.94-2.06 2.06-.94-2.06-.94-.94-2.06-.94 2.06-2.06.94z\"/><path d=\"M17.41 7.96l-1.37-1.37c-.4-.4-.92-.59-1.43-.59-.52 0-1.04.2-1.43.59L10.3 9.45l-7.72 7.72c-.78.78-.78 2.05 0 2.83L4 21.41c.39.39.9.59 1.41.59.51 0 1.02-.2 1.41-.59l7.78-7.78 2.81-2.81c.8-.78.8-2.07 0-2.86zM5.41 20L4 18.59l7.72-7.72 1.47 1.35L5.41 20z\"/>\n",
              "  </svg>\n",
              "      </button>\n",
              "      \n",
              "  <style>\n",
              "    .colab-df-container {\n",
              "      display:flex;\n",
              "      flex-wrap:wrap;\n",
              "      gap: 12px;\n",
              "    }\n",
              "\n",
              "    .colab-df-convert {\n",
              "      background-color: #E8F0FE;\n",
              "      border: none;\n",
              "      border-radius: 50%;\n",
              "      cursor: pointer;\n",
              "      display: none;\n",
              "      fill: #1967D2;\n",
              "      height: 32px;\n",
              "      padding: 0 0 0 0;\n",
              "      width: 32px;\n",
              "    }\n",
              "\n",
              "    .colab-df-convert:hover {\n",
              "      background-color: #E2EBFA;\n",
              "      box-shadow: 0px 1px 2px rgba(60, 64, 67, 0.3), 0px 1px 3px 1px rgba(60, 64, 67, 0.15);\n",
              "      fill: #174EA6;\n",
              "    }\n",
              "\n",
              "    [theme=dark] .colab-df-convert {\n",
              "      background-color: #3B4455;\n",
              "      fill: #D2E3FC;\n",
              "    }\n",
              "\n",
              "    [theme=dark] .colab-df-convert:hover {\n",
              "      background-color: #434B5C;\n",
              "      box-shadow: 0px 1px 3px 1px rgba(0, 0, 0, 0.15);\n",
              "      filter: drop-shadow(0px 1px 2px rgba(0, 0, 0, 0.3));\n",
              "      fill: #FFFFFF;\n",
              "    }\n",
              "  </style>\n",
              "\n",
              "      <script>\n",
              "        const buttonEl =\n",
              "          document.querySelector('#df-c978d812-0449-44a9-869c-01e31ca5cd1a button.colab-df-convert');\n",
              "        buttonEl.style.display =\n",
              "          google.colab.kernel.accessAllowed ? 'block' : 'none';\n",
              "\n",
              "        async function convertToInteractive(key) {\n",
              "          const element = document.querySelector('#df-c978d812-0449-44a9-869c-01e31ca5cd1a');\n",
              "          const dataTable =\n",
              "            await google.colab.kernel.invokeFunction('convertToInteractive',\n",
              "                                                     [key], {});\n",
              "          if (!dataTable) return;\n",
              "\n",
              "          const docLinkHtml = 'Like what you see? Visit the ' +\n",
              "            '<a target=\"_blank\" href=https://colab.research.google.com/notebooks/data_table.ipynb>data table notebook</a>'\n",
              "            + ' to learn more about interactive tables.';\n",
              "          element.innerHTML = '';\n",
              "          dataTable['output_type'] = 'display_data';\n",
              "          await google.colab.output.renderOutput(dataTable, element);\n",
              "          const docLink = document.createElement('div');\n",
              "          docLink.innerHTML = docLinkHtml;\n",
              "          element.appendChild(docLink);\n",
              "        }\n",
              "      </script>\n",
              "    </div>\n",
              "  </div>\n",
              "  "
            ],
            "text/plain": [
              "       conversation\n",
              "class              \n",
              "0              3584\n",
              "1              3924\n",
              "2              3916\n",
              "3              4376\n",
              "4             20341"
            ]
          },
          "metadata": {},
          "execution_count": 38
        }
      ]
    },
    {
      "cell_type": "markdown",
      "source": [
        "#### 학습을 위해서 만들어진 데이터셋 csv 파일로 저장"
      ],
      "metadata": {
        "id": "2VmM0cN00Ojg"
      },
      "id": "2VmM0cN00Ojg"
    },
    {
      "cell_type": "code",
      "source": [
        "train.to_csv(\"../../data/senti_kor_sns_summary_5000_bt.csv\")"
      ],
      "metadata": {
        "id": "nfPKmv8RQzbQ"
      },
      "id": "nfPKmv8RQzbQ",
      "execution_count": null,
      "outputs": []
    },
    {
      "cell_type": "markdown",
      "id": "executive-tumor",
      "metadata": {
        "id": "executive-tumor"
      },
      "source": [
        "## 3. 모델 클래스 및 함수 "
      ]
    },
    {
      "cell_type": "markdown",
      "source": [
        "#### 데이터 로딩 클래스"
      ],
      "metadata": {
        "id": "YSfkbxNodTU-"
      },
      "id": "YSfkbxNodTU-"
    },
    {
      "cell_type": "code",
      "source": [
        "import pandas as pd\n",
        "from sklearn.model_selection import train_test_split\n",
        "from collections import Counter\n",
        "\n",
        "class DataLoad():\n",
        "\n",
        "\n",
        "  def __init__(self, data_path):\n",
        "    self.dataset = pd.read_csv(data_path)\n",
        "\n",
        "\n",
        "  def split(self, split_size):\n",
        "    X = self.dataset[\"conversation\"]\n",
        "    Y = self.dataset[\"class\"]\n",
        "    print(self.dataset.groupby(\"class\").count().iloc[:,0])\n",
        "    print(self.dataset.head())\n",
        "    # 전체 데이터의 split_size 비율 만큼은 테스트, 검증 데이터입니다.\n",
        "    x_train, x_val_test, y_train, y_val_test = train_test_split(X, Y, \n",
        "                                                            test_size = split_size, \n",
        "                                                            random_state = 200,\n",
        "                                                            stratify = Y)\n",
        "    # 테스트, 검증 데이터의 개수는 1:1의 비율을 가집니다.\n",
        "    x_val, x_test, y_val, y_test = train_test_split(x_val_test, y_val_test,\n",
        "                                                test_size = 0.5,\n",
        "                                                random_state = 202,\n",
        "                                                stratify = y_val_test)\n",
        "    print(f\"x_train 개수 : {len(x_train)}\")\n",
        "    print(f\"y_train 개수 : {len(y_train)}\")\n",
        "    print(f\"x_val 개수 : {len(x_val)}\")\n",
        "    print(f\"y_val 개수 : {len(y_val)}\")\n",
        "    print(f\"x_test 개수 : {len(x_test)}\")\n",
        "    print(f\"y_test 개수 : {len(y_test)}\")\n",
        "    print(f\"훈련 데이터 레이블 비율 확인 : {Counter(y_train)}\")\n",
        "    print(f\"검증 데이터 레이블 비율 확인 : {Counter(y_val)}\")\n",
        "    print(f\"테스트 데이터 레이블 비율 확인 : {Counter(y_test)}\")\n",
        "    return x_train.tolist(), x_val.tolist(), x_test.tolist(), y_train.tolist(), y_val.tolist(), y_test.tolist()"
      ],
      "metadata": {
        "id": "A_SF3-cYvn6p"
      },
      "id": "A_SF3-cYvn6p",
      "execution_count": null,
      "outputs": []
    },
    {
      "cell_type": "markdown",
      "source": [
        "#### 데이터 증강 클래스"
      ],
      "metadata": {
        "id": "LGnVrUzRdZCX"
      },
      "id": "LGnVrUzRdZCX"
    },
    {
      "cell_type": "code",
      "source": [
        "import random\n",
        "import gensim\n",
        "from konlpy.tag import Mecab\n",
        "from tqdm import tqdm\n",
        "\n",
        "class DataAugmentation:\n",
        "\n",
        "\n",
        "  def __init__(self, X, Y, word2vec_path):\n",
        "    self.mecab = Mecab()\n",
        "    self.word2vec = gensim.models.Word2Vec.load(word2vec_path)\n",
        "    self.X = X\n",
        "    self.Y = Y\n",
        "  \n",
        "  def sub_rep(self, X, sub_ratio = 0.1):\n",
        "    # 전체 단어중에서 sub_ratio 만큼만 무작위 선택합니다.\n",
        "    nouns = list(set(self.mecab.morphs(X)))\n",
        "    sub_num = int(len(nouns) * sub_ratio)\n",
        "    sub_list = random.sample(nouns, sub_num)\n",
        "\n",
        "    # 대체 시킬 단어와 유사한 단어들을 불러옵니다.\n",
        "    result = []\n",
        "    for sub in sub_list:\n",
        "      try:\n",
        "        result.append((sub, self.word2vec.wv.most_similar(sub)[0]))\n",
        "      except KeyError:\n",
        "        pass\n",
        "    result = list(map(lambda x: (x[0], x[1][0]), result))\n",
        "\n",
        "    # 무작위 선택된 단어들을 유사한 단어들로 바꿔줍니다.\n",
        "    for before, after in result:\n",
        "      X = X.replace(before, after, 1)\n",
        "    return X\n",
        "\n",
        "  def sub_rep_dataset(self, sub_ratio = 0.1):\n",
        "    # 입력 X에 sub_rep 함수 적용합니다.\n",
        "    new_x = list(tqdm(map(lambda x: self.sub_rep(x, sub_ratio), self.X)))\n",
        "    # 입력 Y의 값을 복사합니다.\n",
        "    new_y = self.Y.copy()\n",
        "\n",
        "    print(\"훈련 데이터 유의어 대체 증강 완료\")\n",
        "    print(f\"증강시킨 데이터 개수 : {len(new_x)}\")\n",
        "    print(f\"----데이터 증강 전 데이터 예시 ----\\n{self.X[0]}\")\n",
        "    print(f\"----데이터 증강 후 데이터 예시 ----\\n{new_x[0]}\")\n",
        "    return new_x, new_y\n",
        "\n",
        "  def label_repeat(self, label_id, num = 1):\n",
        "    # 특정 레이블 label_id를 num 횟수 만큼 반복\n",
        "    new_x = []\n",
        "    new_y = []\n",
        "    for i in range(num):\n",
        "      label_index = (np.array(self.Y) == label_id)\n",
        "      new_x += np.array(self.X)[label_index].tolist()\n",
        "      new_y += np.array(self.Y)[label_index].tolist()\n",
        "    \n",
        "    print(\"훈련 데이터 특정 레이블 반복 증강 완료\")\n",
        "    print(f\"반복되는 레이블 id : {label_id}\")\n",
        "    print(f\"반복된 횟수 : {num}\")\n",
        "    return new_x, new_y"
      ],
      "metadata": {
        "id": "VSZTawMxU113"
      },
      "id": "VSZTawMxU113",
      "execution_count": null,
      "outputs": []
    },
    {
      "cell_type": "markdown",
      "source": [
        "#### 기타 함수 "
      ],
      "metadata": {
        "id": "rWcWSHaTdoiU"
      },
      "id": "rWcWSHaTdoiU"
    },
    {
      "cell_type": "code",
      "source": [
        "def id2label(x):\n",
        "  # id에 맞는 실제 클래스로 변환시킵니다.\n",
        "  if x == 0:\n",
        "    return \"협박 대화\"\n",
        "  elif x == 1:\n",
        "    return \"갈취 대화\"\n",
        "  elif x == 2:\n",
        "    return \"직장 내 괴롭힘 대화\"\n",
        "  elif x == 3:\n",
        "    return \"기타 괴롭힘 대화\"\n",
        "  elif x == 4:\n",
        "    return \"일반 대화\"\n",
        "\n",
        "\n",
        "def clf_score(y_test, y_pred):\n",
        "  # 테스트 데이터에서 오분류된 데이터들의 idx를 리스트 타입으로 반환합니다.\n",
        "  # classification report \n",
        "  false_list = [idx for idx, i in enumerate(y_test) if y_pred[idx] != i]\n",
        "  print(f\"모델이 틀린 데이터 개수 {len(false_list)}개\")\n",
        "  print(classification_report(y_test, y_pred))\n",
        "\n",
        "  # confusion matrix\n",
        "  conf_matrix = confusion_matrix(y_test, y_pred)\n",
        "  names = [\"협박\", \"갈취\", \"직장내 괴롭힘\", \"기타 괴롭힘\", \"일반\"]\n",
        "  conf_matrix = pd.DataFrame(conf_matrix, index = names, columns = names)\n",
        "  sns.heatmap(conf_matrix, annot = True, fmt = \"d\")\n",
        "  plt.title(\"Confusion Matrix\")\n",
        "  plt.xlabel(\"pred\")\n",
        "  plt.ylabel(\"true\")\n",
        "  plt.show()\n",
        "  return false_list\n",
        "\n",
        "\n",
        "def evaluate_result(score_list, x_test, y_pred, y_test):\n",
        "  # 입력, 예측값, 실제값, 레이블별 score로 이루어진 판다스 데이터셋을 반환합니다.\n",
        "  score_dataset = pd.DataFrame(score_list).add_prefix(\"label_\")\n",
        "  label_dataset = pd.DataFrame({\"x_test\":x_test, \"y_pred\":y_pred, \"y_test\":y_test})\n",
        "  test_dataset = pd.concat([label_dataset, score_dataset], axis = 1)\n",
        "  return test_dataset\n",
        "\n",
        "\n",
        "def false_case_dataset(false_list, x_test, y_test, y_pred, print_example = False):\n",
        "  # 오분류된 idx에 맞는 입력, 예측값, 실제값을 담은 리스트를 반환합니다.\n",
        "  false_x_test = [x_test[i] for i in false_list]\n",
        "  false_y_test = [y_test[i] for i in false_list]\n",
        "  false_y_pred = [y_pred[i] for i in false_list]\n",
        "\n",
        "  # 앞서 담은 리스트들을 판다스 데이터프레임 타입으로 변환시킵니다.\n",
        "  false_dataset = pd.DataFrame({\"text\":false_x_test, \"y_true\":false_y_test, \"y_pred\":false_y_pred})\n",
        "  # 숫자로된 id를 실제 레이블로 바꾸며 예시는 '0 -> 협박 대화' 입니다.\n",
        "  false_dataset[\"y_true\"] = false_dataset[\"y_true\"].apply(lambda x : id2label(x))\n",
        "  false_dataset[\"y_pred\"] = false_dataset[\"y_pred\"].apply(lambda x : id2label(x))\n",
        "\n",
        "  # 오분류 예제의 내용을 보고 싶으면 print_example argument를 True로 바꿉니다.\n",
        "  if print_example:\n",
        "    for i in range(len(false_dataset)):\n",
        "      sentence, prediction, real =false_dataset.iloc[i, :]\n",
        "      print(f\"예측 분류 : {prediction}\")\n",
        "      print(f\"실제 분류 : {real}\")\n",
        "      print(sentence)\n",
        "      print(\"\\n\")\n",
        "  return false_dataset  \n",
        "\n",
        "\n",
        "def save_csv(df, path, name):\n",
        "  try:\n",
        "    os.mkdir(path)\n",
        "  except:\n",
        "    pass\n",
        "  new_path = os.path.join(path, name)\n",
        "  df.to_csv(new_path)\n",
        "\n",
        "\n",
        "def scheduler(epoch, lr):\n",
        "  if epoch < 1:\n",
        "    return lr\n",
        "  else:\n",
        "    return lr * 0.2"
      ],
      "metadata": {
        "id": "LAPJD_j6qPLZ"
      },
      "id": "LAPJD_j6qPLZ",
      "execution_count": null,
      "outputs": []
    },
    {
      "cell_type": "markdown",
      "source": [
        "#### Huggingface 모델 파이프라인 클래스"
      ],
      "metadata": {
        "id": "w7Fmk8Z_ddet"
      },
      "id": "w7Fmk8Z_ddet"
    },
    {
      "cell_type": "code",
      "source": [
        "import os\n",
        "import re\n",
        "import tensorflow as tf\n",
        "import seaborn as sns\n",
        "import numpy as np\n",
        "import matplotlib.pyplot as plt\n",
        "from collections import defaultdict\n",
        "from tensorflow.keras.preprocessing.sequence import pad_sequences\n",
        "from sklearn.metrics import classification_report, confusion_matrix\n",
        "from transformers import TextClassificationPipeline\n",
        "from transformers import AutoTokenizer, TFAutoModelForSequenceClassification, TFAutoModel\n",
        "\n",
        "\n",
        "class TFGPT2ForSequenceClassification(tf.keras.Model):\n",
        "  \"\"\"\n",
        "  GPT모델은 따로 출력층에 softmax 레이어를 추가해야 합니다.\n",
        "  \"\"\"\n",
        "  def __init__(self, model_name, num_labels):\n",
        "      super(TFGPT2ForSequenceClassification, self).__init__()\n",
        "      self.gpt = TFAutoModel.from_pretrained(model_name, \n",
        "                                              from_pt=True)\n",
        "      self.classifier = tf.keras.layers.Dense(num_labels,\n",
        "                                              kernel_initializer=tf.keras.initializers.TruncatedNormal(0.02),\n",
        "                                              activation='softmax',\n",
        "                                              name='classifier')\n",
        "\n",
        "  def call(self, inputs):\n",
        "      outputs = self.gpt(input_ids=inputs)\n",
        "      cls_token = outputs[0][:, -1]\n",
        "      prediction = self.classifier(cls_token)\n",
        "\n",
        "      return prediction\n",
        "\n",
        "\n",
        "class TrainPipeline:\n",
        "  def __init__(self, model_path, num_labels, batch_size = 16, epochs = 1):\n",
        "    \"\"\"\n",
        "    Args:\n",
        "      - model_path : Hugginface에서 사전학습된 모델들의 주소 str값을 받습니다.\n",
        "      - num_labels : 분류되는 클래스의 개수 int값을 받습니다.\n",
        "      - batch_size : 배치마다 들어가는 데이터의 개수 int값을 받습니다.\n",
        "      - epochs : 모델이 학습하는 에폭 수 int값을 받습니다.\n",
        "    Desc:\n",
        "      - 데이터셋 구축, 모델 훈련, 저장, 검증의 과정을 거치는 훈련 파이프라인\n",
        "    \"\"\"\n",
        "    self.model_path = model_path\n",
        "    self.batch_size = batch_size\n",
        "    self.epochs = epochs\n",
        "    self.num_labels = num_labels\n",
        "    if \"output_bert\" in self.model_path:\n",
        "      self.tokenizer = AutoTokenizer.from_pretrained(\"klue/bert-base\",\n",
        "                                                    bos_token='</s>', \n",
        "                                                    eos_token='</s>', \n",
        "                                                    pad_token='<pad>')\n",
        "    else:\n",
        "      self.tokenizer = AutoTokenizer.from_pretrained(self.model_path,\n",
        "                                                    bos_token='</s>', \n",
        "                                                    eos_token='</s>', \n",
        "                                                    pad_token='<pad>')\n",
        "    if \"output_bert\" in self.model_path:\n",
        "      self.model = TFAutoModelForSequenceClassification.from_pretrained(self.model_path,\n",
        "                                                                        num_labels = self.num_labels)\n",
        "    else:\n",
        "      self.model = TFAutoModelForSequenceClassification.from_pretrained(self.model_path,\n",
        "                                                                        num_labels = self.num_labels,\n",
        "                                                                        from_pt=True)\n",
        "    # https://stackoverflow.com/questions/69191305/how-to-add-new-special-token-to-the-tokenizer\n",
        "    # 추가된 토큰에 맞게 vocab_size 재지정\n",
        "    self.model.resize_token_embeddings(len(self.tokenizer))\n",
        "\n",
        "  def dataset(self, X, Y, lstm = False):\n",
        "    \"\"\"\n",
        "    Args:\n",
        "      - X : 모델의 입력 변수로 str문장들로 구성된 list를 받습니다.\n",
        "      - Y : 모델의 출력 변수로 id값으로 구성된 list를 받습니다.\n",
        "      - lstm : lstm모델 여부를 결정하는 arg로 boolean을 받습니다.\n",
        "    Desc:\n",
        "      - 모델 학습에 들어가기 직전의 데이터셋으로 변환시켜주는 메소드입니다.\n",
        "    Returns:\n",
        "      - 모델이 GPT이면 (2D-array, 1D-array) 형태의 튜플을 반환합니다.\n",
        "      - 모델이 BERT, LSTM이면 텐서플로우 데이터셋을 반환합니다.\n",
        "    \"\"\"\n",
        "    # GPT 모델인 경우 넘파이로 반환시킵니다.\n",
        "    if \"GPT\" in str(self.model):\n",
        "      # 입력 변수 X의 원소에 차례대로 토큰화를 시키고 list에 넣습니다.\n",
        "      input_ids, data_labels = [], []\n",
        "      for example, label in tqdm(zip(X, Y), total=len(X)):\n",
        "          bos_token = [self.tokenizer.bos_token]\n",
        "          eos_token = [self.tokenizer.eos_token]\n",
        "          tokens = bos_token + self.tokenizer.tokenize(example) + eos_token\n",
        "          input_id = self.tokenizer.convert_tokens_to_ids(tokens)\n",
        "          input_ids.append(input_id)\n",
        "          data_labels.append(label)\n",
        "\n",
        "      # X에 토큰화된 문장중에서 가장 긴 문장을 기준으로 패딩을 해줍니다.\n",
        "      max_seq_len = max(map(lambda x : len(x), input_ids))\n",
        "      input_ids = pad_sequences(input_ids, maxlen = max_seq_len, \n",
        "                                value = self.tokenizer.pad_token_id, \n",
        "                                padding='post')\n",
        "      data_labels = np.array(data_labels)\n",
        "      return input_ids, data_labels\n",
        "\n",
        "    # BERT 모델인 경우 텐서플로우 데이터셋으로 반환시킵니다.\n",
        "    if not lstm:\n",
        "      encodings = self.tokenizer(X, truncation = True, padding = True)\n",
        "      dataset = tf.data.Dataset.from_tensor_slices((dict(encodings), \n",
        "                                                          Y))\n",
        "      dataset = dataset.shuffle(1000).batch(self.batch_size).prefetch(tf.data.experimental.AUTOTUNE)\n",
        "\n",
        "    # LSTM 모델인 경우 텐서플로우 데이터셋으로 반환시킵니다.\n",
        "    else:\n",
        "      encodings = X\n",
        "      dataset = tf.data.Dataset.from_tensor_slices((encodings, \n",
        "                                                    Y))\n",
        "      dataset = dataset.shuffle(1000).batch(self.batch_size).prefetch(tf.data.experimental.AUTOTUNE)\n",
        "    return dataset    \n",
        "\n",
        "  def training_dataset(self, train_dataset, val_dataset):\n",
        "    \"\"\"\n",
        "    Args:\n",
        "      - train_dataset : dataset 메소드를 거친 훈련 데이터셋을 받습니다.\n",
        "      - val_dataset : dataset 메소드를 거친 검증 데이터셋을 받습니다.\n",
        "    Desc:\n",
        "      - 호출시킨 모델에 맞게 학습을 시키고 학습된 모델을 반환시켜줍니다.\n",
        "    Returns:\n",
        "      - 모델이 GPT면 학습된 subclass 모델을 반환합니다\n",
        "      - 모델이 LSTM, BERT이면 학습된 functional 모델을 반환합니다.\n",
        "    \"\"\"\n",
        "    optimizer = tf.keras.optimizers.Adam(learning_rate=5e-5)\n",
        "    losses = tf.keras.losses.SparseCategoricalCrossentropy(from_logits = True)\n",
        "    es = tf.keras.callbacks.EarlyStopping(monitor='val_loss',\n",
        "                                          mode='auto', \n",
        "                                          patience=1)\n",
        "    lr_schedule = tf.keras.callbacks.LearningRateScheduler(scheduler)\n",
        "    \n",
        "    # 모델이 GPT인 경우 앞서 선언된 subclass 모델을 가져와서 학습시킵니다.\n",
        "    if \"GPT\" in str(self.model):\n",
        "      x_train, y_train = train_dataset\n",
        "      x_val, y_val = val_dataset\n",
        "      num_labels = int(max(y_train) + 1)\n",
        "      self.model = TFGPT2ForSequenceClassification(self.model_path,\n",
        "                                              num_labels = num_labels)\n",
        "      self.model.compile(optimizer = optimizer,\n",
        "                        loss = losses,\n",
        "                        metrics = ['accuracy'])\n",
        "      self.model.fit(x_train, y_train,\n",
        "                     epochs = self.epochs,\n",
        "                     batch_size = self.batch_size,\n",
        "                     validation_data = (x_val, y_val),\n",
        "                     callbacks = [lr_schedule, es])\n",
        "      return self.model\n",
        "\n",
        "    # 모델이 LSTM, BERT인 경우 바로 학습시킵니다.\n",
        "    else:\n",
        "      self.model.compile(optimizer = optimizer,\n",
        "                        loss = losses,\n",
        "                        metrics = ['accuracy'])\n",
        "      self.model.fit(train_dataset,\n",
        "                     epochs = self.epochs,\n",
        "                     batch_size = self.batch_size,\n",
        "                     validation_data = val_dataset,\n",
        "                     callbacks = [lr_schedule, es])\n",
        "      return self.model \n",
        "\n",
        "  def evaluate_model(self, x_test):\n",
        "    \"\"\"\n",
        "    Args:\n",
        "      - x_test : LSTM, GPT모델이면 2-D array의 테스트 데이터를 받습니다.\n",
        "    Desc:\n",
        "      - 학습된 모델에 x_test를 예측한 점수와 클래스를 반환합니다.\n",
        "    Returns:\n",
        "      - LSTM, GPT 모델이면 (예측 점수 list, 클래스 1D-array)인 튜플을 반환합니다.\n",
        "      - BERT 모델인 경우 (예측 점수 list, 클래스 list)인 튜플을 반환합니다.\n",
        "    \"\"\"\n",
        "    predicted_label_list = []\n",
        "    predicted_score_list = []\n",
        "    \n",
        "    # 테스트 데이터를 예측하는 모델이 LSTM 또는 GPT인 경우\n",
        "    if \"Functional\" in str(self.model) or \"GPT\" in str(self.model):\n",
        "      predicted_score_list = self.model.predict(x_test)\n",
        "      y_pred = np.argmax(predicted_score_list, axis = -1)\n",
        "      predicted_score_list = predicted_score_list.tolist()\n",
        "    \n",
        "    # 테스트 데이터를 예측하는 모델이 BERT인 경우\n",
        "    else:\n",
        "      clf_model = TextClassificationPipeline(\n",
        "          tokenizer = self.tokenizer,\n",
        "          model = self.model,\n",
        "          framework = \"tf\",\n",
        "          return_all_scores = True\n",
        "          )\n",
        "      for text in tqdm(x_test):\n",
        "          preds_list = clf_model(text)[0]\n",
        "          sorted_preds_list = max(preds_list, key=lambda x: x['score'])\n",
        "          predicted_label_list.append(sorted_preds_list[\"label\"]) # label\n",
        "          predicted_score_list.append(list(map(lambda x : x['score'], preds_list))) # score\n",
        "      y_pred = [int(label[-1]) for label in predicted_label_list]\n",
        "    return predicted_score_list, y_pred\n",
        "  \n",
        "  def save_model_tokenizer(self, save_path):\n",
        "    \"\"\"\n",
        "    Args:\n",
        "      - save_path : 학습된 모델을 저장할 경로인 str를 받습니다.\n",
        "    Desc:\n",
        "      - save_path 경로에 폴더를 만들고 학습된 모델을 저장합니다.\n",
        "    \"\"\"\n",
        "\n",
        "    # save_path에 맞는 새로운 경로를 만듭니다.\n",
        "    try:\n",
        "      os.mkdir(save_path)\n",
        "    except:\n",
        "      pass\n",
        "    \n",
        "    # 저장하는 모델이 GPT인 경우\n",
        "    if \"GPT\" in str(self.model):\n",
        "      folder_name = re.sub(\"/\", \"-\", self.model_path)\n",
        "      new_path = os.path.join(save_path, folder_name)\n",
        "      self.model.save_weights('path_to_my_weights', save_format='tf')\n",
        "\n",
        "    # 저장하는 모델이 LSTM인 경우\n",
        "    elif \"Functional\" in str(self.model):\n",
        "      new_path = os.path.join(save_path, \"LSTM.h5\", )\n",
        "      self.model.save(new_path)\n",
        "    \n",
        "    # 저장하는 모델이 BERT인 경우\n",
        "    else:\n",
        "      folder_name = re.sub(\"/\", \"-\", self.model_path)\n",
        "      new_path = os.path.join(save_path, folder_name)    \n",
        "      self.model.save_pretrained(new_path)\n",
        "      self.tokenizer.save_pretrained(new_path)"
      ],
      "metadata": {
        "id": "_hnts0NAvNXO"
      },
      "id": "_hnts0NAvNXO",
      "execution_count": null,
      "outputs": []
    },
    {
      "cell_type": "markdown",
      "source": [
        "## 4. Main Huggingface 함수"
      ],
      "metadata": {
        "id": "nqYfxCinMdFa"
      },
      "id": "nqYfxCinMdFa"
    },
    {
      "cell_type": "markdown",
      "source": [
        "현재 실험 중인 Hunggingface 모델은 다음과 같습니다.\n",
        "- \"klue/bert-base\"\n",
        "- \"skt/kogpt2-base-v2\"\n",
        "- \"monologg/koelectra-base-v3-discriminator\"\n",
        "- \"klue/roberta-base\"\n",
        "- \"distilbert-base-multilingual-cased\""
      ],
      "metadata": {
        "id": "w6AIlowf119l"
      },
      "id": "w6AIlowf119l"
    },
    {
      "cell_type": "code",
      "source": [
        "# Huggingface에서 사용 가능한 사전학습 모델 리스트입니다.\n",
        "model_paths = [\"./model/output_bert/\"]     \n",
        "\n",
        "\n",
        "save_path = \"./model/tmp\" # 모델이 저장되는 위치\n",
        "data_path = \"../../data/senti_kor_sns_5000_bt.csv\" # 학습 데이터 위치\n",
        "word2vec_path = \"./packages/ko.bin\" # 사전 학습 임베딩 벡터 저장 위치\n",
        "batch_size = 16 # 모델에 들어가는 배치 크기\n",
        "epochs = 4 # 에폭 수\n",
        "sub_ratio = [0.05, 0.1, 0.1]\n",
        "\n",
        "for model_path in model_paths:\n",
        "  # TPU 작동을 위한 코드\n",
        "  resolver = tf.distribute.cluster_resolver.TPUClusterResolver(tpu='grpc://' + os.environ['COLAB_TPU_ADDR'])\n",
        "  tf.config.experimental_connect_to_cluster(resolver)\n",
        "  tf.tpu.experimental.initialize_tpu_system(resolver)\n",
        "  strategy = tf.distribute.experimental.TPUStrategy(resolver)\n",
        "  with strategy.scope():\n",
        "    print(f\"{model_path} 파이프라인 시작\")\n",
        "\n",
        "    # 데이터 로딩\n",
        "    load = DataLoad(data_path)\n",
        "    x_train, x_val, x_test, y_train, y_val, y_test = load.split(0.01)\n",
        "    test_text = x_test.copy()\n",
        "    num_labels = int(max(y_train) + 1)\n",
        "\n",
        "    # # 협박 대화만 데이터 증강하기 위해서 걸러주기\n",
        "    # not_normal_x = []\n",
        "    # not_normal_y = []\n",
        "    # for x, y in zip(x_train, y_train):\n",
        "    #   # 일반 대화의 id는 4 입니다.\n",
        "    #   if y != 4:\n",
        "    #     not_normal_x.append(x)\n",
        "    #     not_normal_y.append(y)\n",
        "\n",
        "    # # 데이터 증강 : 무작위 단어 교체\n",
        "    # data_aug = DataAugmentation(not_normal_x, not_normal_y, word2vec_path)\n",
        "    # sub_rep_x = []\n",
        "    # sub_rep_y = []\n",
        "    # for i in sub_ratio:\n",
        "    #   tmp_x, tmp_y = data_aug.sub_rep_dataset(sub_ratio = i)\n",
        "    #   sub_rep_x += tmp_x\n",
        "    #   sub_rep_y += tmp_y\n",
        "\n",
        "    # # 증강된 데이터들 합치기\n",
        "    # x_train = x_train + sub_rep_x\n",
        "    # y_train = y_train + sub_rep_y\n",
        "\n",
        "    # print(f\"훈련 데이터 레이블 비율 확인 : {Counter(y_train)}\")\n",
        "\n",
        "    # 데이터셋 구축\n",
        "    pipeline = TrainPipeline(model_path, num_labels, batch_size, epochs)\n",
        "    train_dataset = pipeline.dataset(x_train, y_train)\n",
        "    val_dataset = pipeline.dataset(x_val, y_val)\n",
        "    if \"GPT\" in str(pipeline.model):\n",
        "      test_dataset = pipeline.dataset(x_test, y_test)\n",
        "      x_test, y_test = test_dataset\n",
        "\n",
        "    # 모델 학습, 예측, 저장\n",
        "    model = pipeline.training_dataset(train_dataset, val_dataset)\n",
        "    # score_list, y_pred = pipeline.evaluate_model(x_test)\n",
        "    # pipeline.save_model_tokenizer(save_path)\n",
        "\n",
        "    # 모델 검증    \n",
        "    # false_list = clf_score(y_test, y_pred)\n",
        "    # false_dataset = false_case_dataset(false_list, test_text, y_test, y_pred)\n",
        "    # eval_dataset = evaluate_result(score_list, test_text, y_pred, y_test)\n",
        "    # save_dataset_path = os.path.join(save_path, \"eval_result\")\n",
        "    # model_name = model_path.split(\"/\")[-1]\n",
        "    # save_csv(eval_dataset, save_dataset_path, f\"{model_name}.csv\")\n",
        "    \n",
        "    print(f\"{model_path} 파이프라인 종료\\n\")"
      ],
      "metadata": {
        "id": "a7qLVXz6J2JP",
        "colab": {
          "base_uri": "https://localhost:8080/"
        },
        "outputId": "9bce54a6-0acb-4e5d-f1c6-4c03f3b6a7e9"
      },
      "id": "a7qLVXz6J2JP",
      "execution_count": null,
      "outputs": [
        {
          "output_type": "stream",
          "name": "stdout",
          "text": [
            "INFO:tensorflow:Deallocate tpu buffers before initializing tpu system.\n"
          ]
        },
        {
          "output_type": "stream",
          "name": "stderr",
          "text": [
            "INFO:tensorflow:Deallocate tpu buffers before initializing tpu system.\n"
          ]
        },
        {
          "output_type": "stream",
          "name": "stdout",
          "text": [
            "WARNING:tensorflow:TPU system grpc://10.27.110.26:8470 has already been initialized. Reinitializing the TPU can cause previously created variables on TPU to be lost.\n"
          ]
        },
        {
          "output_type": "stream",
          "name": "stderr",
          "text": [
            "WARNING:tensorflow:TPU system grpc://10.27.110.26:8470 has already been initialized. Reinitializing the TPU can cause previously created variables on TPU to be lost.\n"
          ]
        },
        {
          "output_type": "stream",
          "name": "stdout",
          "text": [
            "INFO:tensorflow:Initializing the TPU system: grpc://10.27.110.26:8470\n"
          ]
        },
        {
          "output_type": "stream",
          "name": "stderr",
          "text": [
            "INFO:tensorflow:Initializing the TPU system: grpc://10.27.110.26:8470\n"
          ]
        },
        {
          "output_type": "stream",
          "name": "stdout",
          "text": [
            "INFO:tensorflow:Finished initializing TPU system.\n"
          ]
        },
        {
          "output_type": "stream",
          "name": "stderr",
          "text": [
            "INFO:tensorflow:Finished initializing TPU system.\n",
            "WARNING:absl:`tf.distribute.experimental.TPUStrategy` is deprecated, please use  the non experimental symbol `tf.distribute.TPUStrategy` instead.\n"
          ]
        },
        {
          "output_type": "stream",
          "name": "stdout",
          "text": [
            "INFO:tensorflow:Found TPU system:\n"
          ]
        },
        {
          "output_type": "stream",
          "name": "stderr",
          "text": [
            "INFO:tensorflow:Found TPU system:\n"
          ]
        },
        {
          "output_type": "stream",
          "name": "stdout",
          "text": [
            "INFO:tensorflow:*** Num TPU Cores: 8\n"
          ]
        },
        {
          "output_type": "stream",
          "name": "stderr",
          "text": [
            "INFO:tensorflow:*** Num TPU Cores: 8\n"
          ]
        },
        {
          "output_type": "stream",
          "name": "stdout",
          "text": [
            "INFO:tensorflow:*** Num TPU Workers: 1\n"
          ]
        },
        {
          "output_type": "stream",
          "name": "stderr",
          "text": [
            "INFO:tensorflow:*** Num TPU Workers: 1\n"
          ]
        },
        {
          "output_type": "stream",
          "name": "stdout",
          "text": [
            "INFO:tensorflow:*** Num TPU Cores Per Worker: 8\n"
          ]
        },
        {
          "output_type": "stream",
          "name": "stderr",
          "text": [
            "INFO:tensorflow:*** Num TPU Cores Per Worker: 8\n"
          ]
        },
        {
          "output_type": "stream",
          "name": "stdout",
          "text": [
            "INFO:tensorflow:*** Available Device: _DeviceAttributes(/job:localhost/replica:0/task:0/device:CPU:0, CPU, 0, 0)\n"
          ]
        },
        {
          "output_type": "stream",
          "name": "stderr",
          "text": [
            "INFO:tensorflow:*** Available Device: _DeviceAttributes(/job:localhost/replica:0/task:0/device:CPU:0, CPU, 0, 0)\n"
          ]
        },
        {
          "output_type": "stream",
          "name": "stdout",
          "text": [
            "INFO:tensorflow:*** Available Device: _DeviceAttributes(/job:worker/replica:0/task:0/device:CPU:0, CPU, 0, 0)\n"
          ]
        },
        {
          "output_type": "stream",
          "name": "stderr",
          "text": [
            "INFO:tensorflow:*** Available Device: _DeviceAttributes(/job:worker/replica:0/task:0/device:CPU:0, CPU, 0, 0)\n"
          ]
        },
        {
          "output_type": "stream",
          "name": "stdout",
          "text": [
            "INFO:tensorflow:*** Available Device: _DeviceAttributes(/job:worker/replica:0/task:0/device:TPU:0, TPU, 0, 0)\n"
          ]
        },
        {
          "output_type": "stream",
          "name": "stderr",
          "text": [
            "INFO:tensorflow:*** Available Device: _DeviceAttributes(/job:worker/replica:0/task:0/device:TPU:0, TPU, 0, 0)\n"
          ]
        },
        {
          "output_type": "stream",
          "name": "stdout",
          "text": [
            "INFO:tensorflow:*** Available Device: _DeviceAttributes(/job:worker/replica:0/task:0/device:TPU:1, TPU, 0, 0)\n"
          ]
        },
        {
          "output_type": "stream",
          "name": "stderr",
          "text": [
            "INFO:tensorflow:*** Available Device: _DeviceAttributes(/job:worker/replica:0/task:0/device:TPU:1, TPU, 0, 0)\n"
          ]
        },
        {
          "output_type": "stream",
          "name": "stdout",
          "text": [
            "INFO:tensorflow:*** Available Device: _DeviceAttributes(/job:worker/replica:0/task:0/device:TPU:2, TPU, 0, 0)\n"
          ]
        },
        {
          "output_type": "stream",
          "name": "stderr",
          "text": [
            "INFO:tensorflow:*** Available Device: _DeviceAttributes(/job:worker/replica:0/task:0/device:TPU:2, TPU, 0, 0)\n"
          ]
        },
        {
          "output_type": "stream",
          "name": "stdout",
          "text": [
            "INFO:tensorflow:*** Available Device: _DeviceAttributes(/job:worker/replica:0/task:0/device:TPU:3, TPU, 0, 0)\n"
          ]
        },
        {
          "output_type": "stream",
          "name": "stderr",
          "text": [
            "INFO:tensorflow:*** Available Device: _DeviceAttributes(/job:worker/replica:0/task:0/device:TPU:3, TPU, 0, 0)\n"
          ]
        },
        {
          "output_type": "stream",
          "name": "stdout",
          "text": [
            "INFO:tensorflow:*** Available Device: _DeviceAttributes(/job:worker/replica:0/task:0/device:TPU:4, TPU, 0, 0)\n"
          ]
        },
        {
          "output_type": "stream",
          "name": "stderr",
          "text": [
            "INFO:tensorflow:*** Available Device: _DeviceAttributes(/job:worker/replica:0/task:0/device:TPU:4, TPU, 0, 0)\n"
          ]
        },
        {
          "output_type": "stream",
          "name": "stdout",
          "text": [
            "INFO:tensorflow:*** Available Device: _DeviceAttributes(/job:worker/replica:0/task:0/device:TPU:5, TPU, 0, 0)\n"
          ]
        },
        {
          "output_type": "stream",
          "name": "stderr",
          "text": [
            "INFO:tensorflow:*** Available Device: _DeviceAttributes(/job:worker/replica:0/task:0/device:TPU:5, TPU, 0, 0)\n"
          ]
        },
        {
          "output_type": "stream",
          "name": "stdout",
          "text": [
            "INFO:tensorflow:*** Available Device: _DeviceAttributes(/job:worker/replica:0/task:0/device:TPU:6, TPU, 0, 0)\n"
          ]
        },
        {
          "output_type": "stream",
          "name": "stderr",
          "text": [
            "INFO:tensorflow:*** Available Device: _DeviceAttributes(/job:worker/replica:0/task:0/device:TPU:6, TPU, 0, 0)\n"
          ]
        },
        {
          "output_type": "stream",
          "name": "stdout",
          "text": [
            "INFO:tensorflow:*** Available Device: _DeviceAttributes(/job:worker/replica:0/task:0/device:TPU:7, TPU, 0, 0)\n"
          ]
        },
        {
          "output_type": "stream",
          "name": "stderr",
          "text": [
            "INFO:tensorflow:*** Available Device: _DeviceAttributes(/job:worker/replica:0/task:0/device:TPU:7, TPU, 0, 0)\n"
          ]
        },
        {
          "output_type": "stream",
          "name": "stdout",
          "text": [
            "INFO:tensorflow:*** Available Device: _DeviceAttributes(/job:worker/replica:0/task:0/device:TPU_SYSTEM:0, TPU_SYSTEM, 0, 0)\n"
          ]
        },
        {
          "output_type": "stream",
          "name": "stderr",
          "text": [
            "INFO:tensorflow:*** Available Device: _DeviceAttributes(/job:worker/replica:0/task:0/device:TPU_SYSTEM:0, TPU_SYSTEM, 0, 0)\n"
          ]
        },
        {
          "output_type": "stream",
          "name": "stdout",
          "text": [
            "INFO:tensorflow:*** Available Device: _DeviceAttributes(/job:worker/replica:0/task:0/device:XLA_CPU:0, XLA_CPU, 0, 0)\n"
          ]
        },
        {
          "output_type": "stream",
          "name": "stderr",
          "text": [
            "INFO:tensorflow:*** Available Device: _DeviceAttributes(/job:worker/replica:0/task:0/device:XLA_CPU:0, XLA_CPU, 0, 0)\n"
          ]
        },
        {
          "output_type": "stream",
          "name": "stdout",
          "text": [
            "./model/output_bert/ 파이프라인 시작\n",
            "class\n",
            "0     3584\n",
            "1     3924\n",
            "2     3916\n",
            "3     4376\n",
            "4    20341\n",
            "Name: Unnamed: 0, dtype: int64\n",
            "   Unnamed: 0  class                                       conversation\n",
            "0           0      0  지금 너 스스로를 죽여달라고 애원하는 것인가? 아닙니다. 죄송합니다. 죽을 거면 혼...\n",
            "1           1      0  길동경찰서입니다. 9시 40분 마트에 폭발물을 설치할거다. 네? 똑바로 들어 한번만...\n",
            "2           2      3  너 되게 귀여운거 알지? 나보다 작은 남자는 첨봤어. 그만해. 니들 놀리는거 재미없...\n",
            "3           3      1  어이 거기 예?? 너 말이야 너. 이리 오라고 무슨 일. 너 옷 좋아보인다? 얘 돈...\n",
            "4           4      1  저기요 혹시 날이 너무 뜨겁잖아요? 저희 회사에서 이 선크림 파는데 한 번 손등에 ...\n",
            "x_train 개수 : 35779\n",
            "y_train 개수 : 35779\n",
            "x_val 개수 : 181\n",
            "y_val 개수 : 181\n",
            "x_test 개수 : 181\n",
            "y_test 개수 : 181\n",
            "훈련 데이터 레이블 비율 확인 : Counter({4: 20137, 3: 4332, 1: 3885, 2: 3877, 0: 3548})\n",
            "검증 데이터 레이블 비율 확인 : Counter({4: 102, 3: 22, 1: 20, 2: 19, 0: 18})\n",
            "테스트 데이터 레이블 비율 확인 : Counter({4: 102, 3: 22, 2: 20, 1: 19, 0: 18})\n"
          ]
        },
        {
          "output_type": "stream",
          "name": "stderr",
          "text": [
            "Special tokens have been added in the vocabulary, make sure the associated word embeddings are fine-tuned or trained.\n",
            "All model checkpoint layers were used when initializing TFBertForSequenceClassification.\n",
            "\n",
            "Some layers of TFBertForSequenceClassification were not initialized from the model checkpoint at ./model/output_bert/ and are newly initialized: ['classifier', 'bert/pooler/dense/bias:0', 'bert/pooler/dense/kernel:0']\n",
            "You should probably TRAIN this model on a down-stream task to be able to use it for predictions and inference.\n"
          ]
        },
        {
          "output_type": "stream",
          "name": "stdout",
          "text": [
            "Epoch 1/4\n",
            "2237/2237 [==============================] - 344s 117ms/step - loss: 0.2435 - accuracy: 0.9159 - val_loss: 0.1523 - val_accuracy: 0.9337 - lr: 5.0000e-05\n",
            "Epoch 2/4\n",
            "2237/2237 [==============================] - 251s 112ms/step - loss: 0.0639 - accuracy: 0.9787 - val_loss: 0.0421 - val_accuracy: 0.9834 - lr: 1.0000e-05\n",
            "Epoch 3/4\n",
            "2237/2237 [==============================] - 246s 110ms/step - loss: 0.0241 - accuracy: 0.9940 - val_loss: 0.0265 - val_accuracy: 0.9890 - lr: 2.0000e-06\n",
            "Epoch 4/4\n",
            "2237/2237 [==============================] - 245s 110ms/step - loss: 0.0161 - accuracy: 0.9957 - val_loss: 0.0264 - val_accuracy: 0.9945 - lr: 4.0000e-07\n",
            "./model/output_bert/ 파이프라인 종료\n",
            "\n"
          ]
        }
      ]
    },
    {
      "cell_type": "code",
      "source": [
        "save_path = \"./model/tapt_summary_model\"\n",
        "pipeline.save_model_tokenizer(save_path)"
      ],
      "metadata": {
        "id": "uEJzZi5bLiF3"
      },
      "id": "uEJzZi5bLiF3",
      "execution_count": null,
      "outputs": []
    },
    {
      "cell_type": "markdown",
      "source": [
        "## 5. Attention을 활용한 XAI 시각화"
      ],
      "metadata": {
        "id": "QrzwbLlJ0peJ"
      },
      "id": "QrzwbLlJ0peJ"
    },
    {
      "cell_type": "code",
      "source": [
        "from transformers_interpret import SequenceClassificationExplainer\n",
        "from transformers import AutoModelForSequenceClassification, AutoTokenizer\n",
        "\n",
        "\n",
        "# 저장했던 Huggingface 모델을 불러옵니다.\n",
        "path = \"./model/tmp/klue-bert-base\"\n",
        "model =  AutoModelForSequenceClassification.from_pretrained(path, from_tf=True) \n",
        "tokenizer = AutoTokenizer.from_pretrained(path)\n",
        "\n",
        "#다중분류 설명자 생성\n",
        "multiclass_explainer = SequenceClassificationExplainer(model = model, \n",
        "                                                       tokenizer = tokenizer)"
      ],
      "metadata": {
        "colab": {
          "base_uri": "https://localhost:8080/"
        },
        "id": "hlCAo4aJ0qN5",
        "outputId": "087259b1-35f9-4265-e312-037d84717e73"
      },
      "id": "hlCAo4aJ0qN5",
      "execution_count": null,
      "outputs": [
        {
          "output_type": "stream",
          "name": "stderr",
          "text": [
            "All TF 2.0 model weights were used when initializing BertForSequenceClassification.\n",
            "\n",
            "All the weights of BertForSequenceClassification were initialized from the TF 2.0 model.\n",
            "If your task is similar to the task the model of the checkpoint was trained on, you can already use BertForSequenceClassification for predictions without further training.\n"
          ]
        }
      ]
    },
    {
      "cell_type": "markdown",
      "source": [
        "transformers_interpret는 불러온 tokenizer를 기반으로 토큰화를 시키고 각 토큰마다 레이블에 끼치는 정도를 수치화하였습니다.\n",
        "- 수치가 높을 수록 해당 토큰은 클래스 선택에 긍정적인 영향을 끼쳣다고 봅니다.\n",
        "- 수치가 낮을 수록 해당 토큰은 클래스 선택에 부정적인 영향을 끼쳣다고 보니다.\n",
        "- 수치가 0에 가까울 수록 해당 토큰은 클래스 선택에 영향을 끼치지 않았다고 봅니다."
      ],
      "metadata": {
        "id": "rlLozE8E5hAf"
      },
      "id": "rlLozE8E5hAf"
    },
    {
      "cell_type": "code",
      "source": [
        "import random\n",
        "\n",
        "i = 3\n",
        "sample = x_test[i]\n",
        "sample_label = y_test[i]\n",
        "print(f\"실제 레이블 : {sample_label}\")\n",
        "\n",
        "word_attributions = multiclass_explainer(sample)\n",
        "html = multiclass_explainer.visualize()"
      ],
      "metadata": {
        "colab": {
          "base_uri": "https://localhost:8080/",
          "height": 253
        },
        "id": "pJrhm0nP20XF",
        "outputId": "4d7da274-9724-4313-d0b0-85e5e708db96"
      },
      "id": "pJrhm0nP20XF",
      "execution_count": null,
      "outputs": [
        {
          "output_type": "stream",
          "name": "stdout",
          "text": [
            "실제 레이블 : 3\n"
          ]
        },
        {
          "output_type": "display_data",
          "data": {
            "text/html": [
              "<table width: 100%><div style=\"border-top: 1px solid; margin-top: 5px;             padding-top: 5px; display: inline-block\"><b>Legend: </b><span style=\"display: inline-block; width: 10px; height: 10px;                 border: 1px solid; background-color:                 hsl(0, 75%, 60%)\"></span> Negative  <span style=\"display: inline-block; width: 10px; height: 10px;                 border: 1px solid; background-color:                 hsl(0, 75%, 100%)\"></span> Neutral  <span style=\"display: inline-block; width: 10px; height: 10px;                 border: 1px solid; background-color:                 hsl(120, 75%, 50%)\"></span> Positive  </div><tr><th>True Label</th><th>Predicted Label</th><th>Attribution Label</th><th>Attribution Score</th><th>Word Importance</th><tr><td><text style=\"padding-right:2em\"><b>1</b></text></td><td><text style=\"padding-right:2em\"><b>LABEL_1 (1.00)</b></text></td><td><text style=\"padding-right:2em\"><b>LABEL_1</b></text></td><td><text style=\"padding-right:2em\"><b>5.11</b></text></td><td><mark style=\"background-color: hsl(0, 75%, 100%); opacity:1.0;                     line-height:1.75\"><font color=\"black\"> [CLS]                    </font></mark><mark style=\"background-color: hsl(120, 75%, 99%); opacity:1.0;                     line-height:1.75\"><font color=\"black\"> 안녕                    </font></mark><mark style=\"background-color: hsl(120, 75%, 100%); opacity:1.0;                     line-height:1.75\"><font color=\"black\"> ##하                    </font></mark><mark style=\"background-color: hsl(120, 75%, 99%); opacity:1.0;                     line-height:1.75\"><font color=\"black\"> ##세요                    </font></mark><mark style=\"background-color: hsl(120, 75%, 98%); opacity:1.0;                     line-height:1.75\"><font color=\"black\"> 상담원                    </font></mark><mark style=\"background-color: hsl(120, 75%, 96%); opacity:1.0;                     line-height:1.75\"><font color=\"black\"> 안보                    </font></mark><mark style=\"background-color: hsl(0, 75%, 100%); opacity:1.0;                     line-height:1.75\"><font color=\"black\"> ##미                    </font></mark><mark style=\"background-color: hsl(120, 75%, 100%); opacity:1.0;                     line-height:1.75\"><font color=\"black\"> ##입니다                    </font></mark><mark style=\"background-color: hsl(120, 75%, 100%); opacity:1.0;                     line-height:1.75\"><font color=\"black\"> .                    </font></mark><mark style=\"background-color: hsl(120, 75%, 100%); opacity:1.0;                     line-height:1.75\"><font color=\"black\"> 무엇                    </font></mark><mark style=\"background-color: hsl(120, 75%, 100%); opacity:1.0;                     line-height:1.75\"><font color=\"black\"> ##을                    </font></mark><mark style=\"background-color: hsl(120, 75%, 98%); opacity:1.0;                     line-height:1.75\"><font color=\"black\"> 도와                    </font></mark><mark style=\"background-color: hsl(120, 75%, 100%); opacity:1.0;                     line-height:1.75\"><font color=\"black\"> ##드                    </font></mark><mark style=\"background-color: hsl(120, 75%, 100%); opacity:1.0;                     line-height:1.75\"><font color=\"black\"> ##릴                    </font></mark><mark style=\"background-color: hsl(120, 75%, 100%); opacity:1.0;                     line-height:1.75\"><font color=\"black\"> ##까요                    </font></mark><mark style=\"background-color: hsl(120, 75%, 100%); opacity:1.0;                     line-height:1.75\"><font color=\"black\"> ?                    </font></mark><mark style=\"background-color: hsl(0, 75%, 100%); opacity:1.0;                     line-height:1.75\"><font color=\"black\"> 제                    </font></mark><mark style=\"background-color: hsl(120, 75%, 99%); opacity:1.0;                     line-height:1.75\"><font color=\"black\"> ##가                    </font></mark><mark style=\"background-color: hsl(120, 75%, 96%); opacity:1.0;                     line-height:1.75\"><font color=\"black\"> 이번                    </font></mark><mark style=\"background-color: hsl(120, 75%, 100%); opacity:1.0;                     line-height:1.75\"><font color=\"black\"> ##에                    </font></mark><mark style=\"background-color: hsl(120, 75%, 100%); opacity:1.0;                     line-height:1.75\"><font color=\"black\"> 테                    </font></mark><mark style=\"background-color: hsl(120, 75%, 100%); opacity:1.0;                     line-height:1.75\"><font color=\"black\"> ##블                    </font></mark><mark style=\"background-color: hsl(120, 75%, 100%); opacity:1.0;                     line-height:1.75\"><font color=\"black\"> ##렛                    </font></mark><mark style=\"background-color: hsl(120, 75%, 100%); opacity:1.0;                     line-height:1.75\"><font color=\"black\"> ##를                    </font></mark><mark style=\"background-color: hsl(120, 75%, 100%); opacity:1.0;                     line-height:1.75\"><font color=\"black\"> 샀                    </font></mark><mark style=\"background-color: hsl(120, 75%, 100%); opacity:1.0;                     line-height:1.75\"><font color=\"black\"> ##는데                    </font></mark><mark style=\"background-color: hsl(0, 75%, 100%); opacity:1.0;                     line-height:1.75\"><font color=\"black\"> .                    </font></mark><mark style=\"background-color: hsl(120, 75%, 99%); opacity:1.0;                     line-height:1.75\"><font color=\"black\"> 너무                    </font></mark><mark style=\"background-color: hsl(0, 75%, 98%); opacity:1.0;                     line-height:1.75\"><font color=\"black\"> 느려                    </font></mark><mark style=\"background-color: hsl(120, 75%, 100%); opacity:1.0;                     line-height:1.75\"><font color=\"black\"> ##서                    </font></mark><mark style=\"background-color: hsl(120, 75%, 91%); opacity:1.0;                     line-height:1.75\"><font color=\"black\"> 환불                    </font></mark><mark style=\"background-color: hsl(120, 75%, 100%); opacity:1.0;                     line-height:1.75\"><font color=\"black\"> ##하                    </font></mark><mark style=\"background-color: hsl(0, 75%, 100%); opacity:1.0;                     line-height:1.75\"><font color=\"black\"> ##려                    </font></mark><mark style=\"background-color: hsl(0, 75%, 99%); opacity:1.0;                     line-height:1.75\"><font color=\"black\"> ##구요                    </font></mark><mark style=\"background-color: hsl(120, 75%, 100%); opacity:1.0;                     line-height:1.75\"><font color=\"black\"> .                    </font></mark><mark style=\"background-color: hsl(0, 75%, 100%); opacity:1.0;                     line-height:1.75\"><font color=\"black\"> 아                    </font></mark><mark style=\"background-color: hsl(120, 75%, 99%); opacity:1.0;                     line-height:1.75\"><font color=\"black\"> 혹시                    </font></mark><mark style=\"background-color: hsl(120, 75%, 100%); opacity:1.0;                     line-height:1.75\"><font color=\"black\"> 테                    </font></mark><mark style=\"background-color: hsl(120, 75%, 99%); opacity:1.0;                     line-height:1.75\"><font color=\"black\"> ##블                    </font></mark><mark style=\"background-color: hsl(120, 75%, 100%); opacity:1.0;                     line-height:1.75\"><font color=\"black\"> ##렛                    </font></mark><mark style=\"background-color: hsl(120, 75%, 100%); opacity:1.0;                     line-height:1.75\"><font color=\"black\"> ##가                    </font></mark><mark style=\"background-color: hsl(120, 75%, 100%); opacity:1.0;                     line-height:1.75\"><font color=\"black\"> 얼마나                    </font></mark><mark style=\"background-color: hsl(0, 75%, 100%); opacity:1.0;                     line-height:1.75\"><font color=\"black\"> 느린                    </font></mark><mark style=\"background-color: hsl(120, 75%, 100%); opacity:1.0;                     line-height:1.75\"><font color=\"black\"> ##지                    </font></mark><mark style=\"background-color: hsl(120, 75%, 100%); opacity:1.0;                     line-height:1.75\"><font color=\"black\"> 알                    </font></mark><mark style=\"background-color: hsl(0, 75%, 100%); opacity:1.0;                     line-height:1.75\"><font color=\"black\"> ##수                    </font></mark><mark style=\"background-color: hsl(120, 75%, 100%); opacity:1.0;                     line-height:1.75\"><font color=\"black\"> 있                    </font></mark><mark style=\"background-color: hsl(0, 75%, 100%); opacity:1.0;                     line-height:1.75\"><font color=\"black\"> ##을까                    </font></mark><mark style=\"background-color: hsl(120, 75%, 100%); opacity:1.0;                     line-height:1.75\"><font color=\"black\"> ##요                    </font></mark><mark style=\"background-color: hsl(120, 75%, 100%); opacity:1.0;                     line-height:1.75\"><font color=\"black\"> ?                    </font></mark><mark style=\"background-color: hsl(120, 75%, 100%); opacity:1.0;                     line-height:1.75\"><font color=\"black\"> 동영상                    </font></mark><mark style=\"background-color: hsl(120, 75%, 98%); opacity:1.0;                     line-height:1.75\"><font color=\"black\"> 한번                    </font></mark><mark style=\"background-color: hsl(0, 75%, 100%); opacity:1.0;                     line-height:1.75\"><font color=\"black\"> 로                    </font></mark><mark style=\"background-color: hsl(0, 75%, 100%); opacity:1.0;                     line-height:1.75\"><font color=\"black\"> ##딩                    </font></mark><mark style=\"background-color: hsl(0, 75%, 100%); opacity:1.0;                     line-height:1.75\"><font color=\"black\"> ##하                    </font></mark><mark style=\"background-color: hsl(0, 75%, 100%); opacity:1.0;                     line-height:1.75\"><font color=\"black\"> ##는데                    </font></mark><mark style=\"background-color: hsl(0, 75%, 100%); opacity:1.0;                     line-height:1.75\"><font color=\"black\"> 510                    </font></mark><mark style=\"background-color: hsl(0, 75%, 100%); opacity:1.0;                     line-height:1.75\"><font color=\"black\"> ##초                    </font></mark><mark style=\"background-color: hsl(0, 75%, 99%); opacity:1.0;                     line-height:1.75\"><font color=\"black\"> ##나                    </font></mark><mark style=\"background-color: hsl(120, 75%, 100%); opacity:1.0;                     line-height:1.75\"><font color=\"black\"> 걸                    </font></mark><mark style=\"background-color: hsl(120, 75%, 100%); opacity:1.0;                     line-height:1.75\"><font color=\"black\"> ##립니다                    </font></mark><mark style=\"background-color: hsl(120, 75%, 100%); opacity:1.0;                     line-height:1.75\"><font color=\"black\"> .                    </font></mark><mark style=\"background-color: hsl(120, 75%, 99%); opacity:1.0;                     line-height:1.75\"><font color=\"black\"> 그러                    </font></mark><mark style=\"background-color: hsl(120, 75%, 100%); opacity:1.0;                     line-height:1.75\"><font color=\"black\"> ##시                    </font></mark><mark style=\"background-color: hsl(0, 75%, 100%); opacity:1.0;                     line-height:1.75\"><font color=\"black\"> ##군                    </font></mark><mark style=\"background-color: hsl(120, 75%, 99%); opacity:1.0;                     line-height:1.75\"><font color=\"black\"> ##요                    </font></mark><mark style=\"background-color: hsl(120, 75%, 100%); opacity:1.0;                     line-height:1.75\"><font color=\"black\"> .                    </font></mark><mark style=\"background-color: hsl(120, 75%, 100%); opacity:1.0;                     line-height:1.75\"><font color=\"black\"> 그런데                    </font></mark><mark style=\"background-color: hsl(120, 75%, 100%); opacity:1.0;                     line-height:1.75\"><font color=\"black\"> 이미                    </font></mark><mark style=\"background-color: hsl(120, 75%, 99%); opacity:1.0;                     line-height:1.75\"><font color=\"black\"> 한번                    </font></mark><mark style=\"background-color: hsl(120, 75%, 98%); opacity:1.0;                     line-height:1.75\"><font color=\"black\"> 개봉                    </font></mark><mark style=\"background-color: hsl(120, 75%, 100%); opacity:1.0;                     line-height:1.75\"><font color=\"black\"> ##한                    </font></mark><mark style=\"background-color: hsl(120, 75%, 97%); opacity:1.0;                     line-height:1.75\"><font color=\"black\"> 제품                    </font></mark><mark style=\"background-color: hsl(120, 75%, 100%); opacity:1.0;                     line-height:1.75\"><font color=\"black\"> ##은                    </font></mark><mark style=\"background-color: hsl(120, 75%, 97%); opacity:1.0;                     line-height:1.75\"><font color=\"black\"> 반품                    </font></mark><mark style=\"background-color: hsl(120, 75%, 100%); opacity:1.0;                     line-height:1.75\"><font color=\"black\"> ##이                    </font></mark><mark style=\"background-color: hsl(120, 75%, 98%); opacity:1.0;                     line-height:1.75\"><font color=\"black\"> 어려우                    </font></mark><mark style=\"background-color: hsl(120, 75%, 100%); opacity:1.0;                     line-height:1.75\"><font color=\"black\"> ##세요                    </font></mark><mark style=\"background-color: hsl(0, 75%, 100%); opacity:1.0;                     line-height:1.75\"><font color=\"black\"> .                    </font></mark><mark style=\"background-color: hsl(120, 75%, 97%); opacity:1.0;                     line-height:1.75\"><font color=\"black\"> 네                    </font></mark><mark style=\"background-color: hsl(0, 75%, 100%); opacity:1.0;                     line-height:1.75\"><font color=\"black\"> !                    </font></mark><mark style=\"background-color: hsl(120, 75%, 99%); opacity:1.0;                     line-height:1.75\"><font color=\"black\"> ?                    </font></mark><mark style=\"background-color: hsl(120, 75%, 100%); opacity:1.0;                     line-height:1.75\"><font color=\"black\"> 그러면                    </font></mark><mark style=\"background-color: hsl(0, 75%, 100%); opacity:1.0;                     line-height:1.75\"><font color=\"black\"> 물건                    </font></mark><mark style=\"background-color: hsl(0, 75%, 100%); opacity:1.0;                     line-height:1.75\"><font color=\"black\"> ##을                    </font></mark><mark style=\"background-color: hsl(0, 75%, 100%); opacity:1.0;                     line-height:1.75\"><font color=\"black\"> 개봉                    </font></mark><mark style=\"background-color: hsl(0, 75%, 100%); opacity:1.0;                     line-height:1.75\"><font color=\"black\"> ##하고                    </font></mark><mark style=\"background-color: hsl(120, 75%, 100%); opacity:1.0;                     line-height:1.75\"><font color=\"black\"> 사용                    </font></mark><mark style=\"background-color: hsl(0, 75%, 100%); opacity:1.0;                     line-height:1.75\"><font color=\"black\"> ##해                    </font></mark><mark style=\"background-color: hsl(120, 75%, 100%); opacity:1.0;                     line-height:1.75\"><font color=\"black\"> ##봐야                    </font></mark><mark style=\"background-color: hsl(120, 75%, 98%); opacity:1.0;                     line-height:1.75\"><font color=\"black\"> 문제                    </font></mark><mark style=\"background-color: hsl(120, 75%, 99%); opacity:1.0;                     line-height:1.75\"><font color=\"black\"> ##가                    </font></mark><mark style=\"background-color: hsl(120, 75%, 100%); opacity:1.0;                     line-height:1.75\"><font color=\"black\"> 있                    </font></mark><mark style=\"background-color: hsl(0, 75%, 100%); opacity:1.0;                     line-height:1.75\"><font color=\"black\"> ##다는                    </font></mark><mark style=\"background-color: hsl(120, 75%, 100%); opacity:1.0;                     line-height:1.75\"><font color=\"black\"> ##걸                    </font></mark><mark style=\"background-color: hsl(120, 75%, 100%); opacity:1.0;                     line-height:1.75\"><font color=\"black\"> 알                    </font></mark><mark style=\"background-color: hsl(120, 75%, 100%); opacity:1.0;                     line-height:1.75\"><font color=\"black\"> ##수                    </font></mark><mark style=\"background-color: hsl(120, 75%, 100%); opacity:1.0;                     line-height:1.75\"><font color=\"black\"> ##있                    </font></mark><mark style=\"background-color: hsl(0, 75%, 100%); opacity:1.0;                     line-height:1.75\"><font color=\"black\"> ##지                    </font></mark><mark style=\"background-color: hsl(0, 75%, 100%); opacity:1.0;                     line-height:1.75\"><font color=\"black\"> .                    </font></mark><mark style=\"background-color: hsl(120, 75%, 99%); opacity:1.0;                     line-height:1.75\"><font color=\"black\"> 어떻게                    </font></mark><mark style=\"background-color: hsl(120, 75%, 99%); opacity:1.0;                     line-height:1.75\"><font color=\"black\"> 아나                    </font></mark><mark style=\"background-color: hsl(0, 75%, 100%); opacity:1.0;                     line-height:1.75\"><font color=\"black\"> ##요                    </font></mark><mark style=\"background-color: hsl(0, 75%, 100%); opacity:1.0;                     line-height:1.75\"><font color=\"black\"> ?                    </font></mark><mark style=\"background-color: hsl(120, 75%, 100%); opacity:1.0;                     line-height:1.75\"><font color=\"black\"> 이미                    </font></mark><mark style=\"background-color: hsl(120, 75%, 99%); opacity:1.0;                     line-height:1.75\"><font color=\"black\"> 물건                    </font></mark><mark style=\"background-color: hsl(120, 75%, 100%); opacity:1.0;                     line-height:1.75\"><font color=\"black\"> ##을                    </font></mark><mark style=\"background-color: hsl(120, 75%, 98%); opacity:1.0;                     line-height:1.75\"><font color=\"black\"> 한번                    </font></mark><mark style=\"background-color: hsl(120, 75%, 98%); opacity:1.0;                     line-height:1.75\"><font color=\"black\"> 개봉                    </font></mark><mark style=\"background-color: hsl(120, 75%, 99%); opacity:1.0;                     line-height:1.75\"><font color=\"black\"> ##하                    </font></mark><mark style=\"background-color: hsl(120, 75%, 99%); opacity:1.0;                     line-height:1.75\"><font color=\"black\"> ##셨                    </font></mark><mark style=\"background-color: hsl(120, 75%, 99%); opacity:1.0;                     line-height:1.75\"><font color=\"black\"> ##기                    </font></mark><mark style=\"background-color: hsl(120, 75%, 97%); opacity:1.0;                     line-height:1.75\"><font color=\"black\"> 때문                    </font></mark><mark style=\"background-color: hsl(120, 75%, 99%); opacity:1.0;                     line-height:1.75\"><font color=\"black\"> ##에                    </font></mark><mark style=\"background-color: hsl(120, 75%, 97%); opacity:1.0;                     line-height:1.75\"><font color=\"black\"> 제품                    </font></mark><mark style=\"background-color: hsl(120, 75%, 94%); opacity:1.0;                     line-height:1.75\"><font color=\"black\"> ##금                    </font></mark><mark style=\"background-color: hsl(120, 75%, 93%); opacity:1.0;                     line-height:1.75\"><font color=\"black\"> ##액                    </font></mark><mark style=\"background-color: hsl(120, 75%, 100%); opacity:1.0;                     line-height:1.75\"><font color=\"black\"> ##의                    </font></mark><mark style=\"background-color: hsl(120, 75%, 93%); opacity:1.0;                     line-height:1.75\"><font color=\"black\"> 80                    </font></mark><mark style=\"background-color: hsl(120, 75%, 80%); opacity:1.0;                     line-height:1.75\"><font color=\"black\"> ##만                    </font></mark><mark style=\"background-color: hsl(120, 75%, 80%); opacity:1.0;                     line-height:1.75\"><font color=\"black\"> 돌려받                    </font></mark><mark style=\"background-color: hsl(120, 75%, 97%); opacity:1.0;                     line-height:1.75\"><font color=\"black\"> ##을                    </font></mark><mark style=\"background-color: hsl(120, 75%, 97%); opacity:1.0;                     line-height:1.75\"><font color=\"black\"> ##수                    </font></mark><mark style=\"background-color: hsl(120, 75%, 99%); opacity:1.0;                     line-height:1.75\"><font color=\"black\"> 있                    </font></mark><mark style=\"background-color: hsl(0, 75%, 100%); opacity:1.0;                     line-height:1.75\"><font color=\"black\"> ##습                    </font></mark><mark style=\"background-color: hsl(0, 75%, 100%); opacity:1.0;                     line-height:1.75\"><font color=\"black\"> ##니다                    </font></mark><mark style=\"background-color: hsl(120, 75%, 100%); opacity:1.0;                     line-height:1.75\"><font color=\"black\"> .                    </font></mark><mark style=\"background-color: hsl(120, 75%, 99%); opacity:1.0;                     line-height:1.75\"><font color=\"black\"> 아니                    </font></mark><mark style=\"background-color: hsl(120, 75%, 100%); opacity:1.0;                     line-height:1.75\"><font color=\"black\"> !                    </font></mark><mark style=\"background-color: hsl(120, 75%, 100%); opacity:1.0;                     line-height:1.75\"><font color=\"black\"> !                    </font></mark><mark style=\"background-color: hsl(0, 75%, 100%); opacity:1.0;                     line-height:1.75\"><font color=\"black\"> 그런                    </font></mark><mark style=\"background-color: hsl(120, 75%, 100%); opacity:1.0;                     line-height:1.75\"><font color=\"black\"> ##게                    </font></mark><mark style=\"background-color: hsl(120, 75%, 98%); opacity:1.0;                     line-height:1.75\"><font color=\"black\"> 어디                    </font></mark><mark style=\"background-color: hsl(0, 75%, 100%); opacity:1.0;                     line-height:1.75\"><font color=\"black\"> ##있                    </font></mark><mark style=\"background-color: hsl(120, 75%, 100%); opacity:1.0;                     line-height:1.75\"><font color=\"black\"> ##습니까                    </font></mark><mark style=\"background-color: hsl(0, 75%, 99%); opacity:1.0;                     line-height:1.75\"><font color=\"black\"> ?                    </font></mark><mark style=\"background-color: hsl(120, 75%, 100%); opacity:1.0;                     line-height:1.75\"><font color=\"black\"> 새                    </font></mark><mark style=\"background-color: hsl(120, 75%, 98%); opacity:1.0;                     line-height:1.75\"><font color=\"black\"> ##재                    </font></mark><mark style=\"background-color: hsl(120, 75%, 99%); opacity:1.0;                     line-height:1.75\"><font color=\"black\"> ##품                    </font></mark><mark style=\"background-color: hsl(120, 75%, 98%); opacity:1.0;                     line-height:1.75\"><font color=\"black\"> ##이                    </font></mark><mark style=\"background-color: hsl(120, 75%, 96%); opacity:1.0;                     line-height:1.75\"><font color=\"black\"> 너무                    </font></mark><mark style=\"background-color: hsl(0, 75%, 94%); opacity:1.0;                     line-height:1.75\"><font color=\"black\"> 느려                    </font></mark><mark style=\"background-color: hsl(120, 75%, 100%); opacity:1.0;                     line-height:1.75\"><font color=\"black\"> ##서                    </font></mark><mark style=\"background-color: hsl(120, 75%, 100%); opacity:1.0;                     line-height:1.75\"><font color=\"black\"> 반품                    </font></mark><mark style=\"background-color: hsl(120, 75%, 100%); opacity:1.0;                     line-height:1.75\"><font color=\"black\"> ##한다                    </font></mark><mark style=\"background-color: hsl(0, 75%, 100%); opacity:1.0;                     line-height:1.75\"><font color=\"black\"> ##는데                    </font></mark><mark style=\"background-color: hsl(0, 75%, 96%); opacity:1.0;                     line-height:1.75\"><font color=\"black\"> .                    </font></mark><mark style=\"background-color: hsl(120, 75%, 97%); opacity:1.0;                     line-height:1.75\"><font color=\"black\"> 100                    </font></mark><mark style=\"background-color: hsl(120, 75%, 99%); opacity:1.0;                     line-height:1.75\"><font color=\"black\"> ##환                    </font></mark><mark style=\"background-color: hsl(120, 75%, 100%); opacity:1.0;                     line-height:1.75\"><font color=\"black\"> ##불                    </font></mark><mark style=\"background-color: hsl(0, 75%, 99%); opacity:1.0;                     line-height:1.75\"><font color=\"black\"> ##해                    </font></mark><mark style=\"background-color: hsl(120, 75%, 100%); opacity:1.0;                     line-height:1.75\"><font color=\"black\"> ##주                    </font></mark><mark style=\"background-color: hsl(120, 75%, 100%); opacity:1.0;                     line-height:1.75\"><font color=\"black\"> ##세요                    </font></mark><mark style=\"background-color: hsl(120, 75%, 99%); opacity:1.0;                     line-height:1.75\"><font color=\"black\"> .                    </font></mark><mark style=\"background-color: hsl(120, 75%, 82%); opacity:1.0;                     line-height:1.75\"><font color=\"black\"> 환불                    </font></mark><mark style=\"background-color: hsl(120, 75%, 95%); opacity:1.0;                     line-height:1.75\"><font color=\"black\"> 안                    </font></mark><mark style=\"background-color: hsl(120, 75%, 100%); opacity:1.0;                     line-height:1.75\"><font color=\"black\"> ##해                    </font></mark><mark style=\"background-color: hsl(0, 75%, 100%); opacity:1.0;                     line-height:1.75\"><font color=\"black\"> ##주                    </font></mark><mark style=\"background-color: hsl(120, 75%, 97%); opacity:1.0;                     line-height:1.75\"><font color=\"black\"> ##시                    </font></mark><mark style=\"background-color: hsl(120, 75%, 96%); opacity:1.0;                     line-height:1.75\"><font color=\"black\"> ##면                    </font></mark><mark style=\"background-color: hsl(120, 75%, 95%); opacity:1.0;                     line-height:1.75\"><font color=\"black\"> 올려서                    </font></mark><mark style=\"background-color: hsl(120, 75%, 86%); opacity:1.0;                     line-height:1.75\"><font color=\"black\"> 테러                    </font></mark><mark style=\"background-color: hsl(120, 75%, 93%); opacity:1.0;                     line-height:1.75\"><font color=\"black\"> ##해                    </font></mark><mark style=\"background-color: hsl(120, 75%, 96%); opacity:1.0;                     line-height:1.75\"><font color=\"black\"> ##버릴                    </font></mark><mark style=\"background-color: hsl(0, 75%, 97%); opacity:1.0;                     line-height:1.75\"><font color=\"black\"> ##테                    </font></mark><mark style=\"background-color: hsl(0, 75%, 100%); opacity:1.0;                     line-height:1.75\"><font color=\"black\"> ##니                    </font></mark><mark style=\"background-color: hsl(120, 75%, 99%); opacity:1.0;                     line-height:1.75\"><font color=\"black\"> ##깐                    </font></mark><mark style=\"background-color: hsl(120, 75%, 99%); opacity:1.0;                     line-height:1.75\"><font color=\"black\"> .                    </font></mark><mark style=\"background-color: hsl(120, 75%, 100%); opacity:1.0;                     line-height:1.75\"><font color=\"black\"> 일단                    </font></mark><mark style=\"background-color: hsl(120, 75%, 100%); opacity:1.0;                     line-height:1.75\"><font color=\"black\"> ##은                    </font></mark><mark style=\"background-color: hsl(120, 75%, 98%); opacity:1.0;                     line-height:1.75\"><font color=\"black\"> 물건                    </font></mark><mark style=\"background-color: hsl(120, 75%, 100%); opacity:1.0;                     line-height:1.75\"><font color=\"black\"> 먼저                    </font></mark><mark style=\"background-color: hsl(0, 75%, 100%); opacity:1.0;                     line-height:1.75\"><font color=\"black\"> 보내                    </font></mark><mark style=\"background-color: hsl(120, 75%, 100%); opacity:1.0;                     line-height:1.75\"><font color=\"black\"> ##주                    </font></mark><mark style=\"background-color: hsl(120, 75%, 98%); opacity:1.0;                     line-height:1.75\"><font color=\"black\"> ##세요                    </font></mark><mark style=\"background-color: hsl(120, 75%, 89%); opacity:1.0;                     line-height:1.75\"><font color=\"black\"> 환불                    </font></mark><mark style=\"background-color: hsl(120, 75%, 99%); opacity:1.0;                     line-height:1.75\"><font color=\"black\"> ##해                    </font></mark><mark style=\"background-color: hsl(0, 75%, 99%); opacity:1.0;                     line-height:1.75\"><font color=\"black\"> ##주                    </font></mark><mark style=\"background-color: hsl(120, 75%, 95%); opacity:1.0;                     line-height:1.75\"><font color=\"black\"> ##겠다                    </font></mark><mark style=\"background-color: hsl(120, 75%, 97%); opacity:1.0;                     line-height:1.75\"><font color=\"black\"> ##고                    </font></mark><mark style=\"background-color: hsl(0, 75%, 100%); opacity:1.0;                     line-height:1.75\"><font color=\"black\"> 먼저                    </font></mark><mark style=\"background-color: hsl(120, 75%, 99%); opacity:1.0;                     line-height:1.75\"><font color=\"black\"> 약속                    </font></mark><mark style=\"background-color: hsl(120, 75%, 100%); opacity:1.0;                     line-height:1.75\"><font color=\"black\"> ##하                    </font></mark><mark style=\"background-color: hsl(120, 75%, 97%); opacity:1.0;                     line-height:1.75\"><font color=\"black\"> ##세요                    </font></mark><mark style=\"background-color: hsl(120, 75%, 98%); opacity:1.0;                     line-height:1.75\"><font color=\"black\"> .                    </font></mark><mark style=\"background-color: hsl(0, 75%, 99%); opacity:1.0;                     line-height:1.75\"><font color=\"black\"> 그러면                    </font></mark><mark style=\"background-color: hsl(120, 75%, 99%); opacity:1.0;                     line-height:1.75\"><font color=\"black\"> 보낼                    </font></mark><mark style=\"background-color: hsl(0, 75%, 100%); opacity:1.0;                     line-height:1.75\"><font color=\"black\"> ##테                    </font></mark><mark style=\"background-color: hsl(120, 75%, 100%); opacity:1.0;                     line-height:1.75\"><font color=\"black\"> ##니                    </font></mark><mark style=\"background-color: hsl(0, 75%, 99%); opacity:1.0;                     line-height:1.75\"><font color=\"black\"> ##깐                    </font></mark><mark style=\"background-color: hsl(0, 75%, 100%); opacity:1.0;                     line-height:1.75\"><font color=\"black\"> .                    </font></mark><mark style=\"background-color: hsl(0, 75%, 100%); opacity:1.0;                     line-height:1.75\"><font color=\"black\"> [SEP]                    </font></mark></td><tr></table>"
            ],
            "text/plain": [
              "<IPython.core.display.HTML object>"
            ]
          },
          "metadata": {}
        }
      ]
    },
    {
      "cell_type": "code",
      "source": [
        "i = 29\n",
        "sample = x_test[i]\n",
        "sample_label = y_test[i]\n",
        "print(f\"실제 레이블 : {sample_label}\")\n",
        "\n",
        "word_attributions = multiclass_explainer(sample)\n",
        "html = multiclass_explainer.visualize()"
      ],
      "metadata": {
        "colab": {
          "base_uri": "https://localhost:8080/",
          "height": 180
        },
        "id": "gfAO3BoM3Ubl",
        "outputId": "bb409207-22b4-41a5-9cb3-957cb17bcc6c"
      },
      "id": "gfAO3BoM3Ubl",
      "execution_count": null,
      "outputs": [
        {
          "output_type": "stream",
          "name": "stdout",
          "text": [
            "실제 레이블 : 1\n"
          ]
        },
        {
          "output_type": "display_data",
          "data": {
            "text/html": [
              "<table width: 100%><div style=\"border-top: 1px solid; margin-top: 5px;             padding-top: 5px; display: inline-block\"><b>Legend: </b><span style=\"display: inline-block; width: 10px; height: 10px;                 border: 1px solid; background-color:                 hsl(0, 75%, 60%)\"></span> Negative  <span style=\"display: inline-block; width: 10px; height: 10px;                 border: 1px solid; background-color:                 hsl(0, 75%, 100%)\"></span> Neutral  <span style=\"display: inline-block; width: 10px; height: 10px;                 border: 1px solid; background-color:                 hsl(120, 75%, 50%)\"></span> Positive  </div><tr><th>True Label</th><th>Predicted Label</th><th>Attribution Label</th><th>Attribution Score</th><th>Word Importance</th><tr><td><text style=\"padding-right:2em\"><b>1</b></text></td><td><text style=\"padding-right:2em\"><b>LABEL_1 (1.00)</b></text></td><td><text style=\"padding-right:2em\"><b>LABEL_1</b></text></td><td><text style=\"padding-right:2em\"><b>5.36</b></text></td><td><mark style=\"background-color: hsl(0, 75%, 100%); opacity:1.0;                     line-height:1.75\"><font color=\"black\"> [CLS]                    </font></mark><mark style=\"background-color: hsl(120, 75%, 89%); opacity:1.0;                     line-height:1.75\"><font color=\"black\"> 니                    </font></mark><mark style=\"background-color: hsl(120, 75%, 92%); opacity:1.0;                     line-height:1.75\"><font color=\"black\"> ##꺼                    </font></mark><mark style=\"background-color: hsl(120, 75%, 95%); opacity:1.0;                     line-height:1.75\"><font color=\"black\"> 가방                    </font></mark><mark style=\"background-color: hsl(120, 75%, 96%); opacity:1.0;                     line-height:1.75\"><font color=\"black\"> 좋아                    </font></mark><mark style=\"background-color: hsl(120, 75%, 96%); opacity:1.0;                     line-height:1.75\"><font color=\"black\"> ##보이                    </font></mark><mark style=\"background-color: hsl(120, 75%, 99%); opacity:1.0;                     line-height:1.75\"><font color=\"black\"> ##는데                    </font></mark><mark style=\"background-color: hsl(120, 75%, 95%); opacity:1.0;                     line-height:1.75\"><font color=\"black\"> 나주                    </font></mark><mark style=\"background-color: hsl(120, 75%, 99%); opacity:1.0;                     line-height:1.75\"><font color=\"black\"> ##라                    </font></mark><mark style=\"background-color: hsl(120, 75%, 94%); opacity:1.0;                     line-height:1.75\"><font color=\"black\"> 안                    </font></mark><mark style=\"background-color: hsl(120, 75%, 98%); opacity:1.0;                     line-height:1.75\"><font color=\"black\"> ##되                    </font></mark><mark style=\"background-color: hsl(120, 75%, 97%); opacity:1.0;                     line-height:1.75\"><font color=\"black\"> 그럼                    </font></mark><mark style=\"background-color: hsl(120, 75%, 91%); opacity:1.0;                     line-height:1.75\"><font color=\"black\"> 며칠                    </font></mark><mark style=\"background-color: hsl(120, 75%, 89%); opacity:1.0;                     line-height:1.75\"><font color=\"black\"> ##만                    </font></mark><mark style=\"background-color: hsl(120, 75%, 74%); opacity:1.0;                     line-height:1.75\"><font color=\"black\"> 빌려                    </font></mark><mark style=\"background-color: hsl(120, 75%, 81%); opacity:1.0;                     line-height:1.75\"><font color=\"black\"> ##줘                    </font></mark><mark style=\"background-color: hsl(120, 75%, 94%); opacity:1.0;                     line-height:1.75\"><font color=\"black\"> ##봐                    </font></mark><mark style=\"background-color: hsl(120, 75%, 91%); opacity:1.0;                     line-height:1.75\"><font color=\"black\"> 싫                    </font></mark><mark style=\"background-color: hsl(120, 75%, 97%); opacity:1.0;                     line-height:1.75\"><font color=\"black\"> ##다고                    </font></mark><mark style=\"background-color: hsl(120, 75%, 99%); opacity:1.0;                     line-height:1.75\"><font color=\"black\"> 나                    </font></mark><mark style=\"background-color: hsl(120, 75%, 100%); opacity:1.0;                     line-height:1.75\"><font color=\"black\"> ##도                    </font></mark><mark style=\"background-color: hsl(120, 75%, 95%); opacity:1.0;                     line-height:1.75\"><font color=\"black\"> 아끼                    </font></mark><mark style=\"background-color: hsl(0, 75%, 100%); opacity:1.0;                     line-height:1.75\"><font color=\"black\"> ##는                    </font></mark><mark style=\"background-color: hsl(120, 75%, 99%); opacity:1.0;                     line-height:1.75\"><font color=\"black\"> ##거                    </font></mark><mark style=\"background-color: hsl(120, 75%, 95%); opacity:1.0;                     line-height:1.75\"><font color=\"black\"> ##야                    </font></mark><mark style=\"background-color: hsl(120, 75%, 99%); opacity:1.0;                     line-height:1.75\"><font color=\"black\"> 내                    </font></mark><mark style=\"background-color: hsl(120, 75%, 98%); opacity:1.0;                     line-height:1.75\"><font color=\"black\"> ##꺼                    </font></mark><mark style=\"background-color: hsl(120, 75%, 99%); opacity:1.0;                     line-height:1.75\"><font color=\"black\"> ##랑                    </font></mark><mark style=\"background-color: hsl(120, 75%, 97%); opacity:1.0;                     line-height:1.75\"><font color=\"black\"> 교환                    </font></mark><mark style=\"background-color: hsl(0, 75%, 100%); opacity:1.0;                     line-height:1.75\"><font color=\"black\"> ##해서                    </font></mark><mark style=\"background-color: hsl(120, 75%, 98%); opacity:1.0;                     line-height:1.75\"><font color=\"black\"> 쓰                    </font></mark><mark style=\"background-color: hsl(120, 75%, 99%); opacity:1.0;                     line-height:1.75\"><font color=\"black\"> ##자                    </font></mark><mark style=\"background-color: hsl(120, 75%, 96%); opacity:1.0;                     line-height:1.75\"><font color=\"black\"> 그럼                    </font></mark><mark style=\"background-color: hsl(120, 75%, 98%); opacity:1.0;                     line-height:1.75\"><font color=\"black\"> 마음                    </font></mark><mark style=\"background-color: hsl(120, 75%, 100%); opacity:1.0;                     line-height:1.75\"><font color=\"black\"> ##에                    </font></mark><mark style=\"background-color: hsl(120, 75%, 99%); opacity:1.0;                     line-height:1.75\"><font color=\"black\"> 들                    </font></mark><mark style=\"background-color: hsl(120, 75%, 99%); opacity:1.0;                     line-height:1.75\"><font color=\"black\"> ##면                    </font></mark><mark style=\"background-color: hsl(120, 75%, 94%); opacity:1.0;                     line-height:1.75\"><font color=\"black\"> 니                    </font></mark><mark style=\"background-color: hsl(120, 75%, 100%); opacity:1.0;                     line-height:1.75\"><font color=\"black\"> ##가                    </font></mark><mark style=\"background-color: hsl(120, 75%, 100%); opacity:1.0;                     line-height:1.75\"><font color=\"black\"> 사서                    </font></mark><mark style=\"background-color: hsl(120, 75%, 98%); opacity:1.0;                     line-height:1.75\"><font color=\"black\"> 써                    </font></mark><mark style=\"background-color: hsl(120, 75%, 87%); opacity:1.0;                     line-height:1.75\"><font color=\"black\"> 돈                    </font></mark><mark style=\"background-color: hsl(0, 75%, 100%); opacity:1.0;                     line-height:1.75\"><font color=\"black\"> ##이                    </font></mark><mark style=\"background-color: hsl(0, 75%, 99%); opacity:1.0;                     line-height:1.75\"><font color=\"black\"> 없                    </font></mark><mark style=\"background-color: hsl(120, 75%, 100%); opacity:1.0;                     line-height:1.75\"><font color=\"black\"> ##어                    </font></mark><mark style=\"background-color: hsl(120, 75%, 100%); opacity:1.0;                     line-height:1.75\"><font color=\"black\"> ##서                    </font></mark><mark style=\"background-color: hsl(120, 75%, 99%); opacity:1.0;                     line-height:1.75\"><font color=\"black\"> 그렇                    </font></mark><mark style=\"background-color: hsl(120, 75%, 99%); opacity:1.0;                     line-height:1.75\"><font color=\"black\"> ##지                    </font></mark><mark style=\"background-color: hsl(120, 75%, 98%); opacity:1.0;                     line-height:1.75\"><font color=\"black\"> 있                    </font></mark><mark style=\"background-color: hsl(0, 75%, 100%); opacity:1.0;                     line-height:1.75\"><font color=\"black\"> ##는                    </font></mark><mark style=\"background-color: hsl(120, 75%, 100%); opacity:1.0;                     line-height:1.75\"><font color=\"black\"> ##거나                    </font></mark><mark style=\"background-color: hsl(120, 75%, 97%); opacity:1.0;                     line-height:1.75\"><font color=\"black\"> 써야                    </font></mark><mark style=\"background-color: hsl(120, 75%, 100%); opacity:1.0;                     line-height:1.75\"><font color=\"black\"> ##지                    </font></mark><mark style=\"background-color: hsl(120, 75%, 100%); opacity:1.0;                     line-height:1.75\"><font color=\"black\"> 안                    </font></mark><mark style=\"background-color: hsl(120, 75%, 97%); opacity:1.0;                     line-height:1.75\"><font color=\"black\"> ##준다                    </font></mark><mark style=\"background-color: hsl(0, 75%, 100%); opacity:1.0;                     line-height:1.75\"><font color=\"black\"> ##는                    </font></mark><mark style=\"background-color: hsl(120, 75%, 100%); opacity:1.0;                     line-height:1.75\"><font color=\"black\"> ##거                    </font></mark><mark style=\"background-color: hsl(120, 75%, 96%); opacity:1.0;                     line-height:1.75\"><font color=\"black\"> ##냐                    </font></mark><mark style=\"background-color: hsl(120, 75%, 96%); opacity:1.0;                     line-height:1.75\"><font color=\"black\"> ?                    </font></mark><mark style=\"background-color: hsl(120, 75%, 98%); opacity:1.0;                     line-height:1.75\"><font color=\"black\"> 응                    </font></mark><mark style=\"background-color: hsl(120, 75%, 94%); opacity:1.0;                     line-height:1.75\"><font color=\"black\"> 안                    </font></mark><mark style=\"background-color: hsl(120, 75%, 100%); opacity:1.0;                     line-height:1.75\"><font color=\"black\"> ##될                    </font></mark><mark style=\"background-color: hsl(120, 75%, 97%); opacity:1.0;                     line-height:1.75\"><font color=\"black\"> ##꺼                    </font></mark><mark style=\"background-color: hsl(120, 75%, 100%); opacity:1.0;                     line-height:1.75\"><font color=\"black\"> ##같                    </font></mark><mark style=\"background-color: hsl(120, 75%, 100%); opacity:1.0;                     line-height:1.75\"><font color=\"black\"> ##아                    </font></mark><mark style=\"background-color: hsl(120, 75%, 100%); opacity:1.0;                     line-height:1.75\"><font color=\"black\"> 내                    </font></mark><mark style=\"background-color: hsl(120, 75%, 98%); opacity:1.0;                     line-height:1.75\"><font color=\"black\"> ##말                    </font></mark><mark style=\"background-color: hsl(120, 75%, 99%); opacity:1.0;                     line-height:1.75\"><font color=\"black\"> ##도                    </font></mark><mark style=\"background-color: hsl(120, 75%, 94%); opacity:1.0;                     line-height:1.75\"><font color=\"black\"> 안                    </font></mark><mark style=\"background-color: hsl(120, 75%, 93%); opacity:1.0;                     line-height:1.75\"><font color=\"black\"> ##듣                    </font></mark><mark style=\"background-color: hsl(120, 75%, 99%); opacity:1.0;                     line-height:1.75\"><font color=\"black\"> ##고                    </font></mark><mark style=\"background-color: hsl(120, 75%, 94%); opacity:1.0;                     line-height:1.75\"><font color=\"black\"> 각오                    </font></mark><mark style=\"background-color: hsl(120, 75%, 99%); opacity:1.0;                     line-height:1.75\"><font color=\"black\"> ##해                    </font></mark><mark style=\"background-color: hsl(120, 75%, 98%); opacity:1.0;                     line-height:1.75\"><font color=\"black\"> ##라                    </font></mark><mark style=\"background-color: hsl(0, 75%, 100%); opacity:1.0;                     line-height:1.75\"><font color=\"black\"> [SEP]                    </font></mark></td><tr></table>"
            ],
            "text/plain": [
              "<IPython.core.display.HTML object>"
            ]
          },
          "metadata": {}
        }
      ]
    },
    {
      "cell_type": "markdown",
      "source": [
        "## 6. 리더보드용 데이터 test.json 예측"
      ],
      "metadata": {
        "id": "cP_t_QBT0B5l"
      },
      "id": "cP_t_QBT0B5l"
    },
    {
      "cell_type": "markdown",
      "source": [
        "리더보드용 데이터인 test.json 파일을 불러와서 앞서 훈련 데이터에서 적용된 전처리를 동일하게 해줍니다."
      ],
      "metadata": {
        "id": "ZFk8Gi9I-QG2"
      },
      "id": "ZFk8Gi9I-QG2"
    },
    {
      "cell_type": "code",
      "source": [
        "import json\n",
        "\n",
        "\n",
        "test_path = \"/content/drive/MyDrive/TUNiB준비반/AIFFEL_3rd_hackerton_TUNiB_DKTC/data/TUNiB/test.json\"\n",
        "with open(test_path, \"r\", encoding = \"utf-8\") as st_json:\n",
        "    test = json.load(st_json)\n",
        "print(f\"테스트 데이터 개수 : {len(test)}\")    "
      ],
      "metadata": {
        "id": "otOol1-V2Uit",
        "colab": {
          "base_uri": "https://localhost:8080/"
        },
        "outputId": "12dbeb81-4988-4644-a734-218fa6efaa89"
      },
      "id": "otOol1-V2Uit",
      "execution_count": null,
      "outputs": [
        {
          "output_type": "stream",
          "name": "stdout",
          "text": [
            "테스트 데이터 개수 : 500\n"
          ]
        }
      ]
    },
    {
      "cell_type": "code",
      "source": [
        "import re\n",
        "import pandas as pd\n",
        "from copy import deepcopy\n",
        "\n",
        "\n",
        "def remove_punctuation(x):\n",
        "  x = re.sub(\"[^ㄱ-ㅎ가-힣0-9]+\", \" \", x)\n",
        "  x = re.sub(\"[ ]+\", \" \", x)\n",
        "  x = x.strip()\n",
        "  return x\n",
        "\n",
        "test_set = pd.DataFrame()\n",
        "test_set[\"text\"] = pd.read_json(test_path).T[\"text\"]\n",
        "test_set.head()"
      ],
      "metadata": {
        "id": "nuYOIp31_Sl8",
        "colab": {
          "base_uri": "https://localhost:8080/",
          "height": 206
        },
        "outputId": "fec2b415-c85c-465e-acac-9d050d335aa6"
      },
      "id": "nuYOIp31_Sl8",
      "execution_count": null,
      "outputs": [
        {
          "output_type": "execute_result",
          "data": {
            "text/html": [
              "\n",
              "  <div id=\"df-1db9754f-6dd7-4c91-8aa4-66eca7af5dcf\">\n",
              "    <div class=\"colab-df-container\">\n",
              "      <div>\n",
              "<style scoped>\n",
              "    .dataframe tbody tr th:only-of-type {\n",
              "        vertical-align: middle;\n",
              "    }\n",
              "\n",
              "    .dataframe tbody tr th {\n",
              "        vertical-align: top;\n",
              "    }\n",
              "\n",
              "    .dataframe thead th {\n",
              "        text-align: right;\n",
              "    }\n",
              "</style>\n",
              "<table border=\"1\" class=\"dataframe\">\n",
              "  <thead>\n",
              "    <tr style=\"text-align: right;\">\n",
              "      <th></th>\n",
              "      <th>text</th>\n",
              "    </tr>\n",
              "  </thead>\n",
              "  <tbody>\n",
              "    <tr>\n",
              "      <th>t_000</th>\n",
              "      <td>아가씨 담배한갑주소 네 4500원입니다 어 네 지갑어디갔지 에이 버스에서 잃어버렸나...</td>\n",
              "    </tr>\n",
              "    <tr>\n",
              "      <th>t_001</th>\n",
              "      <td>우리팀에서 다른팀으로 갈 사람 없나? 그럼 영지씨가 가는건 어때?  네? 제가요? ...</td>\n",
              "    </tr>\n",
              "    <tr>\n",
              "      <th>t_002</th>\n",
              "      <td>너 오늘 그게 뭐야 네 제가 뭘 잘못했나요.? 제대로 좀 하지 네 똑바로 좀 하지 ...</td>\n",
              "    </tr>\n",
              "    <tr>\n",
              "      <th>t_003</th>\n",
              "      <td>이거 들어바 와 이 노래 진짜 좋다 그치 요즘 이 것만 들어 진짜 너무 좋다 내가 ...</td>\n",
              "    </tr>\n",
              "    <tr>\n",
              "      <th>t_004</th>\n",
              "      <td>아무튼 앞으로 니가 내 와이파이야. .응 와이파이 온. 켰어. 반말? 주인님이라고도...</td>\n",
              "    </tr>\n",
              "  </tbody>\n",
              "</table>\n",
              "</div>\n",
              "      <button class=\"colab-df-convert\" onclick=\"convertToInteractive('df-1db9754f-6dd7-4c91-8aa4-66eca7af5dcf')\"\n",
              "              title=\"Convert this dataframe to an interactive table.\"\n",
              "              style=\"display:none;\">\n",
              "        \n",
              "  <svg xmlns=\"http://www.w3.org/2000/svg\" height=\"24px\"viewBox=\"0 0 24 24\"\n",
              "       width=\"24px\">\n",
              "    <path d=\"M0 0h24v24H0V0z\" fill=\"none\"/>\n",
              "    <path d=\"M18.56 5.44l.94 2.06.94-2.06 2.06-.94-2.06-.94-.94-2.06-.94 2.06-2.06.94zm-11 1L8.5 8.5l.94-2.06 2.06-.94-2.06-.94L8.5 2.5l-.94 2.06-2.06.94zm10 10l.94 2.06.94-2.06 2.06-.94-2.06-.94-.94-2.06-.94 2.06-2.06.94z\"/><path d=\"M17.41 7.96l-1.37-1.37c-.4-.4-.92-.59-1.43-.59-.52 0-1.04.2-1.43.59L10.3 9.45l-7.72 7.72c-.78.78-.78 2.05 0 2.83L4 21.41c.39.39.9.59 1.41.59.51 0 1.02-.2 1.41-.59l7.78-7.78 2.81-2.81c.8-.78.8-2.07 0-2.86zM5.41 20L4 18.59l7.72-7.72 1.47 1.35L5.41 20z\"/>\n",
              "  </svg>\n",
              "      </button>\n",
              "      \n",
              "  <style>\n",
              "    .colab-df-container {\n",
              "      display:flex;\n",
              "      flex-wrap:wrap;\n",
              "      gap: 12px;\n",
              "    }\n",
              "\n",
              "    .colab-df-convert {\n",
              "      background-color: #E8F0FE;\n",
              "      border: none;\n",
              "      border-radius: 50%;\n",
              "      cursor: pointer;\n",
              "      display: none;\n",
              "      fill: #1967D2;\n",
              "      height: 32px;\n",
              "      padding: 0 0 0 0;\n",
              "      width: 32px;\n",
              "    }\n",
              "\n",
              "    .colab-df-convert:hover {\n",
              "      background-color: #E2EBFA;\n",
              "      box-shadow: 0px 1px 2px rgba(60, 64, 67, 0.3), 0px 1px 3px 1px rgba(60, 64, 67, 0.15);\n",
              "      fill: #174EA6;\n",
              "    }\n",
              "\n",
              "    [theme=dark] .colab-df-convert {\n",
              "      background-color: #3B4455;\n",
              "      fill: #D2E3FC;\n",
              "    }\n",
              "\n",
              "    [theme=dark] .colab-df-convert:hover {\n",
              "      background-color: #434B5C;\n",
              "      box-shadow: 0px 1px 3px 1px rgba(0, 0, 0, 0.15);\n",
              "      filter: drop-shadow(0px 1px 2px rgba(0, 0, 0, 0.3));\n",
              "      fill: #FFFFFF;\n",
              "    }\n",
              "  </style>\n",
              "\n",
              "      <script>\n",
              "        const buttonEl =\n",
              "          document.querySelector('#df-1db9754f-6dd7-4c91-8aa4-66eca7af5dcf button.colab-df-convert');\n",
              "        buttonEl.style.display =\n",
              "          google.colab.kernel.accessAllowed ? 'block' : 'none';\n",
              "\n",
              "        async function convertToInteractive(key) {\n",
              "          const element = document.querySelector('#df-1db9754f-6dd7-4c91-8aa4-66eca7af5dcf');\n",
              "          const dataTable =\n",
              "            await google.colab.kernel.invokeFunction('convertToInteractive',\n",
              "                                                     [key], {});\n",
              "          if (!dataTable) return;\n",
              "\n",
              "          const docLinkHtml = 'Like what you see? Visit the ' +\n",
              "            '<a target=\"_blank\" href=https://colab.research.google.com/notebooks/data_table.ipynb>data table notebook</a>'\n",
              "            + ' to learn more about interactive tables.';\n",
              "          element.innerHTML = '';\n",
              "          dataTable['output_type'] = 'display_data';\n",
              "          await google.colab.output.renderOutput(dataTable, element);\n",
              "          const docLink = document.createElement('div');\n",
              "          docLink.innerHTML = docLinkHtml;\n",
              "          element.appendChild(docLink);\n",
              "        }\n",
              "      </script>\n",
              "    </div>\n",
              "  </div>\n",
              "  "
            ],
            "text/plain": [
              "                                                    text\n",
              "t_000  아가씨 담배한갑주소 네 4500원입니다 어 네 지갑어디갔지 에이 버스에서 잃어버렸나...\n",
              "t_001  우리팀에서 다른팀으로 갈 사람 없나? 그럼 영지씨가 가는건 어때?  네? 제가요? ...\n",
              "t_002  너 오늘 그게 뭐야 네 제가 뭘 잘못했나요.? 제대로 좀 하지 네 똑바로 좀 하지 ...\n",
              "t_003  이거 들어바 와 이 노래 진짜 좋다 그치 요즘 이 것만 들어 진짜 너무 좋다 내가 ...\n",
              "t_004  아무튼 앞으로 니가 내 와이파이야. .응 와이파이 온. 켰어. 반말? 주인님이라고도..."
            ]
          },
          "metadata": {},
          "execution_count": 50
        }
      ]
    },
    {
      "cell_type": "markdown",
      "source": [
        "전처리가 완료된 test.json의 데이터를 훈련 데이터로 학습되어진 분류모델로 레이블을 예측시켜줍니다.\n",
        "1. BERT 모델로 예측하는 경우"
      ],
      "metadata": {
        "id": "7WyFSmsc-Zhj"
      },
      "id": "7WyFSmsc-Zhj"
    },
    {
      "cell_type": "code",
      "source": [
        "from glob import glob\n",
        "from copy import deepcopy\n",
        "from collections import Counter\n",
        "from transformers import AutoTokenizer, TFAutoModelForSequenceClassification\n",
        "from transformers import TextClassificationPipeline\n",
        "\n",
        "\n",
        "# model_path = \"./model/tapt_model/.-model-output_bert-\"\n",
        "# print(f\"{model_path} 추론...\")\n",
        "# loaded_tokenizer = AutoTokenizer.from_pretrained(model_path)\n",
        "# loaded_model = TFAutoModelForSequenceClassification.from_pretrained(model_path)\n",
        "\n",
        "# BERT\n",
        "text_classifier = TextClassificationPipeline(\n",
        "    tokenizer=pipeline.tokenizer, \n",
        "    model=pipeline.model, \n",
        "    framework='tf',\n",
        "    return_all_scores=True\n",
        ")\n",
        "\n",
        "tqdm.pandas()\n",
        "tmp = test_set[\"text\"].progress_apply(lambda x : text_classifier(x))\n",
        "tmp = tmp.apply(lambda x : x[0])\n",
        "tmp = tmp.apply(lambda y : list(map(lambda x : x[\"score\"], y)))\n",
        "test_set[\"class\"] = tmp\n",
        "test_set[\"label_class\"] = test_set[\"class\"].apply(lambda x : np.argmax(x))\n",
        "labels = pd.DataFrame(tmp.tolist()).add_prefix(\"label_\")\n",
        "labels.index = test_set.index\n",
        "test_set = pd.concat([test_set, labels], axis = 1)\n",
        "Counter(test_set[\"label_class\"])"
      ],
      "metadata": {
        "id": "0BBnzS4K5eXA",
        "colab": {
          "base_uri": "https://localhost:8080/"
        },
        "outputId": "930525c5-6b9c-4ce8-a55c-444fded7f1fc"
      },
      "id": "0BBnzS4K5eXA",
      "execution_count": null,
      "outputs": [
        {
          "output_type": "stream",
          "name": "stderr",
          "text": [
            "100%|██████████| 500/500 [07:23<00:00,  1.13it/s]\n"
          ]
        },
        {
          "output_type": "execute_result",
          "data": {
            "text/plain": [
              "Counter({0: 103, 1: 107, 2: 109, 3: 109, 4: 72})"
            ]
          },
          "metadata": {},
          "execution_count": 51
        }
      ]
    },
    {
      "cell_type": "markdown",
      "source": [
        "2. GPT 모델로 예측하는 경우"
      ],
      "metadata": {
        "id": "gD8uT79e_g2W"
      },
      "id": "gD8uT79e_g2W"
    },
    {
      "cell_type": "code",
      "source": [
        "# GPT\n",
        "test_set2 = deepcopy(test_set[\"text\"])\n",
        "test_set2 = pd.DataFrame({\"text\": test_set2})\n",
        "input_ids = []\n",
        "for example in tqdm(test_set2[\"text\"]):\n",
        "    bos_token = [pipeline.tokenizer.bos_token]\n",
        "    eos_token = [pipeline.tokenizer.eos_token]\n",
        "    tokens = bos_token + pipeline.tokenizer.tokenize(example) + eos_token\n",
        "    input_id = pipeline.tokenizer.convert_tokens_to_ids(tokens)\n",
        "    input_ids.append(input_id)\n",
        "\n",
        "max_seq_len = max(map(lambda x : len(x), input_ids))\n",
        "input_ids = pad_sequences(input_ids, maxlen = max_seq_len, \n",
        "                          value = pipeline.tokenizer.pad_token_id, \n",
        "                          padding='post')\n",
        "\n",
        "tmp = pipeline.model.predict(input_ids)\n",
        "test_set2[\"class\"] = tmp.tolist()\n",
        "test_set2[\"label_class\"] = test_set2[\"class\"].apply(lambda x : np.argmax(x))\n",
        "labels = pd.DataFrame(tmp.tolist()).add_prefix(\"label_\")\n",
        "labels.index = test_set.index\n",
        "test_set2 = pd.concat([test_set2, labels], axis = 1)\n",
        "Counter(test_set2[\"class\"].apply(lambda x : np.argmax(x)))"
      ],
      "metadata": {
        "id": "pTJAi6zwuK1i",
        "colab": {
          "base_uri": "https://localhost:8080/"
        },
        "outputId": "e503d170-d86e-4525-a899-156877213380"
      },
      "id": "pTJAi6zwuK1i",
      "execution_count": null,
      "outputs": [
        {
          "output_type": "stream",
          "name": "stderr",
          "text": [
            "100%|██████████| 500/500 [00:00<00:00, 1132.72it/s]\n"
          ]
        },
        {
          "output_type": "execute_result",
          "data": {
            "text/plain": [
              "Counter({0: 104, 1: 108, 2: 105, 3: 116, 4: 67})"
            ]
          },
          "metadata": {},
          "execution_count": 40
        }
      ]
    },
    {
      "cell_type": "code",
      "source": [
        "test_set.to_csv(\"./model/Only_test_pred/klue_bert_test_aug3time.csv\")"
      ],
      "metadata": {
        "id": "nZv4H8rilwQu"
      },
      "id": "nZv4H8rilwQu",
      "execution_count": null,
      "outputs": []
    },
    {
      "cell_type": "code",
      "source": [
        "test_set[test_set[\"label_class\"] == 4].to_csv(\"./tmp.csv\")"
      ],
      "metadata": {
        "id": "SWZ-Vw_xPfEL"
      },
      "id": "SWZ-Vw_xPfEL",
      "execution_count": null,
      "outputs": []
    },
    {
      "cell_type": "markdown",
      "source": [
        "## 7. Conclusion"
      ],
      "metadata": {
        "id": "OOcgM5CN_9um"
      },
      "id": "OOcgM5CN_9um"
    },
    {
      "cell_type": "markdown",
      "source": [
        "현재 test.json 의 클래스 분포는 각 클래스별로 100개가 존재하기 때문에 각 클래스 별로 100개를 분류하면 좋은 모델이라고 볼 수 있습니다."
      ],
      "metadata": {
        "id": "0Nc_MetSAPMV"
      },
      "id": "0Nc_MetSAPMV"
    },
    {
      "cell_type": "markdown",
      "source": [
        "|데이터|모델|에폭|성능|참고|\n",
        "|-|-|-|-|-|\n",
        "|sns, kor 데이터 5117개|BERT|1|Counter({0: 71, 1: 138, 2: 125, 3: 96, 4: 70})|base|\n",
        "|sns, kor 데이터 5117개|BERT|3|Counter({0: 89, 1: 130, 2: 110, 3: 102, 4: 69})|학습률 스케줄러 lr : 0.5 </br> 2/23 submission : 0.829|\n",
        "|sns, kor 데이터 5117개|GPT|5|Counter({0: 100, 1: 115, 2: 120, 3: 112, 4: 53})|학습률 스케줄러 lr : 0.2|\n",
        "|sns, kor 데이터 5117개|BERT|5|Counter({0: 98, 1: 111, 2: 109, 3: 118, 4: 64})|학습률 스케줄러 lr : 0.2 |\n",
        "|sns, kor 데이터 5117개|BERT|4|Counter({0: 95, 1: 114, 2: 114, 3: 123, 4: 54})|학습률 스케줄러 lr : 0.2 </br>|\n",
        "|sns, kor 데이터 5117개|GPT </br> BERT|5|Counter({0: 99, 1: 107, 2: 113, 3: 118, 4: 63})|학습률 스케쥴러 lr : 0.2|\n",
        "|sns, kor 데이터 5117개|GPT </br> BERT|3/5|Counter({0: 97, 1: 108, 2: 118, 3: 121, 4: 56})|학습률 스케쥴러 lr : 0.2 </br>|\n",
        "|only sns 15000개|BERT|4/5|Counter({0: 93, 1: 111, 2: 114, 3: 123, 4: 59})|학습률 스케줄러 lr : 0.2|\n",
        "|sns, kor 데이터 5117개|BERT|4/5|Counter({0: 93, 1: 111, 2: 113, 3: 123, 4: 60})|학습률 스케쥴러  lr : 0.2|\n",
        "|sns 5437개, kor 5117개|BERT|3/5|Counter({0: 99, 1: 105, 2: 112, 3: 116, 4: 68})|학습률 스케쥴러  lr : 0.2 </br> SNS데이터에서 BERT로 일반대화를 분류하였을 때, 일반 대화가 아니라고 분류한 320개 데이터 추가|\n",
        "|sns, kor, sentiment 5000개, bert_pred_sns 350개|BERT|5/5|Counter({0: 95, 1: 108, 2: 108, 3: 112, 4: 77})|학습률 스케쥴러 lr :0.2 </br> SNS데이터에서 BERT로 일반대화를 분류하였을 때, 일반 대화가 아니라고 분류한 350개 데이터 추가 </br> 2/24 submission : 0.865|\n",
        "|sns, kor, sentiment 5000개, bert_pred_sns 350개|GPT|4/5|Counter({0: 96, 1: 97, 2: 108, 3: 127, 4: 72})|학습률 스케쥴러 lr :0.2 </br> SNS데이터에서 BERT로 일반대화를 분류하였을 때, 일반 대화가 아니라고 분류한 350개 데이터 추가|\n",
        "|sns, kor, sentiment 5000개, bert_pred_sns 350개|Electra|5/5|Counter({0: 90, 1: 114, 2: 106, 3: 120, 4: 70})|학습률 스케쥴러 lr :0.2 </br> SNS데이터에서 BERT로 일반대화를 분류하였을 때, 일반 대화가 아니라고 분류한 350개 데이터 추가|\n",
        "|sns, kor, sentiment 5000개, bert_pred_sns 350개|RoBERTa|5/5|Counter({0: 262, 3: 147, 4: 91})|학습률 스케쥴러 lr :0.2 </br> SNS데이터에서 BERT로 일반대화를 분류하였을 때, 일반 대화가 아니라고 분류한 350개 데이터 추가|\n",
        "|sns, kor, sentiment 5000개, bert_pred_sns 350개|RoBERTa|5/5|Counter({0: 33, 1: 181, 2: 123, 3: 105, 4: 58})|학습률 스케쥴러 lr :0.2 </br> SNS데이터에서 BERT로 일반대화를 분류하였을 때, 일반 대화가 아니라고 분류한 350개 데이터 추가 </br> 무작위 단어 교체 증강 기법 3번 적용|\n",
        "|sns, kor, sentiment 5000개, bert_pred_sns 350개|BERT|5/5|Counter({0: 95, 1: 102, 2: 110, 3: 119, 4: 74})|학습률 스케쥴러 lr :0.2 </br> SNS데이터에서 BERT로 일반대화를 분류하였을 때, 일반 대화가 아니라고 분류한 350개 데이터 추가 </br> 무작위 단어 교체 증강 기법 3번 적용|\n",
        "|sns, kor, sentiment 5000개, bert_pred_sns 350개, 역번역 증강 3개 추가|BERT|4/5|Counter({0: 99, 1: 106, 2: 108, 3: 109, 4: 78})|학습률 스케쥴러 lr :0.2 </br> SNS데이터에서 BERT로 일반대화를 분류하였을 때, 일반 대화가 아니라고 분류한 350개 데이터 추가|\n",
        "|sns, kor, sentiment 5000개, bert_pred_sns 350개, 역번역 증강 3개 추가|GPT|3/5|Counter({0: 104, 1: 108, 2: 105, 3: 116, 4: 67})|학습률 스케쥴러 lr :0.2 </br> SNS데이터에서 BERT로 일반대화를 분류하였을 때, 일반 대화가 아니라고 분류한 350개 데이터 추가|\n",
        "|sns, kor, sentiment 5000개, bert_pred_sns 350개, koeda 증강 5개 추가|BERT|5/5|Counter({0: 98, 1: 110, 2: 107, 3: 124, 4: 61})|학습률 스케쥴러 lr :0.2 </br> SNS데이터에서 BERT로 일반대화를 분류하였을 때, 일반 대화가 아니라고 분류한 350개 데이터 추가|\n",
        "|sns, kor, sentiment 5000개, bert_pred_sns 350개,역번역 3개 koeda 증강 5개 추가|BERT|3/5|Counter({0: 98, 1: 115, 2: 114, 3: 117, 4: 56})|학습률 스케쥴러 lr :0.2 </br> SNS데이터에서 BERT로 일반대화를 분류하였을 때, 일반 대화가 아니라고 분류한 350개 데이터 추가|\n",
        "|sns, kor, sentiment 5000개, bert_pred_sns 350개,역번역 3개|BERT|4/5|Counter({0: 99, 1: 108, 2: 108, 3: 114, 4: 71})|학습률 스케쥴러 lr :0.2 </br> SNS데이터에서 BERT로 일반대화를 분류하였을 때, 일반 대화가 아니라고 분류한 350개 데이터 추가 </br> val_data 비율 0.01|\n",
        "|sns, kor, sentiment 5000개, bert_pred_sns 350개,역번역 3개|BERT|4/10|Counter({0: 101, 1: 108, 2: 107, 3: 99, 4: 85})|학습률 스케쥴러 lr :0.2 </br> SNS데이터에서 BERT로 일반대화를 분류하였을 때, 일반 대화가 아니라고 분류한 350개 데이터 추가 </br> val_data 비율 0.01 </br> (TAPT) run_mlm.py로 학습시킨 BERT 모델 </br> 2/28 submission : ?|\n",
        "|sns, kor, sentiment 5000개, bert_pred_sns 350개|BERT|4/10|Counter({0: 102, 1: 99, 2: 103, 3: 120, 4: 76})|학습률 스케쥴러 lr :0.2 </br> SNS데이터에서 BERT로 일반대화를 분류하였을 때, 일반 대화가 아니라고 분류한 350개 데이터 추가 </br> val_data 비율 0.01 </br> (TAPT) run_mlm.py로 학습시킨 BERT 모델|\n",
        "|sns, kor, sentiment, summary 5000개, bert_pred_sns 350개,역번역 3개|BERT|8/10|Counter({0: 102, 1: 105, 2: 105, 3: 114, 4: 74})|학습률 스케쥴러 lr :0.2 </br> SNS데이터에서 BERT로 일반대화를 분류하였을 때, 일반 대화가 아니라고 분류한 350개 데이터 추가 </br> val_data 비율 0.01 </br> (TAPT) run_mlm.py로 학습시킨 BERT 모델|\n",
        "|sns, kor, sentiment, summary 5000개, bert_pred_sns 350개,역번역 3개|BERT|4|Counter({0: 103, 1: 107, 2: 109, 3: 109, 4: 72})|학습률 스케쥴러 lr :0.2 </br> SNS데이터에서 BERT로 일반대화를 분류하였을 때, 일반 대화가 아니라고 분류한 350개 데이터 추가 </br> val_data 비율 0.01 </br> (TAPT) run_mlm.py로 학습시킨 BERT 모델|"
      ],
      "metadata": {
        "id": "Zi9rVoT2n_7m"
      },
      "id": "Zi9rVoT2n_7m"
    },
    {
      "cell_type": "markdown",
      "source": [
        "- 모델중에서는 기본 BERT 모델이 가장 괜찮은 성능을 보이는 것으로 볼 수 있습니다.\n",
        "- 모델의 성능의 개선은 AI-Hub에서 새로운 데이터를 추가할 수록 성능이 개선되는 것을 볼 수가 있었습니다. \n",
        "- 역번역 증강 데이터는 성능 개선에 영향을 준다. (before : 76 -> after : 85)\n",
        "- 일반 대화 데이터들을 사전학습 시키고 Fine-tuning을 진행하면 성능이 개선된다.  \n",
        " (before : Counter({0: 99, 1: 108, 2: 108, 3: 114, 4: 71}) -> after : \tCounter({0: 101, 1: 108, 2: 107, 3: 99, 4: 85}))"
      ],
      "metadata": {
        "id": "Cwls3WqAA9Se"
      },
      "id": "Cwls3WqAA9Se"
    },
    {
      "cell_type": "markdown",
      "source": [
        "## 8. Submission 제출 코드"
      ],
      "metadata": {
        "id": "DzC5H1hz9v-i"
      },
      "id": "DzC5H1hz9v-i"
    },
    {
      "cell_type": "code",
      "source": [
        "indexes = test_set.index\n",
        "\n",
        "answer = defaultdict()\n",
        "tmp = defaultdict()\n",
        "for idx, case in enumerate(indexes):\n",
        "  tmp = str(0) + str(test_set[\"label_class\"][idx])\n",
        "  answer[case] = dict({\"class\":tmp})\n",
        "answer = dict(answer)\n",
        "list(answer.items())[:10]"
      ],
      "metadata": {
        "id": "LQnL3aDHFgwG",
        "colab": {
          "base_uri": "https://localhost:8080/"
        },
        "outputId": "c3c8d4f0-47b0-4e2b-f811-410a5cfc2d20"
      },
      "id": "LQnL3aDHFgwG",
      "execution_count": null,
      "outputs": [
        {
          "output_type": "execute_result",
          "data": {
            "text/plain": [
              "[('t_000', {'class': '01'}),\n",
              " ('t_001', {'class': '02'}),\n",
              " ('t_002', {'class': '02'}),\n",
              " ('t_003', {'class': '04'}),\n",
              " ('t_004', {'class': '03'}),\n",
              " ('t_005', {'class': '00'}),\n",
              " ('t_006', {'class': '00'}),\n",
              " ('t_007', {'class': '01'}),\n",
              " ('t_008', {'class': '04'}),\n",
              " ('t_009', {'class': '01'})]"
            ]
          },
          "metadata": {},
          "execution_count": 81
        }
      ]
    },
    {
      "cell_type": "code",
      "source": [
        "ls"
      ],
      "metadata": {
        "colab": {
          "base_uri": "https://localhost:8080/"
        },
        "id": "YXraFwu23dk2",
        "outputId": "e4d1b760-4831-420f-b89c-d96faf6e5f0b"
      },
      "id": "YXraFwu23dk2",
      "execution_count": null,
      "outputs": [
        {
          "output_type": "stream",
          "name": "stdout",
          "text": [
            "baseline.ipynb                          \u001b[0m\u001b[01;34mmodel\u001b[0m/\n",
            "checkpoint                              \u001b[01;34mpackages\u001b[0m/\n",
            "DataAugmentation.ipynb                  Park_json.ipynb\n",
            "data_merge                              \u001b[01;34mprototype_model\u001b[0m/\n",
            "doc2vec.model                           \u001b[01;34msubmission\u001b[0m/\n",
            "doc2vec.model.docvecs.vectors_docs.npy  submission_baseline.ipynb\n",
            "doc2vec.model.trainables.syn1neg.npy    submission_experiment.ipynb\n",
            "doc2vec.model.wv.vectors.npy            TAPT_exp.ipynb\n",
            "모델성능_비교표.ipynb                   train_baseline_after_midterm.ipynb\n"
          ]
        }
      ]
    },
    {
      "cell_type": "code",
      "source": [
        "test_set[test_set[\"label_class\"] == 4].to_csv(\"./tmp.csv\")"
      ],
      "metadata": {
        "id": "WGjetqzv2uhQ"
      },
      "id": "WGjetqzv2uhQ",
      "execution_count": null,
      "outputs": []
    },
    {
      "cell_type": "code",
      "source": [
        "with open('./submission/submission_0228_bert_valratio001_runmlm.json', 'w') as fp:\n",
        "    json.dump(answer, fp)"
      ],
      "metadata": {
        "id": "oTPzNAdRHTN2"
      },
      "id": "oTPzNAdRHTN2",
      "execution_count": null,
      "outputs": []
    }
  ],
  "metadata": {
    "kernelspec": {
      "display_name": "Python 3",
      "language": "python",
      "name": "python3"
    },
    "language_info": {
      "codemirror_mode": {
        "name": "ipython",
        "version": 3
      },
      "file_extension": ".py",
      "mimetype": "text/x-python",
      "name": "python",
      "nbconvert_exporter": "python",
      "pygments_lexer": "ipython3",
      "version": "3.7.9"
    },
    "colab": {
      "name": "submission_experiment.ipynb",
      "provenance": [],
      "collapsed_sections": [
        "executive-tumor",
        "YSfkbxNodTU-",
        "LGnVrUzRdZCX",
        "rWcWSHaTdoiU",
        "w7Fmk8Z_ddet"
      ],
      "machine_shape": "hm",
      "include_colab_link": true
    },
    "accelerator": "TPU"
  },
  "nbformat": 4,
  "nbformat_minor": 5
}