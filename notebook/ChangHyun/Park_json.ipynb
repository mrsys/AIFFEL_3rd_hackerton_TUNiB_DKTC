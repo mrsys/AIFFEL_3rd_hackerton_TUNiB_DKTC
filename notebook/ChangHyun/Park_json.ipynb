{
  "nbformat": 4,
  "nbformat_minor": 0,
  "metadata": {
    "colab": {
      "name": "Park_json.ipynb",
      "provenance": [],
      "machine_shape": "hm",
      "collapsed_sections": [],
      "include_colab_link": true
    },
    "kernelspec": {
      "name": "python3",
      "display_name": "Python 3"
    },
    "language_info": {
      "name": "python"
    },
    "accelerator": "GPU"
  },
  "cells": [
    {
      "cell_type": "markdown",
      "metadata": {
        "id": "view-in-github",
        "colab_type": "text"
      },
      "source": [
        "<a href=\"https://colab.research.google.com/github/sda96/AIFFEL_3rd_hackerton_TUNiB_DKTC/blob/main/notebook/ChangHyun/Park_json.ipynb\" target=\"_parent\"><img src=\"https://colab.research.google.com/assets/colab-badge.svg\" alt=\"Open In Colab\"/></a>"
      ]
    },
    {
      "cell_type": "code",
      "source": [
        "!gdown https://drive.google.com/uc?id=15NHQXINo1xILHiBvnCWf1XqCtrxlevtx\n",
        "!gdown https://drive.google.com/uc?id=1dvjlJlEl3VQ4mhd9CybqeEs2Uw1wzqW_"
      ],
      "metadata": {
        "colab": {
          "base_uri": "https://localhost:8080/"
        },
        "id": "TJPJaEMwnS_b",
        "outputId": "1938cb81-3830-454e-c2a9-eab7e6f9e2f1"
      },
      "execution_count": null,
      "outputs": [
        {
          "output_type": "stream",
          "name": "stdout",
          "text": [
            "Downloading...\n",
            "From: https://drive.google.com/uc?id=15NHQXINo1xILHiBvnCWf1XqCtrxlevtx\n",
            "To: /content/SNS_train.zip\n",
            "100% 650M/650M [00:04<00:00, 130MB/s]\n",
            "Downloading...\n",
            "From: https://drive.google.com/uc?id=1dvjlJlEl3VQ4mhd9CybqeEs2Uw1wzqW_\n",
            "To: /content/SNS_valid.zip\n",
            "100% 81.3M/81.3M [00:01<00:00, 80.1MB/s]\n"
          ]
        }
      ]
    },
    {
      "cell_type": "code",
      "source": [
        "!unzip -uq \"/content/SNS_train.zip\"\n",
        "!unzip -uq \"/content/SNS_valid.zip\""
      ],
      "metadata": {
        "id": "dbWeLfV_xCxS"
      },
      "execution_count": null,
      "outputs": []
    },
    {
      "cell_type": "code",
      "source": [
        "import pandas as pd # pandas 모듈 로드\n",
        "import json  # json 모듈 로드\n",
        "import re"
      ],
      "metadata": {
        "id": "b3ZsD_8xzrQl"
      },
      "execution_count": null,
      "outputs": []
    },
    {
      "cell_type": "code",
      "source": [
        "json_file_path=\"/content/[라벨]한국어SNS_train/개인및관계.json\""
      ],
      "metadata": {
        "id": "m5mBSPb00Hr4"
      },
      "execution_count": null,
      "outputs": []
    },
    {
      "cell_type": "code",
      "source": [
        "def preprocess_sentence(sentence):\n",
        "\n",
        "    sentence = re.sub(r\"[^0-9]+\", \" \", sentence)\n",
        "\n",
        "    return sentence"
      ],
      "metadata": {
        "id": "Q4o4cb5yr206"
      },
      "execution_count": null,
      "outputs": []
    },
    {
      "cell_type": "code",
      "source": [
        "def yield_json(path):\n",
        "\n",
        "    with open(path, 'r', encoding='utf-8-sig') as j: #파일을 열어서 읽기 : r \n",
        "\n",
        "        data = json.loads(j.read()) # json파일을 dictionary 형태로 읽어서 data에 넣어준다.\n",
        "\n",
        "        for i in range(len(data['data'])):\n",
        "            df = pd.json_normalize(data['data'][i][\"body\"])\n",
        "            df['index'] = 0\n",
        "            df['turnID'] = df['turnID'].apply(preprocess_sentence)\n",
        "            df['turnID'].astype(int)\n",
        "            df = df.groupby(['turnID', 'utterance']).sum().groupby(level=[0]).cumsum()\n",
        "            yield df"
      ],
      "metadata": {
        "id": "PrXYS7vYA9B7"
      },
      "execution_count": null,
      "outputs": []
    },
    {
      "cell_type": "code",
      "source": [
        "df = yield_json(json_file_path)"
      ],
      "metadata": {
        "id": "NV_4ojUQWXM2"
      },
      "execution_count": null,
      "outputs": []
    },
    {
      "cell_type": "code",
      "source": [
        "next(df)"
      ],
      "metadata": {
        "colab": {
          "base_uri": "https://localhost:8080/",
          "height": 1000
        },
        "id": "zN7TtTRcWZ9I",
        "outputId": "ab1e503a-7e7f-45ca-bdba-9a5d244cd1a8"
      },
      "execution_count": null,
      "outputs": [
        {
          "output_type": "execute_result",
          "data": {
            "text/html": [
              "\n",
              "  <div id=\"df-a14ebb42-6350-4550-9025-a96a74a12a9a\">\n",
              "    <div class=\"colab-df-container\">\n",
              "      <div>\n",
              "<style scoped>\n",
              "    .dataframe tbody tr th:only-of-type {\n",
              "        vertical-align: middle;\n",
              "    }\n",
              "\n",
              "    .dataframe tbody tr th {\n",
              "        vertical-align: top;\n",
              "    }\n",
              "\n",
              "    .dataframe thead th {\n",
              "        text-align: right;\n",
              "    }\n",
              "</style>\n",
              "<table border=\"1\" class=\"dataframe\">\n",
              "  <thead>\n",
              "    <tr style=\"text-align: right;\">\n",
              "      <th></th>\n",
              "      <th></th>\n",
              "      <th>index</th>\n",
              "    </tr>\n",
              "    <tr>\n",
              "      <th>turnID</th>\n",
              "      <th>utterance</th>\n",
              "      <th></th>\n",
              "    </tr>\n",
              "  </thead>\n",
              "  <tbody>\n",
              "    <tr>\n",
              "      <th rowspan=\"8\" valign=\"top\">1</th>\n",
              "      <th>그런생각이들어</th>\n",
              "      <td>0</td>\n",
              "    </tr>\n",
              "    <tr>\n",
              "      <th>근데지금은</th>\n",
              "      <td>0</td>\n",
              "    </tr>\n",
              "    <tr>\n",
              "      <th>나는 이해하면 안돼는거까지 이해햇엇구나</th>\n",
              "      <td>0</td>\n",
              "    </tr>\n",
              "    <tr>\n",
              "      <th>내가 전남친이랑헤어지면서 깨달앗거든</th>\n",
              "      <td>0</td>\n",
              "    </tr>\n",
              "    <tr>\n",
              "      <th>내가또 똑같은 실수를 하는건 아닌가</th>\n",
              "      <td>0</td>\n",
              "    </tr>\n",
              "    <tr>\n",
              "      <th>라는 생각이들어</th>\n",
              "      <td>0</td>\n",
              "    </tr>\n",
              "    <tr>\n",
              "      <th>오빨 너무 좋아해서 이해하면 안돼는거까지 이해하고있는건가</th>\n",
              "      <td>0</td>\n",
              "    </tr>\n",
              "    <tr>\n",
              "      <th>요새 자꾸</th>\n",
              "      <td>0</td>\n",
              "    </tr>\n",
              "    <tr>\n",
              "      <th rowspan=\"2\" valign=\"top\">2</th>\n",
              "      <th>그럼 내가</th>\n",
              "      <td>0</td>\n",
              "    </tr>\n",
              "    <tr>\n",
              "      <th>할말이 없네</th>\n",
              "      <td>0</td>\n",
              "    </tr>\n",
              "    <tr>\n",
              "      <th rowspan=\"7\" valign=\"top\">3</th>\n",
              "      <th>고치겟다던가</th>\n",
              "      <td>0</td>\n",
              "    </tr>\n",
              "    <tr>\n",
              "      <th>그런생각들게해서 미안하다던가</th>\n",
              "      <td>0</td>\n",
              "    </tr>\n",
              "    <tr>\n",
              "      <th>대답도 그렇게안햇으면좋겟어</th>\n",
              "      <td>0</td>\n",
              "    </tr>\n",
              "    <tr>\n",
              "      <th>뭐때문에그렇게생각하냐던가</th>\n",
              "      <td>0</td>\n",
              "    </tr>\n",
              "    <tr>\n",
              "      <th>여기서 할말없다고 하면 나는 고민하고 한말인데</th>\n",
              "      <td>0</td>\n",
              "    </tr>\n",
              "    <tr>\n",
              "      <th>이렇게말해야지</th>\n",
              "      <td>0</td>\n",
              "    </tr>\n",
              "    <tr>\n",
              "      <th>할말없다 이런말 싫어</th>\n",
              "      <td>0</td>\n",
              "    </tr>\n",
              "    <tr>\n",
              "      <th rowspan=\"3\" valign=\"top\">4</th>\n",
              "      <th>무슨말을하겠어</th>\n",
              "      <td>0</td>\n",
              "    </tr>\n",
              "    <tr>\n",
              "      <th>어떻게</th>\n",
              "      <td>0</td>\n",
              "    </tr>\n",
              "    <tr>\n",
              "      <th>전남친이랑 똑같은 실수인가싶다는데</th>\n",
              "      <td>0</td>\n",
              "    </tr>\n",
              "    <tr>\n",
              "      <th rowspan=\"5\" valign=\"top\">5</th>\n",
              "      <th>나 진지하게 얘기하고싶어서 꺼낸말이야</th>\n",
              "      <td>0</td>\n",
              "    </tr>\n",
              "    <tr>\n",
              "      <th>실망하고</th>\n",
              "      <td>0</td>\n",
              "    </tr>\n",
              "    <tr>\n",
              "      <th>요새자꾸 그런생각이들어서..</th>\n",
              "      <td>0</td>\n",
              "    </tr>\n",
              "    <tr>\n",
              "      <th>이해하고넘어간부분은</th>\n",
              "      <td>0</td>\n",
              "    </tr>\n",
              "    <tr>\n",
              "      <th>전혀다르긴한데</th>\n",
              "      <td>0</td>\n",
              "    </tr>\n",
              "    <tr>\n",
              "      <th rowspan=\"2\" valign=\"top\">6</th>\n",
              "      <th>그런생각들게 해서</th>\n",
              "      <td>0</td>\n",
              "    </tr>\n",
              "    <tr>\n",
              "      <th>미안해</th>\n",
              "      <td>0</td>\n",
              "    </tr>\n",
              "    <tr>\n",
              "      <th>7</th>\n",
              "      <th>뭐때문인지는 안궁금해??</th>\n",
              "      <td>0</td>\n",
              "    </tr>\n",
              "    <tr>\n",
              "      <th>8</th>\n",
              "      <th>뭐때문이야??</th>\n",
              "      <td>0</td>\n",
              "    </tr>\n",
              "    <tr>\n",
              "      <th>9</th>\n",
              "      <th>가끔 짜증너무많이낸다거나</th>\n",
              "      <td>0</td>\n",
              "    </tr>\n",
              "  </tbody>\n",
              "</table>\n",
              "</div>\n",
              "      <button class=\"colab-df-convert\" onclick=\"convertToInteractive('df-a14ebb42-6350-4550-9025-a96a74a12a9a')\"\n",
              "              title=\"Convert this dataframe to an interactive table.\"\n",
              "              style=\"display:none;\">\n",
              "        \n",
              "  <svg xmlns=\"http://www.w3.org/2000/svg\" height=\"24px\"viewBox=\"0 0 24 24\"\n",
              "       width=\"24px\">\n",
              "    <path d=\"M0 0h24v24H0V0z\" fill=\"none\"/>\n",
              "    <path d=\"M18.56 5.44l.94 2.06.94-2.06 2.06-.94-2.06-.94-.94-2.06-.94 2.06-2.06.94zm-11 1L8.5 8.5l.94-2.06 2.06-.94-2.06-.94L8.5 2.5l-.94 2.06-2.06.94zm10 10l.94 2.06.94-2.06 2.06-.94-2.06-.94-.94-2.06-.94 2.06-2.06.94z\"/><path d=\"M17.41 7.96l-1.37-1.37c-.4-.4-.92-.59-1.43-.59-.52 0-1.04.2-1.43.59L10.3 9.45l-7.72 7.72c-.78.78-.78 2.05 0 2.83L4 21.41c.39.39.9.59 1.41.59.51 0 1.02-.2 1.41-.59l7.78-7.78 2.81-2.81c.8-.78.8-2.07 0-2.86zM5.41 20L4 18.59l7.72-7.72 1.47 1.35L5.41 20z\"/>\n",
              "  </svg>\n",
              "      </button>\n",
              "      \n",
              "  <style>\n",
              "    .colab-df-container {\n",
              "      display:flex;\n",
              "      flex-wrap:wrap;\n",
              "      gap: 12px;\n",
              "    }\n",
              "\n",
              "    .colab-df-convert {\n",
              "      background-color: #E8F0FE;\n",
              "      border: none;\n",
              "      border-radius: 50%;\n",
              "      cursor: pointer;\n",
              "      display: none;\n",
              "      fill: #1967D2;\n",
              "      height: 32px;\n",
              "      padding: 0 0 0 0;\n",
              "      width: 32px;\n",
              "    }\n",
              "\n",
              "    .colab-df-convert:hover {\n",
              "      background-color: #E2EBFA;\n",
              "      box-shadow: 0px 1px 2px rgba(60, 64, 67, 0.3), 0px 1px 3px 1px rgba(60, 64, 67, 0.15);\n",
              "      fill: #174EA6;\n",
              "    }\n",
              "\n",
              "    [theme=dark] .colab-df-convert {\n",
              "      background-color: #3B4455;\n",
              "      fill: #D2E3FC;\n",
              "    }\n",
              "\n",
              "    [theme=dark] .colab-df-convert:hover {\n",
              "      background-color: #434B5C;\n",
              "      box-shadow: 0px 1px 3px 1px rgba(0, 0, 0, 0.15);\n",
              "      filter: drop-shadow(0px 1px 2px rgba(0, 0, 0, 0.3));\n",
              "      fill: #FFFFFF;\n",
              "    }\n",
              "  </style>\n",
              "\n",
              "      <script>\n",
              "        const buttonEl =\n",
              "          document.querySelector('#df-a14ebb42-6350-4550-9025-a96a74a12a9a button.colab-df-convert');\n",
              "        buttonEl.style.display =\n",
              "          google.colab.kernel.accessAllowed ? 'block' : 'none';\n",
              "\n",
              "        async function convertToInteractive(key) {\n",
              "          const element = document.querySelector('#df-a14ebb42-6350-4550-9025-a96a74a12a9a');\n",
              "          const dataTable =\n",
              "            await google.colab.kernel.invokeFunction('convertToInteractive',\n",
              "                                                     [key], {});\n",
              "          if (!dataTable) return;\n",
              "\n",
              "          const docLinkHtml = 'Like what you see? Visit the ' +\n",
              "            '<a target=\"_blank\" href=https://colab.research.google.com/notebooks/data_table.ipynb>data table notebook</a>'\n",
              "            + ' to learn more about interactive tables.';\n",
              "          element.innerHTML = '';\n",
              "          dataTable['output_type'] = 'display_data';\n",
              "          await google.colab.output.renderOutput(dataTable, element);\n",
              "          const docLink = document.createElement('div');\n",
              "          docLink.innerHTML = docLinkHtml;\n",
              "          element.appendChild(docLink);\n",
              "        }\n",
              "      </script>\n",
              "    </div>\n",
              "  </div>\n",
              "  "
            ],
            "text/plain": [
              "                                        index\n",
              "turnID utterance                             \n",
              " 1     그런생각이들어                              0\n",
              "       근데지금은                                0\n",
              "       나는 이해하면 안돼는거까지 이해햇엇구나                0\n",
              "       내가 전남친이랑헤어지면서 깨달앗거든                  0\n",
              "       내가또 똑같은 실수를 하는건 아닌가                  0\n",
              "       라는 생각이들어                             0\n",
              "       오빨 너무 좋아해서 이해하면 안돼는거까지 이해하고있는건가      0\n",
              "       요새 자꾸                                0\n",
              " 2     그럼 내가                                0\n",
              "       할말이 없네                               0\n",
              " 3     고치겟다던가                               0\n",
              "       그런생각들게해서 미안하다던가                      0\n",
              "       대답도 그렇게안햇으면좋겟어                       0\n",
              "       뭐때문에그렇게생각하냐던가                        0\n",
              "       여기서 할말없다고 하면 나는 고민하고 한말인데            0\n",
              "       이렇게말해야지                              0\n",
              "       할말없다 이런말 싫어                          0\n",
              " 4     무슨말을하겠어                              0\n",
              "       어떻게                                  0\n",
              "       전남친이랑 똑같은 실수인가싶다는데                   0\n",
              " 5     나 진지하게 얘기하고싶어서 꺼낸말이야                 0\n",
              "       실망하고                                 0\n",
              "       요새자꾸 그런생각이들어서..                      0\n",
              "       이해하고넘어간부분은                           0\n",
              "       전혀다르긴한데                              0\n",
              " 6     그런생각들게 해서                            0\n",
              "       미안해                                  0\n",
              " 7     뭐때문인지는 안궁금해??                        0\n",
              " 8     뭐때문이야??                              0\n",
              " 9     가끔 짜증너무많이낸다거나                        0"
            ]
          },
          "metadata": {},
          "execution_count": 11
        }
      ]
    },
    {
      "cell_type": "code",
      "source": [
        "len(contents['data'])"
      ],
      "metadata": {
        "id": "NB7nYMjkMecZ"
      },
      "execution_count": null,
      "outputs": []
    },
    {
      "cell_type": "code",
      "source": [
        "for i in range(len(contents['data'][1]['body'])):\n",
        "    print(contents['data'][1]['body'][i]['participantID'])  \n",
        "    print(contents['data'][1]['body'][i]['utterance'])"
      ],
      "metadata": {
        "id": "eusZG3kZJVza"
      },
      "execution_count": null,
      "outputs": []
    },
    {
      "cell_type": "markdown",
      "source": [
        "박창현 추가 내용"
      ],
      "metadata": {
        "id": "rp8vx91qPXdB"
      }
    },
    {
      "cell_type": "code",
      "source": [
        "import os\n",
        "from packages import utils\n",
        "from google.colab import drive\n",
        "from glob import glob\n",
        "import json\n",
        "from tqdm import tqdm\n",
        "\n",
        "drive.mount('/content/drive')\n",
        "os.chdir('/content/drive/MyDrive/TUNiB준비반/AIFFEL_3rd_hackerton_TUNiB_DKTC/notebook/ChangHyun/')"
      ],
      "metadata": {
        "colab": {
          "base_uri": "https://localhost:8080/"
        },
        "id": "AaDvqYsFEhMP",
        "outputId": "c3f6242d-fa1d-4b3c-9e6c-75bb809a1387"
      },
      "execution_count": null,
      "outputs": [
        {
          "output_type": "stream",
          "name": "stdout",
          "text": [
            "Drive already mounted at /content/drive; to attempt to forcibly remount, call drive.mount(\"/content/drive\", force_remount=True).\n"
          ]
        }
      ]
    },
    {
      "cell_type": "code",
      "source": [
        "now_path = os.getcwd()\n",
        "data_path = utils.recurrent_find_data_path(now_path)"
      ],
      "metadata": {
        "id": "nqFeCKvnER5m"
      },
      "execution_count": null,
      "outputs": []
    },
    {
      "cell_type": "code",
      "source": [
        "files = glob(data_path + \"/AI_HUB_SNS/*/*\")\n",
        "files"
      ],
      "metadata": {
        "colab": {
          "base_uri": "https://localhost:8080/"
        },
        "id": "vF4Poj2AEUel",
        "outputId": "611f38d1-8b86-41f1-d3d0-0e22c0b9b859"
      },
      "execution_count": null,
      "outputs": [
        {
          "output_type": "execute_result",
          "data": {
            "text/plain": [
              "['/content/drive/MyDrive/TUNiB준비반/AIFFEL_3rd_hackerton_TUNiB_DKTC/data/AI_HUB_SNS/[라벨]한국어SNS_train/상거래(쇼핑).json',\n",
              " '/content/drive/MyDrive/TUNiB준비반/AIFFEL_3rd_hackerton_TUNiB_DKTC/data/AI_HUB_SNS/[라벨]한국어SNS_train/미용과건강.json',\n",
              " '/content/drive/MyDrive/TUNiB준비반/AIFFEL_3rd_hackerton_TUNiB_DKTC/data/AI_HUB_SNS/[라벨]한국어SNS_train/시사교육.json',\n",
              " '/content/drive/MyDrive/TUNiB준비반/AIFFEL_3rd_hackerton_TUNiB_DKTC/data/AI_HUB_SNS/[라벨]한국어SNS_train/식음료.json',\n",
              " '/content/drive/MyDrive/TUNiB준비반/AIFFEL_3rd_hackerton_TUNiB_DKTC/data/AI_HUB_SNS/[라벨]한국어SNS_valid/여가생활.json',\n",
              " '/content/drive/MyDrive/TUNiB준비반/AIFFEL_3rd_hackerton_TUNiB_DKTC/data/AI_HUB_SNS/[라벨]한국어SNS_valid/시사교육.json',\n",
              " '/content/drive/MyDrive/TUNiB준비반/AIFFEL_3rd_hackerton_TUNiB_DKTC/data/AI_HUB_SNS/[라벨]한국어SNS_valid/상거래(쇼핑).json',\n",
              " '/content/drive/MyDrive/TUNiB준비반/AIFFEL_3rd_hackerton_TUNiB_DKTC/data/AI_HUB_SNS/[라벨]한국어SNS_valid/주거와생활.json',\n",
              " '/content/drive/MyDrive/TUNiB준비반/AIFFEL_3rd_hackerton_TUNiB_DKTC/data/AI_HUB_SNS/[라벨]한국어SNS_valid/미용과건강.json',\n",
              " '/content/drive/MyDrive/TUNiB준비반/AIFFEL_3rd_hackerton_TUNiB_DKTC/data/AI_HUB_SNS/[라벨]한국어SNS_valid/식음료.json',\n",
              " '/content/drive/MyDrive/TUNiB준비반/AIFFEL_3rd_hackerton_TUNiB_DKTC/data/AI_HUB_SNS/[라벨]한국어SNS_valid/일과직업.json',\n",
              " '/content/drive/MyDrive/TUNiB준비반/AIFFEL_3rd_hackerton_TUNiB_DKTC/data/AI_HUB_SNS/[라벨]한국어SNS_valid/행사.json']"
            ]
          },
          "metadata": {},
          "execution_count": 11
        }
      ]
    },
    {
      "cell_type": "code",
      "source": [
        "bucket_text = []\n",
        "for json_file in tqdm(files):\n",
        "  with open(json_file, \"r\") as f:\n",
        "    ex = json.load(f)\n",
        "    ex = ex[\"data\"]\n",
        "    k = []\n",
        "    for j in ex:\n",
        "      kk = j[\"body\"]\n",
        "      kk = \"\\n\".join(list(map(lambda x : x[\"utterance\"], kk)))\n",
        "      k.append(kk)\n",
        "  bucket_text.append(k)\n",
        "print(\"\\n\")\n",
        "print(len(bucket_text))\n",
        "bucket_text = sum(bucket_text, [])\n",
        "print(\"\\n\")\n",
        "print(len(bucket_text))\n",
        "print(\"\\n\")\n",
        "print(bucket_text[:10])"
      ],
      "metadata": {
        "colab": {
          "base_uri": "https://localhost:8080/"
        },
        "id": "-_3G_xaVEVe2",
        "outputId": "e50a9f44-0711-4d8d-d666-38f47aff130b"
      },
      "execution_count": null,
      "outputs": [
        {
          "output_type": "stream",
          "name": "stderr",
          "text": [
            "100%|██████████| 12/12 [00:46<00:00,  3.85s/it]"
          ]
        },
        {
          "output_type": "stream",
          "name": "stdout",
          "text": [
            "\n",
            "\n",
            "12\n",
            "\n",
            "\n",
            "587519\n",
            "\n",
            "\n",
            "['맥주삿당\\n역시 태풍엔 맥주지\\n오 뭐뭐 샀음?\\n필라이트 좡색\\n오 나는 구스 아일랜드2\\n구스\\n구스도 사야겠다\\n블루문1\\n스텔라 아르투아1', '일단 니 에스쁘아쿠션까지해서 총6개\\n에스쁘아쿠션사게?̊̈\\nㅋㅋㅋㅋㅋ\\n아니\\n니\\n어차피살꺼아니가\\n엥 이미삿디\\n11번가할인할때\\nㅋㅋㅋㅋㅋㅋ\\n아빠르네\\n만팔처넌주고삼', '누리카드사용 낼부터된다네 책을 좀 빨리봐야해서 오늘 그냥주문해줘\\n알겠음\\n집으로 시킬까 가게로 시킬까?\\n가게\\n토요일에 도착한다는데\\n괜찬항?\\n시킨다\\n아ㅡ 너무늦다 가서 사야할거같아\\n엄마가 산다는책 보내줘봐 전화해볼께\\n이런\\n#@시스템#사진#\\n#@이름#아 잠실점교보문고 한개있어서 지금 갈건데 지금 니가 사둘수있어?\\n엄마 현금 찾으려면 은행도가야하고해서\\n잠실점 #@전번# 전번이야', '언니 텐텐서 컵 살거야?\\n살 거면 나 테이블보? 무슨 패브릭 이런거 하나만 사게\\n업로드할 때 너무 휑해\\nㅋㅋㅋㅋㅋㅋㅋㅋ\\nㅋㅋㅋㅋㅋ\\n패브릭... 데일리라이크 주문할 때 니한테 살거있냐 물어볼걸..\\n컵 아직 맘에 드는 거 못찾음\\n홀\\n그런걸 주문했어?\\n배신자\\n칫솔 샀엉\\n취소하고 다시 주문해줘?\\n텐텐에서 삼?\\n아니 심지어 데이라이크 홈페이지 비회원 주문임\\n에이 그럼 됐어', '하\\n어쩌냐\\n팔기싫다\\n또 질문해\\n어찌고저찌고\\nㅋㅋㅋㅋㅋㅋㅋ 아 또 뭐래...\\n블투연결\\n그냥하면\\n사용하는거냐고..\\n아니 모른다고요 안써봐서 저도\\n저도 안써본거라.. 이러고\\n미개봉 상품이라\\n환불 안된다고\\n해놨어??', 'ㅋㅋㅋ\\n물어보면안돼\\n깜짝이벤트~!\\n근데 라지를사면\\n맨투맨에 입으면 넘 딱맞을거같은데\\n어쩐담 엉엉\\n아 엑스라지더 잇구나\\n저남자모델\\n스펙이랑 ㄱ사이즈몰라?\\n사이즈표\\n밑에있덩\\nㅇㅂㅇ\\n저 나자모델\\n유니클로 일하던얘 답장없어서 답답해 디지겠당><\\n남자모델 스펙안나와잇냐\\n아닠ㅋㅋㅋㅋㅋㅋㅋㅋㅋ저 내가캡쳐한거에\\n나와있다구 ㅇㅂㅇ', '돈벌면 3만원씩 살거야..\\n5만원은 안됨\\nㄹㅇ\\n1만5천원은 로또 1만5천원은 스피또한다\\n3등이라도 되고싶음\\nㄹㅇ...\\n나는 반해서 연금복원 사볼게\\n연금복권도 괜찮데.. 1등하기만 한다면...\\n연금복권 나는 조맞추는거부터 항상 광탈하더라\\n나는 아직도 잘 모르겠어\\n진짜 뭔소린지..\\nㅋㅋㅋㅋㅋㅋㅋㅋ 그래서 쉬운 로또 자동만해\\nㅋㅋㅋㅋㅋㅋㅋㅋㅋㅋㅋ역시\\n심플이즈 베스트 아잉교', '야지마켓에서\\n아키? 그운동화\\n겁나싸게파는데\\n아키가유명하니\\n아키가뭐야?\\n우쒸\\n나도사실처음들어봤다\\n이엑스아이디가\\n모델이래\\n운동화가예쁘어\\n개싸\\nㅋㅋㅋㅋㄱㅋㅋㅋㅋ\\n이쁘면사ㅋㄱㅋㄱ\\n너무안유명해도쫌.....\\n허허헣\\nㅋㅋㅋㅋㅋㅋㅋㅋㅋㅋ\\n사람들은모를거야\\n그래\\n야운동화가삼만원이라니\\n....\\n너도사ㅋㄱㅋ', '우리 토욜에 나 올리브영 가야함\\n잊지마셈\\n꼭\\n가야함\\nㅋㅋㅋㅋㅋㅋㅋㅋㅋㅋㅋㅋㅋㅋㅋㅋㅋㅋㅋㅋㅋㅋㅋㅋㅋㅋㅋㅋㅋㅋㅋ\\n올영\\n왜가야해??\\n나 폼클사러\\n아아 알겠어\\n매달 투썸/ 올영/ 뚜주/ 씨지비 / cj몰 한번씩 이용해야함\\n그래야 포인트 100%환급\\nㅋㅋㅋㅋㅋㅋㅋㅋㅋㅋㅋㅋㅋㅋㅋㅋㅋㅋㅋㅋㅋㅋㅋㅋㅋㅋㅋㅋㅋㅋㅋㅋㅋㅋㅋ\\n노예다 노예\\nㅋㅋㅋㅋㅋㅋㅋ\\nCJ의 노예', '저도 한번\\n구경해보러\\nㅋㅋㅋㅋ ㄱㄱ\\n가즈아\\n먹을게 뭐가 잇죠~~\\n지금\\n용가리랑 치킨너겟 세일한다\\n#@시스템#기타#\\n#@이모티콘#\\n야 저\\n하림 치킨너겟\\n존맛\\n알지?\\n용가리도 존맛\\n내 취행은 용가리\\n하지만 치킨너겟도 허니머스타드에 찍어먹으면\\n맛이쥬\\n#@기타# 근데\\n무배를 채울정도는 안되네..\\n사만원 채워야 무배\\n긍께 ㅡㅡ']\n"
          ]
        },
        {
          "output_type": "stream",
          "name": "stderr",
          "text": [
            "\n"
          ]
        }
      ]
    }
  ]
}